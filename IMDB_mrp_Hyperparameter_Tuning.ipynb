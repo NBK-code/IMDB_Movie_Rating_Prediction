{
  "nbformat": 4,
  "nbformat_minor": 0,
  "metadata": {
    "colab": {
      "provenance": [],
      "authorship_tag": "ABX9TyMpppOjwIxG/5lm8N6q5oyB",
      "include_colab_link": true
    },
    "kernelspec": {
      "name": "python3",
      "display_name": "Python 3"
    },
    "language_info": {
      "name": "python"
    }
  },
  "cells": [
    {
      "cell_type": "markdown",
      "metadata": {
        "id": "view-in-github",
        "colab_type": "text"
      },
      "source": [
        "<a href=\"https://colab.research.google.com/github/NBK-code/IMDb-Rating-Prediction/blob/main/IMDB_mrp_Hyperparameter_Tuning.ipynb\" target=\"_parent\"><img src=\"https://colab.research.google.com/assets/colab-badge.svg\" alt=\"Open In Colab\"/></a>"
      ]
    },
    {
      "cell_type": "code",
      "execution_count": 23,
      "metadata": {
        "id": "h9mDsCwOwBO-"
      },
      "outputs": [],
      "source": [
        "# data analysis and wrangling\n",
        "import pandas as pd\n",
        "import numpy as np\n",
        "import random as rnd\n",
        "\n",
        "# visualization\n",
        "import seaborn as sns\n",
        "import matplotlib.pyplot as plt\n",
        "%matplotlib inline\n",
        "\n",
        "# machine learning\n",
        "from xgboost import XGBRegressor\n",
        "\n",
        "from sklearn.model_selection import RandomizedSearchCV\n",
        "\n",
        "from sklearn.metrics import mean_squared_error\n",
        "from sklearn.metrics import mean_absolute_error as mae"
      ]
    },
    {
      "cell_type": "code",
      "source": [
        "X_train = pd.read_csv('/content/X_train_scaled.csv')\n",
        "X_val = pd.read_csv('/content/X_val_scaled.csv')\n",
        "X_test = pd.read_csv('/content/X_test_scaled.csv')"
      ],
      "metadata": {
        "id": "9wpzUgyrxs2k"
      },
      "execution_count": 3,
      "outputs": []
    },
    {
      "cell_type": "code",
      "source": [
        "y_train = pd.read_csv('/content/y_train_scaled.csv')\n",
        "y_val = pd.read_csv('/content/y_val_scaled.csv')\n",
        "y_test = pd.read_csv('/content/y_test_scaled.csv')"
      ],
      "metadata": {
        "id": "c15LATC7x0aF"
      },
      "execution_count": 4,
      "outputs": []
    },
    {
      "cell_type": "code",
      "source": [
        "X_train.shape, X_val.shape, X_test.shape, y_train.shape, y_val.shape, y_test.shape"
      ],
      "metadata": {
        "colab": {
          "base_uri": "https://localhost:8080/"
        },
        "id": "Y2gRRmaGyA1N",
        "outputId": "1ae750cb-2a95-4e6d-a8b2-82d23e4f55db"
      },
      "execution_count": 5,
      "outputs": [
        {
          "output_type": "execute_result",
          "data": {
            "text/plain": [
              "((3727, 43), (466, 43), (466, 43), (3727, 2), (466, 2), (466, 2))"
            ]
          },
          "metadata": {},
          "execution_count": 5
        }
      ]
    },
    {
      "cell_type": "code",
      "source": [
        "X_train.drop(columns=['Unnamed: 0'], inplace=True)\n",
        "X_test.drop(columns=['Unnamed: 0'], inplace=True)\n",
        "X_val.drop(columns=['Unnamed: 0'], inplace=True)"
      ],
      "metadata": {
        "id": "m17u_HhxyD1W"
      },
      "execution_count": 6,
      "outputs": []
    },
    {
      "cell_type": "code",
      "source": [
        "y_train.drop(columns=['Unnamed: 0'], inplace=True)\n",
        "y_test.drop(columns=['Unnamed: 0'], inplace=True)\n",
        "y_val.drop(columns=['Unnamed: 0'], inplace=True)"
      ],
      "metadata": {
        "id": "HWGZPIjHyJMB"
      },
      "execution_count": 7,
      "outputs": []
    },
    {
      "cell_type": "code",
      "source": [
        "X_train_np = X_train.to_numpy()\n",
        "X_test_np = X_test.to_numpy()\n",
        "X_val_np = X_val.to_numpy()"
      ],
      "metadata": {
        "id": "8fOzDRsUyLpU"
      },
      "execution_count": 8,
      "outputs": []
    },
    {
      "cell_type": "code",
      "source": [
        "y_train_np = y_train.to_numpy()\n",
        "y_test_np = y_test.to_numpy()\n",
        "y_val_np = y_val.to_numpy()"
      ],
      "metadata": {
        "id": "vm7qhuJEyOhH"
      },
      "execution_count": 9,
      "outputs": []
    },
    {
      "cell_type": "code",
      "source": [
        "X_train_np.shape, X_test_np.shape, X_val_np.shape"
      ],
      "metadata": {
        "colab": {
          "base_uri": "https://localhost:8080/"
        },
        "id": "Bab_oeL8yQ56",
        "outputId": "dcc609e6-012d-4459-e8d7-94749968e3ac"
      },
      "execution_count": 10,
      "outputs": [
        {
          "output_type": "execute_result",
          "data": {
            "text/plain": [
              "((3727, 42), (466, 42), (466, 42))"
            ]
          },
          "metadata": {},
          "execution_count": 10
        }
      ]
    },
    {
      "cell_type": "code",
      "source": [
        "y_train_np.shape, y_test_np.shape, y_val_np.shape"
      ],
      "metadata": {
        "colab": {
          "base_uri": "https://localhost:8080/"
        },
        "id": "Tvys86JXyTPe",
        "outputId": "7738172c-58d4-484c-e456-9eb241d05ce8"
      },
      "execution_count": 11,
      "outputs": [
        {
          "output_type": "execute_result",
          "data": {
            "text/plain": [
              "((3727, 1), (466, 1), (466, 1))"
            ]
          },
          "metadata": {},
          "execution_count": 11
        }
      ]
    },
    {
      "cell_type": "code",
      "source": [
        "y_train_np = y_train_np.flatten()\n",
        "y_test_np = y_test_np.flatten()\n",
        "y_val_np = y_val_np.flatten()"
      ],
      "metadata": {
        "id": "_74PJbqTyVwH"
      },
      "execution_count": 12,
      "outputs": []
    },
    {
      "cell_type": "code",
      "source": [
        "y_train_np.shape, y_test_np.shape, y_val_np.shape"
      ],
      "metadata": {
        "colab": {
          "base_uri": "https://localhost:8080/"
        },
        "id": "Cl0zWdsyyYoH",
        "outputId": "e92b18af-7342-4c25-a050-979ccbb12562"
      },
      "execution_count": 13,
      "outputs": [
        {
          "output_type": "execute_result",
          "data": {
            "text/plain": [
              "((3727,), (466,), (466,))"
            ]
          },
          "metadata": {},
          "execution_count": 13
        }
      ]
    },
    {
      "cell_type": "code",
      "source": [
        "xgb_regressor=XGBRegressor(n_estimators=100, max_depth = 6, verbosity = 0)"
      ],
      "metadata": {
        "id": "1g2nT-EoybC5"
      },
      "execution_count": 15,
      "outputs": []
    },
    {
      "cell_type": "code",
      "source": [
        "#Reproducing Previous Result\n",
        "\n",
        "xgb_regressor.fit(X_train_np,y_train_np)\n",
        "predictions = xgb_regressor.predict(X_test_np)\n",
        "errors = abs(predictions - y_test_np)\n",
        "mape = 100 * (errors / y_test_np)\n",
        "accuracy = 100 - np.mean(mape)\n",
        "print('Test Accuracy:', round(accuracy, 2), '%')\n",
        "print('Test error:', round(mae(y_val_np, xgb_regressor.predict(X_test_np)),5))"
      ],
      "metadata": {
        "colab": {
          "base_uri": "https://localhost:8080/"
        },
        "id": "ltc5wmWzy7UJ",
        "outputId": "0b074125-15f3-49bd-9b3d-53d13bf1b8b1"
      },
      "execution_count": 18,
      "outputs": [
        {
          "output_type": "stream",
          "name": "stdout",
          "text": [
            "Test Accuracy: 89.77 %\n",
            "Test error: 1.00444\n"
          ]
        }
      ]
    },
    {
      "cell_type": "code",
      "source": [
        "## Hyper Parameter Optimization\n",
        "n_estimators = [100, 500, 900, 1100, 1500]\n",
        "max_depth = [2, 3, 5, 10, 15]\n",
        "booster=['gbtree','gblinear']\n",
        "learning_rate=[0.05,0.1,0.15,0.20]\n",
        "min_child_weight=[1,2,3,4]\n",
        "base_score=[0.25,0.5,0.75,1]\n",
        "\n",
        "# Define the grid of hyperparameters to search\n",
        "hyperparameter_grid = {\n",
        "    'n_estimators': n_estimators,\n",
        "    'max_depth':max_depth,\n",
        "    'learning_rate':learning_rate,\n",
        "    'min_child_weight':min_child_weight,\n",
        "    'booster':booster,\n",
        "    'base_score':base_score\n",
        "    }"
      ],
      "metadata": {
        "id": "Wrqpu9D_2JqQ"
      },
      "execution_count": 22,
      "outputs": []
    },
    {
      "cell_type": "code",
      "source": [
        "xgb_regressor = XGBRegressor()"
      ],
      "metadata": {
        "id": "87S0fbS15T5c"
      },
      "execution_count": null,
      "outputs": []
    },
    {
      "cell_type": "code",
      "source": [
        "# Set up the random search with 5-fold cross validation\n",
        "random_cv = RandomizedSearchCV(estimator=xgb_regressor,\n",
        "            param_distributions=hyperparameter_grid,\n",
        "            cv=5, n_iter=50,\n",
        "            scoring = 'neg_mean_absolute_error',n_jobs = 4,\n",
        "            verbose = 5, \n",
        "            return_train_score = True,\n",
        "            random_state=42)"
      ],
      "metadata": {
        "id": "pZfXIlj946vL"
      },
      "execution_count": 24,
      "outputs": []
    },
    {
      "cell_type": "code",
      "source": [
        "random_cv.fit(X_train_np,y_train_np)"
      ],
      "metadata": {
        "colab": {
          "base_uri": "https://localhost:8080/"
        },
        "id": "9IQ6mKTo5xyn",
        "outputId": "a08841b8-c192-4d1d-82cc-fff334901479"
      },
      "execution_count": 25,
      "outputs": [
        {
          "output_type": "stream",
          "name": "stdout",
          "text": [
            "Fitting 5 folds for each of 50 candidates, totalling 250 fits\n"
          ]
        },
        {
          "output_type": "execute_result",
          "data": {
            "text/plain": [
              "RandomizedSearchCV(cv=5, estimator=XGBRegressor(max_depth=6, verbosity=0),\n",
              "                   n_iter=50, n_jobs=4,\n",
              "                   param_distributions={'base_score': [0.25, 0.5, 0.75, 1],\n",
              "                                        'booster': ['gbtree', 'gblinear'],\n",
              "                                        'learning_rate': [0.05, 0.1, 0.15, 0.2],\n",
              "                                        'max_depth': [2, 3, 5, 10, 15],\n",
              "                                        'min_child_weight': [1, 2, 3, 4],\n",
              "                                        'n_estimators': [100, 500, 900, 1100,\n",
              "                                                         1500]},\n",
              "                   random_state=42, return_train_score=True,\n",
              "                   scoring='neg_mean_absolute_error', verbose=5)"
            ]
          },
          "metadata": {},
          "execution_count": 25
        }
      ]
    },
    {
      "cell_type": "code",
      "source": [
        "random_cv.best_estimator_"
      ],
      "metadata": {
        "colab": {
          "base_uri": "https://localhost:8080/"
        },
        "id": "6RegGcQT57zy",
        "outputId": "a034809b-0c79-41e9-fa63-ef16e0fbdb83"
      },
      "execution_count": 26,
      "outputs": [
        {
          "output_type": "execute_result",
          "data": {
            "text/plain": [
              "XGBRegressor(learning_rate=0.05, max_depth=15, min_child_weight=4,\n",
              "             n_estimators=900, verbosity=0)"
            ]
          },
          "metadata": {},
          "execution_count": 26
        }
      ]
    },
    {
      "cell_type": "code",
      "source": [
        "xgb_regressor = XGBRegressor(learning_rate=0.05, \n",
        "                             max_depth=15, min_child_weight=4,\n",
        "                             n_estimators=900, verbosity=0)"
      ],
      "metadata": {
        "id": "2fl5rAyr6Gvy"
      },
      "execution_count": 27,
      "outputs": []
    },
    {
      "cell_type": "code",
      "source": [
        "xgb_regressor.fit(X_train_np,y_train_np)\n",
        "predictions = xgb_regressor.predict(X_test_np)\n",
        "errors = abs(predictions - y_test_np)\n",
        "mape = 100 * (errors / y_test_np)\n",
        "accuracy = 100 - np.mean(mape)\n",
        "print('Test Accuracy:', round(accuracy, 2), '%')\n",
        "print('Test error:', round(mae(y_val_np, xgb_regressor.predict(X_test_np)),5))"
      ],
      "metadata": {
        "colab": {
          "base_uri": "https://localhost:8080/"
        },
        "id": "6jwbKtKP9NCc",
        "outputId": "7953b2bb-4627-46dd-eb6c-0199469b3e22"
      },
      "execution_count": 28,
      "outputs": [
        {
          "output_type": "stream",
          "name": "stdout",
          "text": [
            "Test Accuracy: 90.12 %\n",
            "Test error: 1.01132\n"
          ]
        }
      ]
    },
    {
      "cell_type": "code",
      "source": [],
      "metadata": {
        "id": "y2pDaDRW9W2z"
      },
      "execution_count": null,
      "outputs": []
    }
  ]
}