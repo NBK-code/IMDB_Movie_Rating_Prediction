{
  "nbformat": 4,
  "nbformat_minor": 0,
  "metadata": {
    "colab": {
      "name": "IMDB_mrp_Model_Selection.ipynb",
      "provenance": [],
      "collapsed_sections": [],
      "authorship_tag": "ABX9TyMIvmJ0T7OsZhzwf6HfbLfC",
      "include_colab_link": true
    },
    "kernelspec": {
      "name": "python3",
      "display_name": "Python 3"
    },
    "language_info": {
      "name": "python"
    }
  },
  "cells": [
    {
      "cell_type": "markdown",
      "metadata": {
        "id": "view-in-github",
        "colab_type": "text"
      },
      "source": [
        "<a href=\"https://colab.research.google.com/github/NBK-code/IMDB_Movie_Rating_Prediction/blob/main/IMDB_mrp_Model_Selection.ipynb\" target=\"_parent\"><img src=\"https://colab.research.google.com/assets/colab-badge.svg\" alt=\"Open In Colab\"/></a>"
      ]
    },
    {
      "cell_type": "markdown",
      "source": [
        "#1. Import Neccessary Libraries"
      ],
      "metadata": {
        "id": "v-qBsQm2siRf"
      }
    },
    {
      "cell_type": "code",
      "execution_count": 201,
      "metadata": {
        "id": "Z9q4Xqw2VITF"
      },
      "outputs": [],
      "source": [
        "# data analysis and wrangling\n",
        "import pandas as pd\n",
        "import numpy as np\n",
        "import random as rnd\n",
        "\n",
        "# visualization\n",
        "import seaborn as sns\n",
        "import matplotlib.pyplot as plt\n",
        "%matplotlib inline\n",
        "\n",
        "# machine learning\n",
        "from sklearn.tree import DecisionTreeRegressor\n",
        "from sklearn.ensemble import RandomForestRegressor\n",
        "from xgboost import XGBRegressor"
      ]
    },
    {
      "cell_type": "markdown",
      "source": [
        "#2. Prepare Train, Val and Test Datasets"
      ],
      "metadata": {
        "id": "zYhbRJ2PswHV"
      }
    },
    {
      "cell_type": "code",
      "source": [
        "X_train = pd.read_csv('/content/sample_data/X_train_scaled.csv')\n",
        "X_val = pd.read_csv('/content/sample_data/X_val_scaled.csv')\n",
        "X_test = pd.read_csv('/content/sample_data/X_test_scaled.csv')"
      ],
      "metadata": {
        "id": "Qqy5Wp2KVO4g"
      },
      "execution_count": 202,
      "outputs": []
    },
    {
      "cell_type": "code",
      "source": [
        "y_train = pd.read_csv('/content/sample_data/y_train_scaled.csv')\n",
        "y_val = pd.read_csv('/content/sample_data/y_val_scaled.csv')\n",
        "y_test = pd.read_csv('/content/sample_data/y_test_scaled.csv')"
      ],
      "metadata": {
        "id": "1Z6-OXJtV8j8"
      },
      "execution_count": 203,
      "outputs": []
    },
    {
      "cell_type": "code",
      "source": [
        "X_train.shape, X_val.shape, X_test.shape, y_train.shape, y_val.shape, y_test.shape"
      ],
      "metadata": {
        "colab": {
          "base_uri": "https://localhost:8080/"
        },
        "id": "SPCavzl1WFQ9",
        "outputId": "e8c6c9a0-d690-4572-db63-c1743c8117a5"
      },
      "execution_count": 204,
      "outputs": [
        {
          "output_type": "execute_result",
          "data": {
            "text/plain": [
              "((3727, 43), (466, 43), (466, 43), (3727, 2), (466, 2), (466, 2))"
            ]
          },
          "metadata": {},
          "execution_count": 204
        }
      ]
    },
    {
      "cell_type": "code",
      "source": [
        "X_train.head()"
      ],
      "metadata": {
        "colab": {
          "base_uri": "https://localhost:8080/",
          "height": 317
        },
        "id": "zVvGOSQIa51g",
        "outputId": "5c54e391-b779-460f-a851-2e89e3d02336"
      },
      "execution_count": 205,
      "outputs": [
        {
          "output_type": "execute_result",
          "data": {
            "text/plain": [
              "   Unnamed: 0  USA   UK  France  Canada    R  PG-13   PG    G  History  ...  \\\n",
              "0           0  1.0  0.0     0.0     0.0  1.0    0.0  0.0  0.0      0.0  ...   \n",
              "1           1  1.0  0.0     0.0     0.0  0.0    1.0  0.0  0.0      0.0  ...   \n",
              "2           2  1.0  0.0     0.0     0.0  0.0    1.0  0.0  0.0      0.0  ...   \n",
              "3           3  1.0  0.0     0.0     0.0  1.0    0.0  0.0  0.0      0.0  ...   \n",
              "4           4  0.0  0.0     0.0     0.0  1.0    0.0  0.0  0.0      0.0  ...   \n",
              "\n",
              "   duration  director_facebook_likes  actor_3_facebook_likes  \\\n",
              "0 -0.498952                -0.913619               -0.520577   \n",
              "1  1.251562                -1.610674                2.235354   \n",
              "2 -0.329754                 0.170832                0.027888   \n",
              "3  1.138383                 0.546689                0.252142   \n",
              "4 -1.534721                 1.130255               -1.399331   \n",
              "\n",
              "   actor_1_facebook_likes     gross  num_voted_users  facenumber_in_poster  \\\n",
              "0               -0.824608 -1.963551        -1.720132              0.283456   \n",
              "1                1.468370  2.521017         1.767974              0.283456   \n",
              "2                0.987340  0.715569        -0.074789              0.860275   \n",
              "3                1.354480  0.801017         2.382668              0.283456   \n",
              "4               -0.779355 -0.644141         0.991469              0.283456   \n",
              "\n",
              "     budget  actor_2_facebook_likes  movie_facebook_likes  \n",
              "0 -1.663723               -0.799471              0.590718  \n",
              "1  2.133861                2.128717             -1.051257  \n",
              "2  0.325623                1.772617             -1.051257  \n",
              "3  0.818355                0.334583              1.415094  \n",
              "4 -1.074267               -1.688927             -1.051257  \n",
              "\n",
              "[5 rows x 43 columns]"
            ],
            "text/html": [
              "\n",
              "  <div id=\"df-245849f4-a5e8-4e1c-8154-a758d8757041\">\n",
              "    <div class=\"colab-df-container\">\n",
              "      <div>\n",
              "<style scoped>\n",
              "    .dataframe tbody tr th:only-of-type {\n",
              "        vertical-align: middle;\n",
              "    }\n",
              "\n",
              "    .dataframe tbody tr th {\n",
              "        vertical-align: top;\n",
              "    }\n",
              "\n",
              "    .dataframe thead th {\n",
              "        text-align: right;\n",
              "    }\n",
              "</style>\n",
              "<table border=\"1\" class=\"dataframe\">\n",
              "  <thead>\n",
              "    <tr style=\"text-align: right;\">\n",
              "      <th></th>\n",
              "      <th>Unnamed: 0</th>\n",
              "      <th>USA</th>\n",
              "      <th>UK</th>\n",
              "      <th>France</th>\n",
              "      <th>Canada</th>\n",
              "      <th>R</th>\n",
              "      <th>PG-13</th>\n",
              "      <th>PG</th>\n",
              "      <th>G</th>\n",
              "      <th>History</th>\n",
              "      <th>...</th>\n",
              "      <th>duration</th>\n",
              "      <th>director_facebook_likes</th>\n",
              "      <th>actor_3_facebook_likes</th>\n",
              "      <th>actor_1_facebook_likes</th>\n",
              "      <th>gross</th>\n",
              "      <th>num_voted_users</th>\n",
              "      <th>facenumber_in_poster</th>\n",
              "      <th>budget</th>\n",
              "      <th>actor_2_facebook_likes</th>\n",
              "      <th>movie_facebook_likes</th>\n",
              "    </tr>\n",
              "  </thead>\n",
              "  <tbody>\n",
              "    <tr>\n",
              "      <th>0</th>\n",
              "      <td>0</td>\n",
              "      <td>1.0</td>\n",
              "      <td>0.0</td>\n",
              "      <td>0.0</td>\n",
              "      <td>0.0</td>\n",
              "      <td>1.0</td>\n",
              "      <td>0.0</td>\n",
              "      <td>0.0</td>\n",
              "      <td>0.0</td>\n",
              "      <td>0.0</td>\n",
              "      <td>...</td>\n",
              "      <td>-0.498952</td>\n",
              "      <td>-0.913619</td>\n",
              "      <td>-0.520577</td>\n",
              "      <td>-0.824608</td>\n",
              "      <td>-1.963551</td>\n",
              "      <td>-1.720132</td>\n",
              "      <td>0.283456</td>\n",
              "      <td>-1.663723</td>\n",
              "      <td>-0.799471</td>\n",
              "      <td>0.590718</td>\n",
              "    </tr>\n",
              "    <tr>\n",
              "      <th>1</th>\n",
              "      <td>1</td>\n",
              "      <td>1.0</td>\n",
              "      <td>0.0</td>\n",
              "      <td>0.0</td>\n",
              "      <td>0.0</td>\n",
              "      <td>0.0</td>\n",
              "      <td>1.0</td>\n",
              "      <td>0.0</td>\n",
              "      <td>0.0</td>\n",
              "      <td>0.0</td>\n",
              "      <td>...</td>\n",
              "      <td>1.251562</td>\n",
              "      <td>-1.610674</td>\n",
              "      <td>2.235354</td>\n",
              "      <td>1.468370</td>\n",
              "      <td>2.521017</td>\n",
              "      <td>1.767974</td>\n",
              "      <td>0.283456</td>\n",
              "      <td>2.133861</td>\n",
              "      <td>2.128717</td>\n",
              "      <td>-1.051257</td>\n",
              "    </tr>\n",
              "    <tr>\n",
              "      <th>2</th>\n",
              "      <td>2</td>\n",
              "      <td>1.0</td>\n",
              "      <td>0.0</td>\n",
              "      <td>0.0</td>\n",
              "      <td>0.0</td>\n",
              "      <td>0.0</td>\n",
              "      <td>1.0</td>\n",
              "      <td>0.0</td>\n",
              "      <td>0.0</td>\n",
              "      <td>0.0</td>\n",
              "      <td>...</td>\n",
              "      <td>-0.329754</td>\n",
              "      <td>0.170832</td>\n",
              "      <td>0.027888</td>\n",
              "      <td>0.987340</td>\n",
              "      <td>0.715569</td>\n",
              "      <td>-0.074789</td>\n",
              "      <td>0.860275</td>\n",
              "      <td>0.325623</td>\n",
              "      <td>1.772617</td>\n",
              "      <td>-1.051257</td>\n",
              "    </tr>\n",
              "    <tr>\n",
              "      <th>3</th>\n",
              "      <td>3</td>\n",
              "      <td>1.0</td>\n",
              "      <td>0.0</td>\n",
              "      <td>0.0</td>\n",
              "      <td>0.0</td>\n",
              "      <td>1.0</td>\n",
              "      <td>0.0</td>\n",
              "      <td>0.0</td>\n",
              "      <td>0.0</td>\n",
              "      <td>0.0</td>\n",
              "      <td>...</td>\n",
              "      <td>1.138383</td>\n",
              "      <td>0.546689</td>\n",
              "      <td>0.252142</td>\n",
              "      <td>1.354480</td>\n",
              "      <td>0.801017</td>\n",
              "      <td>2.382668</td>\n",
              "      <td>0.283456</td>\n",
              "      <td>0.818355</td>\n",
              "      <td>0.334583</td>\n",
              "      <td>1.415094</td>\n",
              "    </tr>\n",
              "    <tr>\n",
              "      <th>4</th>\n",
              "      <td>4</td>\n",
              "      <td>0.0</td>\n",
              "      <td>0.0</td>\n",
              "      <td>0.0</td>\n",
              "      <td>0.0</td>\n",
              "      <td>1.0</td>\n",
              "      <td>0.0</td>\n",
              "      <td>0.0</td>\n",
              "      <td>0.0</td>\n",
              "      <td>0.0</td>\n",
              "      <td>...</td>\n",
              "      <td>-1.534721</td>\n",
              "      <td>1.130255</td>\n",
              "      <td>-1.399331</td>\n",
              "      <td>-0.779355</td>\n",
              "      <td>-0.644141</td>\n",
              "      <td>0.991469</td>\n",
              "      <td>0.283456</td>\n",
              "      <td>-1.074267</td>\n",
              "      <td>-1.688927</td>\n",
              "      <td>-1.051257</td>\n",
              "    </tr>\n",
              "  </tbody>\n",
              "</table>\n",
              "<p>5 rows × 43 columns</p>\n",
              "</div>\n",
              "      <button class=\"colab-df-convert\" onclick=\"convertToInteractive('df-245849f4-a5e8-4e1c-8154-a758d8757041')\"\n",
              "              title=\"Convert this dataframe to an interactive table.\"\n",
              "              style=\"display:none;\">\n",
              "        \n",
              "  <svg xmlns=\"http://www.w3.org/2000/svg\" height=\"24px\"viewBox=\"0 0 24 24\"\n",
              "       width=\"24px\">\n",
              "    <path d=\"M0 0h24v24H0V0z\" fill=\"none\"/>\n",
              "    <path d=\"M18.56 5.44l.94 2.06.94-2.06 2.06-.94-2.06-.94-.94-2.06-.94 2.06-2.06.94zm-11 1L8.5 8.5l.94-2.06 2.06-.94-2.06-.94L8.5 2.5l-.94 2.06-2.06.94zm10 10l.94 2.06.94-2.06 2.06-.94-2.06-.94-.94-2.06-.94 2.06-2.06.94z\"/><path d=\"M17.41 7.96l-1.37-1.37c-.4-.4-.92-.59-1.43-.59-.52 0-1.04.2-1.43.59L10.3 9.45l-7.72 7.72c-.78.78-.78 2.05 0 2.83L4 21.41c.39.39.9.59 1.41.59.51 0 1.02-.2 1.41-.59l7.78-7.78 2.81-2.81c.8-.78.8-2.07 0-2.86zM5.41 20L4 18.59l7.72-7.72 1.47 1.35L5.41 20z\"/>\n",
              "  </svg>\n",
              "      </button>\n",
              "      \n",
              "  <style>\n",
              "    .colab-df-container {\n",
              "      display:flex;\n",
              "      flex-wrap:wrap;\n",
              "      gap: 12px;\n",
              "    }\n",
              "\n",
              "    .colab-df-convert {\n",
              "      background-color: #E8F0FE;\n",
              "      border: none;\n",
              "      border-radius: 50%;\n",
              "      cursor: pointer;\n",
              "      display: none;\n",
              "      fill: #1967D2;\n",
              "      height: 32px;\n",
              "      padding: 0 0 0 0;\n",
              "      width: 32px;\n",
              "    }\n",
              "\n",
              "    .colab-df-convert:hover {\n",
              "      background-color: #E2EBFA;\n",
              "      box-shadow: 0px 1px 2px rgba(60, 64, 67, 0.3), 0px 1px 3px 1px rgba(60, 64, 67, 0.15);\n",
              "      fill: #174EA6;\n",
              "    }\n",
              "\n",
              "    [theme=dark] .colab-df-convert {\n",
              "      background-color: #3B4455;\n",
              "      fill: #D2E3FC;\n",
              "    }\n",
              "\n",
              "    [theme=dark] .colab-df-convert:hover {\n",
              "      background-color: #434B5C;\n",
              "      box-shadow: 0px 1px 3px 1px rgba(0, 0, 0, 0.15);\n",
              "      filter: drop-shadow(0px 1px 2px rgba(0, 0, 0, 0.3));\n",
              "      fill: #FFFFFF;\n",
              "    }\n",
              "  </style>\n",
              "\n",
              "      <script>\n",
              "        const buttonEl =\n",
              "          document.querySelector('#df-245849f4-a5e8-4e1c-8154-a758d8757041 button.colab-df-convert');\n",
              "        buttonEl.style.display =\n",
              "          google.colab.kernel.accessAllowed ? 'block' : 'none';\n",
              "\n",
              "        async function convertToInteractive(key) {\n",
              "          const element = document.querySelector('#df-245849f4-a5e8-4e1c-8154-a758d8757041');\n",
              "          const dataTable =\n",
              "            await google.colab.kernel.invokeFunction('convertToInteractive',\n",
              "                                                     [key], {});\n",
              "          if (!dataTable) return;\n",
              "\n",
              "          const docLinkHtml = 'Like what you see? Visit the ' +\n",
              "            '<a target=\"_blank\" href=https://colab.research.google.com/notebooks/data_table.ipynb>data table notebook</a>'\n",
              "            + ' to learn more about interactive tables.';\n",
              "          element.innerHTML = '';\n",
              "          dataTable['output_type'] = 'display_data';\n",
              "          await google.colab.output.renderOutput(dataTable, element);\n",
              "          const docLink = document.createElement('div');\n",
              "          docLink.innerHTML = docLinkHtml;\n",
              "          element.appendChild(docLink);\n",
              "        }\n",
              "      </script>\n",
              "    </div>\n",
              "  </div>\n",
              "  "
            ]
          },
          "metadata": {},
          "execution_count": 205
        }
      ]
    },
    {
      "cell_type": "code",
      "source": [
        "y_train.head()"
      ],
      "metadata": {
        "colab": {
          "base_uri": "https://localhost:8080/",
          "height": 206
        },
        "id": "h2fHbamma9YT",
        "outputId": "9116976d-6a18-47cf-93b2-ff0411908aee"
      },
      "execution_count": 206,
      "outputs": [
        {
          "output_type": "execute_result",
          "data": {
            "text/plain": [
              "   Unnamed: 0  imdb_score\n",
              "0           0         5.5\n",
              "1           1         7.3\n",
              "2           2         6.3\n",
              "3           3         8.2\n",
              "4           4         7.8"
            ],
            "text/html": [
              "\n",
              "  <div id=\"df-91985248-a2b3-4d81-974a-78bb1337843b\">\n",
              "    <div class=\"colab-df-container\">\n",
              "      <div>\n",
              "<style scoped>\n",
              "    .dataframe tbody tr th:only-of-type {\n",
              "        vertical-align: middle;\n",
              "    }\n",
              "\n",
              "    .dataframe tbody tr th {\n",
              "        vertical-align: top;\n",
              "    }\n",
              "\n",
              "    .dataframe thead th {\n",
              "        text-align: right;\n",
              "    }\n",
              "</style>\n",
              "<table border=\"1\" class=\"dataframe\">\n",
              "  <thead>\n",
              "    <tr style=\"text-align: right;\">\n",
              "      <th></th>\n",
              "      <th>Unnamed: 0</th>\n",
              "      <th>imdb_score</th>\n",
              "    </tr>\n",
              "  </thead>\n",
              "  <tbody>\n",
              "    <tr>\n",
              "      <th>0</th>\n",
              "      <td>0</td>\n",
              "      <td>5.5</td>\n",
              "    </tr>\n",
              "    <tr>\n",
              "      <th>1</th>\n",
              "      <td>1</td>\n",
              "      <td>7.3</td>\n",
              "    </tr>\n",
              "    <tr>\n",
              "      <th>2</th>\n",
              "      <td>2</td>\n",
              "      <td>6.3</td>\n",
              "    </tr>\n",
              "    <tr>\n",
              "      <th>3</th>\n",
              "      <td>3</td>\n",
              "      <td>8.2</td>\n",
              "    </tr>\n",
              "    <tr>\n",
              "      <th>4</th>\n",
              "      <td>4</td>\n",
              "      <td>7.8</td>\n",
              "    </tr>\n",
              "  </tbody>\n",
              "</table>\n",
              "</div>\n",
              "      <button class=\"colab-df-convert\" onclick=\"convertToInteractive('df-91985248-a2b3-4d81-974a-78bb1337843b')\"\n",
              "              title=\"Convert this dataframe to an interactive table.\"\n",
              "              style=\"display:none;\">\n",
              "        \n",
              "  <svg xmlns=\"http://www.w3.org/2000/svg\" height=\"24px\"viewBox=\"0 0 24 24\"\n",
              "       width=\"24px\">\n",
              "    <path d=\"M0 0h24v24H0V0z\" fill=\"none\"/>\n",
              "    <path d=\"M18.56 5.44l.94 2.06.94-2.06 2.06-.94-2.06-.94-.94-2.06-.94 2.06-2.06.94zm-11 1L8.5 8.5l.94-2.06 2.06-.94-2.06-.94L8.5 2.5l-.94 2.06-2.06.94zm10 10l.94 2.06.94-2.06 2.06-.94-2.06-.94-.94-2.06-.94 2.06-2.06.94z\"/><path d=\"M17.41 7.96l-1.37-1.37c-.4-.4-.92-.59-1.43-.59-.52 0-1.04.2-1.43.59L10.3 9.45l-7.72 7.72c-.78.78-.78 2.05 0 2.83L4 21.41c.39.39.9.59 1.41.59.51 0 1.02-.2 1.41-.59l7.78-7.78 2.81-2.81c.8-.78.8-2.07 0-2.86zM5.41 20L4 18.59l7.72-7.72 1.47 1.35L5.41 20z\"/>\n",
              "  </svg>\n",
              "      </button>\n",
              "      \n",
              "  <style>\n",
              "    .colab-df-container {\n",
              "      display:flex;\n",
              "      flex-wrap:wrap;\n",
              "      gap: 12px;\n",
              "    }\n",
              "\n",
              "    .colab-df-convert {\n",
              "      background-color: #E8F0FE;\n",
              "      border: none;\n",
              "      border-radius: 50%;\n",
              "      cursor: pointer;\n",
              "      display: none;\n",
              "      fill: #1967D2;\n",
              "      height: 32px;\n",
              "      padding: 0 0 0 0;\n",
              "      width: 32px;\n",
              "    }\n",
              "\n",
              "    .colab-df-convert:hover {\n",
              "      background-color: #E2EBFA;\n",
              "      box-shadow: 0px 1px 2px rgba(60, 64, 67, 0.3), 0px 1px 3px 1px rgba(60, 64, 67, 0.15);\n",
              "      fill: #174EA6;\n",
              "    }\n",
              "\n",
              "    [theme=dark] .colab-df-convert {\n",
              "      background-color: #3B4455;\n",
              "      fill: #D2E3FC;\n",
              "    }\n",
              "\n",
              "    [theme=dark] .colab-df-convert:hover {\n",
              "      background-color: #434B5C;\n",
              "      box-shadow: 0px 1px 3px 1px rgba(0, 0, 0, 0.15);\n",
              "      filter: drop-shadow(0px 1px 2px rgba(0, 0, 0, 0.3));\n",
              "      fill: #FFFFFF;\n",
              "    }\n",
              "  </style>\n",
              "\n",
              "      <script>\n",
              "        const buttonEl =\n",
              "          document.querySelector('#df-91985248-a2b3-4d81-974a-78bb1337843b button.colab-df-convert');\n",
              "        buttonEl.style.display =\n",
              "          google.colab.kernel.accessAllowed ? 'block' : 'none';\n",
              "\n",
              "        async function convertToInteractive(key) {\n",
              "          const element = document.querySelector('#df-91985248-a2b3-4d81-974a-78bb1337843b');\n",
              "          const dataTable =\n",
              "            await google.colab.kernel.invokeFunction('convertToInteractive',\n",
              "                                                     [key], {});\n",
              "          if (!dataTable) return;\n",
              "\n",
              "          const docLinkHtml = 'Like what you see? Visit the ' +\n",
              "            '<a target=\"_blank\" href=https://colab.research.google.com/notebooks/data_table.ipynb>data table notebook</a>'\n",
              "            + ' to learn more about interactive tables.';\n",
              "          element.innerHTML = '';\n",
              "          dataTable['output_type'] = 'display_data';\n",
              "          await google.colab.output.renderOutput(dataTable, element);\n",
              "          const docLink = document.createElement('div');\n",
              "          docLink.innerHTML = docLinkHtml;\n",
              "          element.appendChild(docLink);\n",
              "        }\n",
              "      </script>\n",
              "    </div>\n",
              "  </div>\n",
              "  "
            ]
          },
          "metadata": {},
          "execution_count": 206
        }
      ]
    },
    {
      "cell_type": "code",
      "source": [
        "X_test.head()"
      ],
      "metadata": {
        "colab": {
          "base_uri": "https://localhost:8080/",
          "height": 317
        },
        "id": "nSUyrrABbXdx",
        "outputId": "0839ef44-338b-454e-e618-3d0493df9252"
      },
      "execution_count": 207,
      "outputs": [
        {
          "output_type": "execute_result",
          "data": {
            "text/plain": [
              "   Unnamed: 0  USA   UK  France  Canada    R  PG-13   PG    G  History  ...  \\\n",
              "0           0  0.0  1.0     0.0     0.0  0.0    1.0  0.0  0.0      0.0  ...   \n",
              "1           1  0.0  1.0     0.0     0.0  1.0    0.0  0.0  0.0      0.0  ...   \n",
              "2           2  1.0  0.0     0.0     0.0  0.0    1.0  0.0  0.0      0.0  ...   \n",
              "3           3  1.0  0.0     0.0     0.0  0.0    1.0  0.0  0.0      0.0  ...   \n",
              "4           4  0.0  0.0     1.0     0.0  1.0    0.0  0.0  0.0      0.0  ...   \n",
              "\n",
              "   duration  director_facebook_likes  actor_3_facebook_likes  \\\n",
              "0 -0.735613                -0.345177                0.252142   \n",
              "1 -1.183926                 0.467845                0.469015   \n",
              "2 -1.116986                 0.442207               -0.939779   \n",
              "3 -0.498952                -0.087962                0.289574   \n",
              "4  0.189124                -0.264540               -1.260674   \n",
              "\n",
              "   actor_1_facebook_likes     gross  num_voted_users  facenumber_in_poster  \\\n",
              "0                0.221824 -0.827408        -1.106576             -1.073757   \n",
              "1               -0.528296 -1.311966        -1.367711              0.860275   \n",
              "2               -0.470996  0.140587         0.613339             -1.073757   \n",
              "3               -0.761191 -1.223630        -0.828640              0.283456   \n",
              "4                0.517600  0.060209        -0.630798             -1.073757   \n",
              "\n",
              "     budget  actor_2_facebook_likes  movie_facebook_likes  \n",
              "0  0.559955               -0.060395              0.231648  \n",
              "1 -1.663723                0.101769              0.314002  \n",
              "2  0.912601               -0.199589              1.249540  \n",
              "3 -0.144204               -0.131906             -1.051257  \n",
              "4 -0.144204               -0.803069             -1.051257  \n",
              "\n",
              "[5 rows x 43 columns]"
            ],
            "text/html": [
              "\n",
              "  <div id=\"df-946ba98c-0206-42f9-8c5e-fe6c258a40d9\">\n",
              "    <div class=\"colab-df-container\">\n",
              "      <div>\n",
              "<style scoped>\n",
              "    .dataframe tbody tr th:only-of-type {\n",
              "        vertical-align: middle;\n",
              "    }\n",
              "\n",
              "    .dataframe tbody tr th {\n",
              "        vertical-align: top;\n",
              "    }\n",
              "\n",
              "    .dataframe thead th {\n",
              "        text-align: right;\n",
              "    }\n",
              "</style>\n",
              "<table border=\"1\" class=\"dataframe\">\n",
              "  <thead>\n",
              "    <tr style=\"text-align: right;\">\n",
              "      <th></th>\n",
              "      <th>Unnamed: 0</th>\n",
              "      <th>USA</th>\n",
              "      <th>UK</th>\n",
              "      <th>France</th>\n",
              "      <th>Canada</th>\n",
              "      <th>R</th>\n",
              "      <th>PG-13</th>\n",
              "      <th>PG</th>\n",
              "      <th>G</th>\n",
              "      <th>History</th>\n",
              "      <th>...</th>\n",
              "      <th>duration</th>\n",
              "      <th>director_facebook_likes</th>\n",
              "      <th>actor_3_facebook_likes</th>\n",
              "      <th>actor_1_facebook_likes</th>\n",
              "      <th>gross</th>\n",
              "      <th>num_voted_users</th>\n",
              "      <th>facenumber_in_poster</th>\n",
              "      <th>budget</th>\n",
              "      <th>actor_2_facebook_likes</th>\n",
              "      <th>movie_facebook_likes</th>\n",
              "    </tr>\n",
              "  </thead>\n",
              "  <tbody>\n",
              "    <tr>\n",
              "      <th>0</th>\n",
              "      <td>0</td>\n",
              "      <td>0.0</td>\n",
              "      <td>1.0</td>\n",
              "      <td>0.0</td>\n",
              "      <td>0.0</td>\n",
              "      <td>0.0</td>\n",
              "      <td>1.0</td>\n",
              "      <td>0.0</td>\n",
              "      <td>0.0</td>\n",
              "      <td>0.0</td>\n",
              "      <td>...</td>\n",
              "      <td>-0.735613</td>\n",
              "      <td>-0.345177</td>\n",
              "      <td>0.252142</td>\n",
              "      <td>0.221824</td>\n",
              "      <td>-0.827408</td>\n",
              "      <td>-1.106576</td>\n",
              "      <td>-1.073757</td>\n",
              "      <td>0.559955</td>\n",
              "      <td>-0.060395</td>\n",
              "      <td>0.231648</td>\n",
              "    </tr>\n",
              "    <tr>\n",
              "      <th>1</th>\n",
              "      <td>1</td>\n",
              "      <td>0.0</td>\n",
              "      <td>1.0</td>\n",
              "      <td>0.0</td>\n",
              "      <td>0.0</td>\n",
              "      <td>1.0</td>\n",
              "      <td>0.0</td>\n",
              "      <td>0.0</td>\n",
              "      <td>0.0</td>\n",
              "      <td>0.0</td>\n",
              "      <td>...</td>\n",
              "      <td>-1.183926</td>\n",
              "      <td>0.467845</td>\n",
              "      <td>0.469015</td>\n",
              "      <td>-0.528296</td>\n",
              "      <td>-1.311966</td>\n",
              "      <td>-1.367711</td>\n",
              "      <td>0.860275</td>\n",
              "      <td>-1.663723</td>\n",
              "      <td>0.101769</td>\n",
              "      <td>0.314002</td>\n",
              "    </tr>\n",
              "    <tr>\n",
              "      <th>2</th>\n",
              "      <td>2</td>\n",
              "      <td>1.0</td>\n",
              "      <td>0.0</td>\n",
              "      <td>0.0</td>\n",
              "      <td>0.0</td>\n",
              "      <td>0.0</td>\n",
              "      <td>1.0</td>\n",
              "      <td>0.0</td>\n",
              "      <td>0.0</td>\n",
              "      <td>0.0</td>\n",
              "      <td>...</td>\n",
              "      <td>-1.116986</td>\n",
              "      <td>0.442207</td>\n",
              "      <td>-0.939779</td>\n",
              "      <td>-0.470996</td>\n",
              "      <td>0.140587</td>\n",
              "      <td>0.613339</td>\n",
              "      <td>-1.073757</td>\n",
              "      <td>0.912601</td>\n",
              "      <td>-0.199589</td>\n",
              "      <td>1.249540</td>\n",
              "    </tr>\n",
              "    <tr>\n",
              "      <th>3</th>\n",
              "      <td>3</td>\n",
              "      <td>1.0</td>\n",
              "      <td>0.0</td>\n",
              "      <td>0.0</td>\n",
              "      <td>0.0</td>\n",
              "      <td>0.0</td>\n",
              "      <td>1.0</td>\n",
              "      <td>0.0</td>\n",
              "      <td>0.0</td>\n",
              "      <td>0.0</td>\n",
              "      <td>...</td>\n",
              "      <td>-0.498952</td>\n",
              "      <td>-0.087962</td>\n",
              "      <td>0.289574</td>\n",
              "      <td>-0.761191</td>\n",
              "      <td>-1.223630</td>\n",
              "      <td>-0.828640</td>\n",
              "      <td>0.283456</td>\n",
              "      <td>-0.144204</td>\n",
              "      <td>-0.131906</td>\n",
              "      <td>-1.051257</td>\n",
              "    </tr>\n",
              "    <tr>\n",
              "      <th>4</th>\n",
              "      <td>4</td>\n",
              "      <td>0.0</td>\n",
              "      <td>0.0</td>\n",
              "      <td>1.0</td>\n",
              "      <td>0.0</td>\n",
              "      <td>1.0</td>\n",
              "      <td>0.0</td>\n",
              "      <td>0.0</td>\n",
              "      <td>0.0</td>\n",
              "      <td>0.0</td>\n",
              "      <td>...</td>\n",
              "      <td>0.189124</td>\n",
              "      <td>-0.264540</td>\n",
              "      <td>-1.260674</td>\n",
              "      <td>0.517600</td>\n",
              "      <td>0.060209</td>\n",
              "      <td>-0.630798</td>\n",
              "      <td>-1.073757</td>\n",
              "      <td>-0.144204</td>\n",
              "      <td>-0.803069</td>\n",
              "      <td>-1.051257</td>\n",
              "    </tr>\n",
              "  </tbody>\n",
              "</table>\n",
              "<p>5 rows × 43 columns</p>\n",
              "</div>\n",
              "      <button class=\"colab-df-convert\" onclick=\"convertToInteractive('df-946ba98c-0206-42f9-8c5e-fe6c258a40d9')\"\n",
              "              title=\"Convert this dataframe to an interactive table.\"\n",
              "              style=\"display:none;\">\n",
              "        \n",
              "  <svg xmlns=\"http://www.w3.org/2000/svg\" height=\"24px\"viewBox=\"0 0 24 24\"\n",
              "       width=\"24px\">\n",
              "    <path d=\"M0 0h24v24H0V0z\" fill=\"none\"/>\n",
              "    <path d=\"M18.56 5.44l.94 2.06.94-2.06 2.06-.94-2.06-.94-.94-2.06-.94 2.06-2.06.94zm-11 1L8.5 8.5l.94-2.06 2.06-.94-2.06-.94L8.5 2.5l-.94 2.06-2.06.94zm10 10l.94 2.06.94-2.06 2.06-.94-2.06-.94-.94-2.06-.94 2.06-2.06.94z\"/><path d=\"M17.41 7.96l-1.37-1.37c-.4-.4-.92-.59-1.43-.59-.52 0-1.04.2-1.43.59L10.3 9.45l-7.72 7.72c-.78.78-.78 2.05 0 2.83L4 21.41c.39.39.9.59 1.41.59.51 0 1.02-.2 1.41-.59l7.78-7.78 2.81-2.81c.8-.78.8-2.07 0-2.86zM5.41 20L4 18.59l7.72-7.72 1.47 1.35L5.41 20z\"/>\n",
              "  </svg>\n",
              "      </button>\n",
              "      \n",
              "  <style>\n",
              "    .colab-df-container {\n",
              "      display:flex;\n",
              "      flex-wrap:wrap;\n",
              "      gap: 12px;\n",
              "    }\n",
              "\n",
              "    .colab-df-convert {\n",
              "      background-color: #E8F0FE;\n",
              "      border: none;\n",
              "      border-radius: 50%;\n",
              "      cursor: pointer;\n",
              "      display: none;\n",
              "      fill: #1967D2;\n",
              "      height: 32px;\n",
              "      padding: 0 0 0 0;\n",
              "      width: 32px;\n",
              "    }\n",
              "\n",
              "    .colab-df-convert:hover {\n",
              "      background-color: #E2EBFA;\n",
              "      box-shadow: 0px 1px 2px rgba(60, 64, 67, 0.3), 0px 1px 3px 1px rgba(60, 64, 67, 0.15);\n",
              "      fill: #174EA6;\n",
              "    }\n",
              "\n",
              "    [theme=dark] .colab-df-convert {\n",
              "      background-color: #3B4455;\n",
              "      fill: #D2E3FC;\n",
              "    }\n",
              "\n",
              "    [theme=dark] .colab-df-convert:hover {\n",
              "      background-color: #434B5C;\n",
              "      box-shadow: 0px 1px 3px 1px rgba(0, 0, 0, 0.15);\n",
              "      filter: drop-shadow(0px 1px 2px rgba(0, 0, 0, 0.3));\n",
              "      fill: #FFFFFF;\n",
              "    }\n",
              "  </style>\n",
              "\n",
              "      <script>\n",
              "        const buttonEl =\n",
              "          document.querySelector('#df-946ba98c-0206-42f9-8c5e-fe6c258a40d9 button.colab-df-convert');\n",
              "        buttonEl.style.display =\n",
              "          google.colab.kernel.accessAllowed ? 'block' : 'none';\n",
              "\n",
              "        async function convertToInteractive(key) {\n",
              "          const element = document.querySelector('#df-946ba98c-0206-42f9-8c5e-fe6c258a40d9');\n",
              "          const dataTable =\n",
              "            await google.colab.kernel.invokeFunction('convertToInteractive',\n",
              "                                                     [key], {});\n",
              "          if (!dataTable) return;\n",
              "\n",
              "          const docLinkHtml = 'Like what you see? Visit the ' +\n",
              "            '<a target=\"_blank\" href=https://colab.research.google.com/notebooks/data_table.ipynb>data table notebook</a>'\n",
              "            + ' to learn more about interactive tables.';\n",
              "          element.innerHTML = '';\n",
              "          dataTable['output_type'] = 'display_data';\n",
              "          await google.colab.output.renderOutput(dataTable, element);\n",
              "          const docLink = document.createElement('div');\n",
              "          docLink.innerHTML = docLinkHtml;\n",
              "          element.appendChild(docLink);\n",
              "        }\n",
              "      </script>\n",
              "    </div>\n",
              "  </div>\n",
              "  "
            ]
          },
          "metadata": {},
          "execution_count": 207
        }
      ]
    },
    {
      "cell_type": "code",
      "source": [
        "y_test.head()"
      ],
      "metadata": {
        "colab": {
          "base_uri": "https://localhost:8080/",
          "height": 206
        },
        "id": "WM4sv9dCbaS2",
        "outputId": "9a341c4f-502e-4a72-faf7-45a4dd0d5556"
      },
      "execution_count": 208,
      "outputs": [
        {
          "output_type": "execute_result",
          "data": {
            "text/plain": [
              "   Unnamed: 0  imdb_score\n",
              "0           0         4.5\n",
              "1           1         6.8\n",
              "2           2         5.7\n",
              "3           3         2.8\n",
              "4           4         6.7"
            ],
            "text/html": [
              "\n",
              "  <div id=\"df-ffdec4d3-9768-4ae5-8421-4d8ba2133b1b\">\n",
              "    <div class=\"colab-df-container\">\n",
              "      <div>\n",
              "<style scoped>\n",
              "    .dataframe tbody tr th:only-of-type {\n",
              "        vertical-align: middle;\n",
              "    }\n",
              "\n",
              "    .dataframe tbody tr th {\n",
              "        vertical-align: top;\n",
              "    }\n",
              "\n",
              "    .dataframe thead th {\n",
              "        text-align: right;\n",
              "    }\n",
              "</style>\n",
              "<table border=\"1\" class=\"dataframe\">\n",
              "  <thead>\n",
              "    <tr style=\"text-align: right;\">\n",
              "      <th></th>\n",
              "      <th>Unnamed: 0</th>\n",
              "      <th>imdb_score</th>\n",
              "    </tr>\n",
              "  </thead>\n",
              "  <tbody>\n",
              "    <tr>\n",
              "      <th>0</th>\n",
              "      <td>0</td>\n",
              "      <td>4.5</td>\n",
              "    </tr>\n",
              "    <tr>\n",
              "      <th>1</th>\n",
              "      <td>1</td>\n",
              "      <td>6.8</td>\n",
              "    </tr>\n",
              "    <tr>\n",
              "      <th>2</th>\n",
              "      <td>2</td>\n",
              "      <td>5.7</td>\n",
              "    </tr>\n",
              "    <tr>\n",
              "      <th>3</th>\n",
              "      <td>3</td>\n",
              "      <td>2.8</td>\n",
              "    </tr>\n",
              "    <tr>\n",
              "      <th>4</th>\n",
              "      <td>4</td>\n",
              "      <td>6.7</td>\n",
              "    </tr>\n",
              "  </tbody>\n",
              "</table>\n",
              "</div>\n",
              "      <button class=\"colab-df-convert\" onclick=\"convertToInteractive('df-ffdec4d3-9768-4ae5-8421-4d8ba2133b1b')\"\n",
              "              title=\"Convert this dataframe to an interactive table.\"\n",
              "              style=\"display:none;\">\n",
              "        \n",
              "  <svg xmlns=\"http://www.w3.org/2000/svg\" height=\"24px\"viewBox=\"0 0 24 24\"\n",
              "       width=\"24px\">\n",
              "    <path d=\"M0 0h24v24H0V0z\" fill=\"none\"/>\n",
              "    <path d=\"M18.56 5.44l.94 2.06.94-2.06 2.06-.94-2.06-.94-.94-2.06-.94 2.06-2.06.94zm-11 1L8.5 8.5l.94-2.06 2.06-.94-2.06-.94L8.5 2.5l-.94 2.06-2.06.94zm10 10l.94 2.06.94-2.06 2.06-.94-2.06-.94-.94-2.06-.94 2.06-2.06.94z\"/><path d=\"M17.41 7.96l-1.37-1.37c-.4-.4-.92-.59-1.43-.59-.52 0-1.04.2-1.43.59L10.3 9.45l-7.72 7.72c-.78.78-.78 2.05 0 2.83L4 21.41c.39.39.9.59 1.41.59.51 0 1.02-.2 1.41-.59l7.78-7.78 2.81-2.81c.8-.78.8-2.07 0-2.86zM5.41 20L4 18.59l7.72-7.72 1.47 1.35L5.41 20z\"/>\n",
              "  </svg>\n",
              "      </button>\n",
              "      \n",
              "  <style>\n",
              "    .colab-df-container {\n",
              "      display:flex;\n",
              "      flex-wrap:wrap;\n",
              "      gap: 12px;\n",
              "    }\n",
              "\n",
              "    .colab-df-convert {\n",
              "      background-color: #E8F0FE;\n",
              "      border: none;\n",
              "      border-radius: 50%;\n",
              "      cursor: pointer;\n",
              "      display: none;\n",
              "      fill: #1967D2;\n",
              "      height: 32px;\n",
              "      padding: 0 0 0 0;\n",
              "      width: 32px;\n",
              "    }\n",
              "\n",
              "    .colab-df-convert:hover {\n",
              "      background-color: #E2EBFA;\n",
              "      box-shadow: 0px 1px 2px rgba(60, 64, 67, 0.3), 0px 1px 3px 1px rgba(60, 64, 67, 0.15);\n",
              "      fill: #174EA6;\n",
              "    }\n",
              "\n",
              "    [theme=dark] .colab-df-convert {\n",
              "      background-color: #3B4455;\n",
              "      fill: #D2E3FC;\n",
              "    }\n",
              "\n",
              "    [theme=dark] .colab-df-convert:hover {\n",
              "      background-color: #434B5C;\n",
              "      box-shadow: 0px 1px 3px 1px rgba(0, 0, 0, 0.15);\n",
              "      filter: drop-shadow(0px 1px 2px rgba(0, 0, 0, 0.3));\n",
              "      fill: #FFFFFF;\n",
              "    }\n",
              "  </style>\n",
              "\n",
              "      <script>\n",
              "        const buttonEl =\n",
              "          document.querySelector('#df-ffdec4d3-9768-4ae5-8421-4d8ba2133b1b button.colab-df-convert');\n",
              "        buttonEl.style.display =\n",
              "          google.colab.kernel.accessAllowed ? 'block' : 'none';\n",
              "\n",
              "        async function convertToInteractive(key) {\n",
              "          const element = document.querySelector('#df-ffdec4d3-9768-4ae5-8421-4d8ba2133b1b');\n",
              "          const dataTable =\n",
              "            await google.colab.kernel.invokeFunction('convertToInteractive',\n",
              "                                                     [key], {});\n",
              "          if (!dataTable) return;\n",
              "\n",
              "          const docLinkHtml = 'Like what you see? Visit the ' +\n",
              "            '<a target=\"_blank\" href=https://colab.research.google.com/notebooks/data_table.ipynb>data table notebook</a>'\n",
              "            + ' to learn more about interactive tables.';\n",
              "          element.innerHTML = '';\n",
              "          dataTable['output_type'] = 'display_data';\n",
              "          await google.colab.output.renderOutput(dataTable, element);\n",
              "          const docLink = document.createElement('div');\n",
              "          docLink.innerHTML = docLinkHtml;\n",
              "          element.appendChild(docLink);\n",
              "        }\n",
              "      </script>\n",
              "    </div>\n",
              "  </div>\n",
              "  "
            ]
          },
          "metadata": {},
          "execution_count": 208
        }
      ]
    },
    {
      "cell_type": "code",
      "source": [
        "X_val.head()"
      ],
      "metadata": {
        "colab": {
          "base_uri": "https://localhost:8080/",
          "height": 317
        },
        "id": "2jvCGv-abaWe",
        "outputId": "4dfb6afe-d0b3-4a64-aa44-4f560adbe8ec"
      },
      "execution_count": 209,
      "outputs": [
        {
          "output_type": "execute_result",
          "data": {
            "text/plain": [
              "   Unnamed: 0  USA   UK  France  Canada    R  PG-13   PG    G  History  ...  \\\n",
              "0           0  0.0  0.0     1.0     0.0  1.0    0.0  0.0  0.0      0.0  ...   \n",
              "1           1  1.0  0.0     0.0     0.0  1.0    0.0  0.0  0.0      0.0  ...   \n",
              "2           2  0.0  0.0     1.0     0.0  0.0    1.0  0.0  0.0      0.0  ...   \n",
              "3           3  0.0  0.0     0.0     0.0  1.0    0.0  0.0  0.0      0.0  ...   \n",
              "4           4  1.0  0.0     0.0     0.0  0.0    1.0  0.0  0.0      0.0  ...   \n",
              "\n",
              "   duration  director_facebook_likes  actor_3_facebook_likes  \\\n",
              "0 -0.859042                 1.021217                0.198436   \n",
              "1  0.379516                 0.224810                0.439787   \n",
              "2  0.649124                -1.610674                0.607601   \n",
              "3 -1.183926                -1.610674               -0.939779   \n",
              "4  0.819149                 1.189677                0.738932   \n",
              "\n",
              "   actor_1_facebook_likes     gross  num_voted_users  facenumber_in_poster  \\\n",
              "0                0.987340  0.060209        -1.030630              0.860275   \n",
              "1               -0.588979 -0.264671        -0.315336              0.283456   \n",
              "2                1.923073 -0.816859        -0.639693              0.860275   \n",
              "3               -0.535972 -1.848496        -1.398692             -1.073757   \n",
              "4                1.176611  1.718805         1.583604             -1.073757   \n",
              "\n",
              "     budget  actor_2_facebook_likes  movie_facebook_likes  \n",
              "0 -0.060363                0.290482             -1.051257  \n",
              "1 -0.189359                0.060977             -1.051257  \n",
              "2 -0.189359                0.349171             -1.051257  \n",
              "3  0.016231               -1.004264              0.522649  \n",
              "4  1.623839                0.836470              1.239672  \n",
              "\n",
              "[5 rows x 43 columns]"
            ],
            "text/html": [
              "\n",
              "  <div id=\"df-8efe0775-9dc4-4608-901f-5676d2afb0b6\">\n",
              "    <div class=\"colab-df-container\">\n",
              "      <div>\n",
              "<style scoped>\n",
              "    .dataframe tbody tr th:only-of-type {\n",
              "        vertical-align: middle;\n",
              "    }\n",
              "\n",
              "    .dataframe tbody tr th {\n",
              "        vertical-align: top;\n",
              "    }\n",
              "\n",
              "    .dataframe thead th {\n",
              "        text-align: right;\n",
              "    }\n",
              "</style>\n",
              "<table border=\"1\" class=\"dataframe\">\n",
              "  <thead>\n",
              "    <tr style=\"text-align: right;\">\n",
              "      <th></th>\n",
              "      <th>Unnamed: 0</th>\n",
              "      <th>USA</th>\n",
              "      <th>UK</th>\n",
              "      <th>France</th>\n",
              "      <th>Canada</th>\n",
              "      <th>R</th>\n",
              "      <th>PG-13</th>\n",
              "      <th>PG</th>\n",
              "      <th>G</th>\n",
              "      <th>History</th>\n",
              "      <th>...</th>\n",
              "      <th>duration</th>\n",
              "      <th>director_facebook_likes</th>\n",
              "      <th>actor_3_facebook_likes</th>\n",
              "      <th>actor_1_facebook_likes</th>\n",
              "      <th>gross</th>\n",
              "      <th>num_voted_users</th>\n",
              "      <th>facenumber_in_poster</th>\n",
              "      <th>budget</th>\n",
              "      <th>actor_2_facebook_likes</th>\n",
              "      <th>movie_facebook_likes</th>\n",
              "    </tr>\n",
              "  </thead>\n",
              "  <tbody>\n",
              "    <tr>\n",
              "      <th>0</th>\n",
              "      <td>0</td>\n",
              "      <td>0.0</td>\n",
              "      <td>0.0</td>\n",
              "      <td>1.0</td>\n",
              "      <td>0.0</td>\n",
              "      <td>1.0</td>\n",
              "      <td>0.0</td>\n",
              "      <td>0.0</td>\n",
              "      <td>0.0</td>\n",
              "      <td>0.0</td>\n",
              "      <td>...</td>\n",
              "      <td>-0.859042</td>\n",
              "      <td>1.021217</td>\n",
              "      <td>0.198436</td>\n",
              "      <td>0.987340</td>\n",
              "      <td>0.060209</td>\n",
              "      <td>-1.030630</td>\n",
              "      <td>0.860275</td>\n",
              "      <td>-0.060363</td>\n",
              "      <td>0.290482</td>\n",
              "      <td>-1.051257</td>\n",
              "    </tr>\n",
              "    <tr>\n",
              "      <th>1</th>\n",
              "      <td>1</td>\n",
              "      <td>1.0</td>\n",
              "      <td>0.0</td>\n",
              "      <td>0.0</td>\n",
              "      <td>0.0</td>\n",
              "      <td>1.0</td>\n",
              "      <td>0.0</td>\n",
              "      <td>0.0</td>\n",
              "      <td>0.0</td>\n",
              "      <td>0.0</td>\n",
              "      <td>...</td>\n",
              "      <td>0.379516</td>\n",
              "      <td>0.224810</td>\n",
              "      <td>0.439787</td>\n",
              "      <td>-0.588979</td>\n",
              "      <td>-0.264671</td>\n",
              "      <td>-0.315336</td>\n",
              "      <td>0.283456</td>\n",
              "      <td>-0.189359</td>\n",
              "      <td>0.060977</td>\n",
              "      <td>-1.051257</td>\n",
              "    </tr>\n",
              "    <tr>\n",
              "      <th>2</th>\n",
              "      <td>2</td>\n",
              "      <td>0.0</td>\n",
              "      <td>0.0</td>\n",
              "      <td>1.0</td>\n",
              "      <td>0.0</td>\n",
              "      <td>0.0</td>\n",
              "      <td>1.0</td>\n",
              "      <td>0.0</td>\n",
              "      <td>0.0</td>\n",
              "      <td>0.0</td>\n",
              "      <td>...</td>\n",
              "      <td>0.649124</td>\n",
              "      <td>-1.610674</td>\n",
              "      <td>0.607601</td>\n",
              "      <td>1.923073</td>\n",
              "      <td>-0.816859</td>\n",
              "      <td>-0.639693</td>\n",
              "      <td>0.860275</td>\n",
              "      <td>-0.189359</td>\n",
              "      <td>0.349171</td>\n",
              "      <td>-1.051257</td>\n",
              "    </tr>\n",
              "    <tr>\n",
              "      <th>3</th>\n",
              "      <td>3</td>\n",
              "      <td>0.0</td>\n",
              "      <td>0.0</td>\n",
              "      <td>0.0</td>\n",
              "      <td>0.0</td>\n",
              "      <td>1.0</td>\n",
              "      <td>0.0</td>\n",
              "      <td>0.0</td>\n",
              "      <td>0.0</td>\n",
              "      <td>0.0</td>\n",
              "      <td>...</td>\n",
              "      <td>-1.183926</td>\n",
              "      <td>-1.610674</td>\n",
              "      <td>-0.939779</td>\n",
              "      <td>-0.535972</td>\n",
              "      <td>-1.848496</td>\n",
              "      <td>-1.398692</td>\n",
              "      <td>-1.073757</td>\n",
              "      <td>0.016231</td>\n",
              "      <td>-1.004264</td>\n",
              "      <td>0.522649</td>\n",
              "    </tr>\n",
              "    <tr>\n",
              "      <th>4</th>\n",
              "      <td>4</td>\n",
              "      <td>1.0</td>\n",
              "      <td>0.0</td>\n",
              "      <td>0.0</td>\n",
              "      <td>0.0</td>\n",
              "      <td>0.0</td>\n",
              "      <td>1.0</td>\n",
              "      <td>0.0</td>\n",
              "      <td>0.0</td>\n",
              "      <td>0.0</td>\n",
              "      <td>...</td>\n",
              "      <td>0.819149</td>\n",
              "      <td>1.189677</td>\n",
              "      <td>0.738932</td>\n",
              "      <td>1.176611</td>\n",
              "      <td>1.718805</td>\n",
              "      <td>1.583604</td>\n",
              "      <td>-1.073757</td>\n",
              "      <td>1.623839</td>\n",
              "      <td>0.836470</td>\n",
              "      <td>1.239672</td>\n",
              "    </tr>\n",
              "  </tbody>\n",
              "</table>\n",
              "<p>5 rows × 43 columns</p>\n",
              "</div>\n",
              "      <button class=\"colab-df-convert\" onclick=\"convertToInteractive('df-8efe0775-9dc4-4608-901f-5676d2afb0b6')\"\n",
              "              title=\"Convert this dataframe to an interactive table.\"\n",
              "              style=\"display:none;\">\n",
              "        \n",
              "  <svg xmlns=\"http://www.w3.org/2000/svg\" height=\"24px\"viewBox=\"0 0 24 24\"\n",
              "       width=\"24px\">\n",
              "    <path d=\"M0 0h24v24H0V0z\" fill=\"none\"/>\n",
              "    <path d=\"M18.56 5.44l.94 2.06.94-2.06 2.06-.94-2.06-.94-.94-2.06-.94 2.06-2.06.94zm-11 1L8.5 8.5l.94-2.06 2.06-.94-2.06-.94L8.5 2.5l-.94 2.06-2.06.94zm10 10l.94 2.06.94-2.06 2.06-.94-2.06-.94-.94-2.06-.94 2.06-2.06.94z\"/><path d=\"M17.41 7.96l-1.37-1.37c-.4-.4-.92-.59-1.43-.59-.52 0-1.04.2-1.43.59L10.3 9.45l-7.72 7.72c-.78.78-.78 2.05 0 2.83L4 21.41c.39.39.9.59 1.41.59.51 0 1.02-.2 1.41-.59l7.78-7.78 2.81-2.81c.8-.78.8-2.07 0-2.86zM5.41 20L4 18.59l7.72-7.72 1.47 1.35L5.41 20z\"/>\n",
              "  </svg>\n",
              "      </button>\n",
              "      \n",
              "  <style>\n",
              "    .colab-df-container {\n",
              "      display:flex;\n",
              "      flex-wrap:wrap;\n",
              "      gap: 12px;\n",
              "    }\n",
              "\n",
              "    .colab-df-convert {\n",
              "      background-color: #E8F0FE;\n",
              "      border: none;\n",
              "      border-radius: 50%;\n",
              "      cursor: pointer;\n",
              "      display: none;\n",
              "      fill: #1967D2;\n",
              "      height: 32px;\n",
              "      padding: 0 0 0 0;\n",
              "      width: 32px;\n",
              "    }\n",
              "\n",
              "    .colab-df-convert:hover {\n",
              "      background-color: #E2EBFA;\n",
              "      box-shadow: 0px 1px 2px rgba(60, 64, 67, 0.3), 0px 1px 3px 1px rgba(60, 64, 67, 0.15);\n",
              "      fill: #174EA6;\n",
              "    }\n",
              "\n",
              "    [theme=dark] .colab-df-convert {\n",
              "      background-color: #3B4455;\n",
              "      fill: #D2E3FC;\n",
              "    }\n",
              "\n",
              "    [theme=dark] .colab-df-convert:hover {\n",
              "      background-color: #434B5C;\n",
              "      box-shadow: 0px 1px 3px 1px rgba(0, 0, 0, 0.15);\n",
              "      filter: drop-shadow(0px 1px 2px rgba(0, 0, 0, 0.3));\n",
              "      fill: #FFFFFF;\n",
              "    }\n",
              "  </style>\n",
              "\n",
              "      <script>\n",
              "        const buttonEl =\n",
              "          document.querySelector('#df-8efe0775-9dc4-4608-901f-5676d2afb0b6 button.colab-df-convert');\n",
              "        buttonEl.style.display =\n",
              "          google.colab.kernel.accessAllowed ? 'block' : 'none';\n",
              "\n",
              "        async function convertToInteractive(key) {\n",
              "          const element = document.querySelector('#df-8efe0775-9dc4-4608-901f-5676d2afb0b6');\n",
              "          const dataTable =\n",
              "            await google.colab.kernel.invokeFunction('convertToInteractive',\n",
              "                                                     [key], {});\n",
              "          if (!dataTable) return;\n",
              "\n",
              "          const docLinkHtml = 'Like what you see? Visit the ' +\n",
              "            '<a target=\"_blank\" href=https://colab.research.google.com/notebooks/data_table.ipynb>data table notebook</a>'\n",
              "            + ' to learn more about interactive tables.';\n",
              "          element.innerHTML = '';\n",
              "          dataTable['output_type'] = 'display_data';\n",
              "          await google.colab.output.renderOutput(dataTable, element);\n",
              "          const docLink = document.createElement('div');\n",
              "          docLink.innerHTML = docLinkHtml;\n",
              "          element.appendChild(docLink);\n",
              "        }\n",
              "      </script>\n",
              "    </div>\n",
              "  </div>\n",
              "  "
            ]
          },
          "metadata": {},
          "execution_count": 209
        }
      ]
    },
    {
      "cell_type": "code",
      "source": [
        "y_val.head()"
      ],
      "metadata": {
        "colab": {
          "base_uri": "https://localhost:8080/",
          "height": 206
        },
        "id": "dh_0VsFNbaaJ",
        "outputId": "509510fe-44ae-4114-d12a-779b4d6f7bd2"
      },
      "execution_count": 210,
      "outputs": [
        {
          "output_type": "execute_result",
          "data": {
            "text/plain": [
              "   Unnamed: 0  imdb_score\n",
              "0           0         5.3\n",
              "1           1         6.0\n",
              "2           2         6.5\n",
              "3           3         6.2\n",
              "4           4         6.4"
            ],
            "text/html": [
              "\n",
              "  <div id=\"df-0bbbc9cf-3daa-4fdf-862d-32f705216742\">\n",
              "    <div class=\"colab-df-container\">\n",
              "      <div>\n",
              "<style scoped>\n",
              "    .dataframe tbody tr th:only-of-type {\n",
              "        vertical-align: middle;\n",
              "    }\n",
              "\n",
              "    .dataframe tbody tr th {\n",
              "        vertical-align: top;\n",
              "    }\n",
              "\n",
              "    .dataframe thead th {\n",
              "        text-align: right;\n",
              "    }\n",
              "</style>\n",
              "<table border=\"1\" class=\"dataframe\">\n",
              "  <thead>\n",
              "    <tr style=\"text-align: right;\">\n",
              "      <th></th>\n",
              "      <th>Unnamed: 0</th>\n",
              "      <th>imdb_score</th>\n",
              "    </tr>\n",
              "  </thead>\n",
              "  <tbody>\n",
              "    <tr>\n",
              "      <th>0</th>\n",
              "      <td>0</td>\n",
              "      <td>5.3</td>\n",
              "    </tr>\n",
              "    <tr>\n",
              "      <th>1</th>\n",
              "      <td>1</td>\n",
              "      <td>6.0</td>\n",
              "    </tr>\n",
              "    <tr>\n",
              "      <th>2</th>\n",
              "      <td>2</td>\n",
              "      <td>6.5</td>\n",
              "    </tr>\n",
              "    <tr>\n",
              "      <th>3</th>\n",
              "      <td>3</td>\n",
              "      <td>6.2</td>\n",
              "    </tr>\n",
              "    <tr>\n",
              "      <th>4</th>\n",
              "      <td>4</td>\n",
              "      <td>6.4</td>\n",
              "    </tr>\n",
              "  </tbody>\n",
              "</table>\n",
              "</div>\n",
              "      <button class=\"colab-df-convert\" onclick=\"convertToInteractive('df-0bbbc9cf-3daa-4fdf-862d-32f705216742')\"\n",
              "              title=\"Convert this dataframe to an interactive table.\"\n",
              "              style=\"display:none;\">\n",
              "        \n",
              "  <svg xmlns=\"http://www.w3.org/2000/svg\" height=\"24px\"viewBox=\"0 0 24 24\"\n",
              "       width=\"24px\">\n",
              "    <path d=\"M0 0h24v24H0V0z\" fill=\"none\"/>\n",
              "    <path d=\"M18.56 5.44l.94 2.06.94-2.06 2.06-.94-2.06-.94-.94-2.06-.94 2.06-2.06.94zm-11 1L8.5 8.5l.94-2.06 2.06-.94-2.06-.94L8.5 2.5l-.94 2.06-2.06.94zm10 10l.94 2.06.94-2.06 2.06-.94-2.06-.94-.94-2.06-.94 2.06-2.06.94z\"/><path d=\"M17.41 7.96l-1.37-1.37c-.4-.4-.92-.59-1.43-.59-.52 0-1.04.2-1.43.59L10.3 9.45l-7.72 7.72c-.78.78-.78 2.05 0 2.83L4 21.41c.39.39.9.59 1.41.59.51 0 1.02-.2 1.41-.59l7.78-7.78 2.81-2.81c.8-.78.8-2.07 0-2.86zM5.41 20L4 18.59l7.72-7.72 1.47 1.35L5.41 20z\"/>\n",
              "  </svg>\n",
              "      </button>\n",
              "      \n",
              "  <style>\n",
              "    .colab-df-container {\n",
              "      display:flex;\n",
              "      flex-wrap:wrap;\n",
              "      gap: 12px;\n",
              "    }\n",
              "\n",
              "    .colab-df-convert {\n",
              "      background-color: #E8F0FE;\n",
              "      border: none;\n",
              "      border-radius: 50%;\n",
              "      cursor: pointer;\n",
              "      display: none;\n",
              "      fill: #1967D2;\n",
              "      height: 32px;\n",
              "      padding: 0 0 0 0;\n",
              "      width: 32px;\n",
              "    }\n",
              "\n",
              "    .colab-df-convert:hover {\n",
              "      background-color: #E2EBFA;\n",
              "      box-shadow: 0px 1px 2px rgba(60, 64, 67, 0.3), 0px 1px 3px 1px rgba(60, 64, 67, 0.15);\n",
              "      fill: #174EA6;\n",
              "    }\n",
              "\n",
              "    [theme=dark] .colab-df-convert {\n",
              "      background-color: #3B4455;\n",
              "      fill: #D2E3FC;\n",
              "    }\n",
              "\n",
              "    [theme=dark] .colab-df-convert:hover {\n",
              "      background-color: #434B5C;\n",
              "      box-shadow: 0px 1px 3px 1px rgba(0, 0, 0, 0.15);\n",
              "      filter: drop-shadow(0px 1px 2px rgba(0, 0, 0, 0.3));\n",
              "      fill: #FFFFFF;\n",
              "    }\n",
              "  </style>\n",
              "\n",
              "      <script>\n",
              "        const buttonEl =\n",
              "          document.querySelector('#df-0bbbc9cf-3daa-4fdf-862d-32f705216742 button.colab-df-convert');\n",
              "        buttonEl.style.display =\n",
              "          google.colab.kernel.accessAllowed ? 'block' : 'none';\n",
              "\n",
              "        async function convertToInteractive(key) {\n",
              "          const element = document.querySelector('#df-0bbbc9cf-3daa-4fdf-862d-32f705216742');\n",
              "          const dataTable =\n",
              "            await google.colab.kernel.invokeFunction('convertToInteractive',\n",
              "                                                     [key], {});\n",
              "          if (!dataTable) return;\n",
              "\n",
              "          const docLinkHtml = 'Like what you see? Visit the ' +\n",
              "            '<a target=\"_blank\" href=https://colab.research.google.com/notebooks/data_table.ipynb>data table notebook</a>'\n",
              "            + ' to learn more about interactive tables.';\n",
              "          element.innerHTML = '';\n",
              "          dataTable['output_type'] = 'display_data';\n",
              "          await google.colab.output.renderOutput(dataTable, element);\n",
              "          const docLink = document.createElement('div');\n",
              "          docLink.innerHTML = docLinkHtml;\n",
              "          element.appendChild(docLink);\n",
              "        }\n",
              "      </script>\n",
              "    </div>\n",
              "  </div>\n",
              "  "
            ]
          },
          "metadata": {},
          "execution_count": 210
        }
      ]
    },
    {
      "cell_type": "code",
      "source": [
        "X_train.drop(columns=['Unnamed: 0'], inplace=True)\n",
        "X_test.drop(columns=['Unnamed: 0'], inplace=True)\n",
        "X_val.drop(columns=['Unnamed: 0'], inplace=True)"
      ],
      "metadata": {
        "id": "w4Z6thmCbp3F"
      },
      "execution_count": 211,
      "outputs": []
    },
    {
      "cell_type": "code",
      "source": [
        "y_train.drop(columns=['Unnamed: 0'], inplace=True)\n",
        "y_test.drop(columns=['Unnamed: 0'], inplace=True)\n",
        "y_val.drop(columns=['Unnamed: 0'], inplace=True)"
      ],
      "metadata": {
        "id": "Vl8D7YsHb63Z"
      },
      "execution_count": 212,
      "outputs": []
    },
    {
      "cell_type": "code",
      "source": [
        "X_train_np = X_train.to_numpy()\n",
        "X_test_np = X_test.to_numpy()\n",
        "X_val_np = X_val.to_numpy()"
      ],
      "metadata": {
        "id": "tyo1-cVvZLKW"
      },
      "execution_count": 213,
      "outputs": []
    },
    {
      "cell_type": "code",
      "source": [
        "y_train_np = y_train.to_numpy()\n",
        "y_test_np = y_test.to_numpy()\n",
        "y_val_np = y_val.to_numpy()"
      ],
      "metadata": {
        "id": "ccd8R-qYces_"
      },
      "execution_count": 214,
      "outputs": []
    },
    {
      "cell_type": "code",
      "source": [
        "X_train_np.shape, X_test_np.shape, X_val_np.shape"
      ],
      "metadata": {
        "colab": {
          "base_uri": "https://localhost:8080/"
        },
        "id": "03oGQDB6dgVf",
        "outputId": "0c519003-afeb-40b5-f962-ba960326122a"
      },
      "execution_count": 215,
      "outputs": [
        {
          "output_type": "execute_result",
          "data": {
            "text/plain": [
              "((3727, 42), (466, 42), (466, 42))"
            ]
          },
          "metadata": {},
          "execution_count": 215
        }
      ]
    },
    {
      "cell_type": "code",
      "source": [
        "y_train_np.shape, y_test_np.shape, y_val_np.shape"
      ],
      "metadata": {
        "colab": {
          "base_uri": "https://localhost:8080/"
        },
        "id": "js72h9PYZT5y",
        "outputId": "c604e365-3416-4d14-d63e-42d3872f484a"
      },
      "execution_count": 216,
      "outputs": [
        {
          "output_type": "execute_result",
          "data": {
            "text/plain": [
              "((3727, 1), (466, 1), (466, 1))"
            ]
          },
          "metadata": {},
          "execution_count": 216
        }
      ]
    },
    {
      "cell_type": "code",
      "source": [
        "y_train_np = y_train_np.flatten()\n",
        "y_test_np = y_test_np.flatten()\n",
        "y_val_np = y_val_np.flatten()"
      ],
      "metadata": {
        "id": "ATZCoshVdnbs"
      },
      "execution_count": 217,
      "outputs": []
    },
    {
      "cell_type": "code",
      "source": [
        "y_train_np.shape, y_test_np.shape, y_val_np.shape"
      ],
      "metadata": {
        "colab": {
          "base_uri": "https://localhost:8080/"
        },
        "id": "wyPKCe0keAuE",
        "outputId": "3ffb9d94-da9b-4fad-deb4-72b2ebcb993a"
      },
      "execution_count": 218,
      "outputs": [
        {
          "output_type": "execute_result",
          "data": {
            "text/plain": [
              "((3727,), (466,), (466,))"
            ]
          },
          "metadata": {},
          "execution_count": 218
        }
      ]
    },
    {
      "cell_type": "markdown",
      "source": [
        "#3. Model Training"
      ],
      "metadata": {
        "id": "bTXY3MpJtR0E"
      }
    },
    {
      "cell_type": "markdown",
      "source": [
        "##3.1. Decision Tree Regressor"
      ],
      "metadata": {
        "id": "NhMrfK0DtYU_"
      }
    },
    {
      "cell_type": "code",
      "source": [
        "from sklearn.metrics import mean_absolute_error as mae\n",
        "\n",
        "max_depths = range(1, 15)\n",
        "training_error = []\n",
        "val_error = []\n",
        "\n",
        "min_val_error = 100000\n",
        "best_max_depth = 0\n",
        "\n",
        "for max_depth in max_depths:\n",
        "    model_dtr = DecisionTreeRegressor(max_depth=max_depth)\n",
        "    model_dtr.fit(X_train_np, y_train_np)\n",
        "    training_error.append(mae(y_train_np, model_dtr.predict(X_train_np)))\n",
        "    val_error_for_this_iter = mae(y_val_np, model_dtr.predict(X_val_np))\n",
        "    val_error.append(val_error_for_this_iter)\n",
        "\n",
        "    if val_error_for_this_iter < min_val_error:\n",
        "      best_max_depth = max_depth\n",
        "      min_val_error = val_error_for_this_iter\n",
        "    \n",
        "plt.plot(max_depths, training_error, color='red', label='Training error')\n",
        "plt.plot(max_depths, val_error, color='green', label='Valuation error')\n",
        "plt.xlabel('Tree depth')\n",
        "plt.ylabel('Mean absolute error')\n",
        "plt.title('Hyperparameter Tuning', pad=15, size=15)\n",
        "plt.legend()"
      ],
      "metadata": {
        "colab": {
          "base_uri": "https://localhost:8080/",
          "height": 323
        },
        "id": "WcOTxNkatc8D",
        "outputId": "78d09cde-e624-4a66-990b-a2f632755103"
      },
      "execution_count": 219,
      "outputs": [
        {
          "output_type": "execute_result",
          "data": {
            "text/plain": [
              "<matplotlib.legend.Legend at 0x7fb4195d5a90>"
            ]
          },
          "metadata": {},
          "execution_count": 219
        },
        {
          "output_type": "display_data",
          "data": {
            "text/plain": [
              "<Figure size 432x288 with 1 Axes>"
            ],
            "image/png": "[encoded data removed]"
          },
          "metadata": {
            "needs_background": "light"
          }
        }
      ]
    },
    {
      "cell_type": "code",
      "source": [
        "print(\"The best value for max_depth:\", best_max_depth)"
      ],
      "metadata": {
        "colab": {
          "base_uri": "https://localhost:8080/"
        },
        "id": "0gBd2gr5FQ8R",
        "outputId": "e17b0fdc-8ebd-42a3-cee4-fcc208477ed9"
      },
      "execution_count": 220,
      "outputs": [
        {
          "output_type": "stream",
          "name": "stdout",
          "text": [
            "The best value for max_depth: 8\n"
          ]
        }
      ]
    },
    {
      "cell_type": "code",
      "source": [
        "print(\"The corresponding validation error:\", min_val_error)"
      ],
      "metadata": {
        "colab": {
          "base_uri": "https://localhost:8080/"
        },
        "id": "eBb4xYCFFDnN",
        "outputId": "e7d9d362-0a08-42ef-9b25-ca8674984341"
      },
      "execution_count": 221,
      "outputs": [
        {
          "output_type": "stream",
          "name": "stdout",
          "text": [
            "The corresponding validation error: 0.576209999718572\n"
          ]
        }
      ]
    },
    {
      "cell_type": "markdown",
      "source": [
        "Performance on test set:"
      ],
      "metadata": {
        "id": "t7PpAQvpdOqC"
      }
    },
    {
      "cell_type": "code",
      "source": [
        "tree_regressor = DecisionTreeRegressor(max_depth=best_max_depth)"
      ],
      "metadata": {
        "id": "0kAwedfpbcqS"
      },
      "execution_count": 222,
      "outputs": []
    },
    {
      "cell_type": "code",
      "source": [
        "tree_regressor.fit(X_train_np,y_train_np)\n",
        "predictions = tree_regressor.predict(X_test_np)\n",
        "errors = abs(predictions - y_test_np)\n",
        "mape = 100 * (errors / y_test_np)\n",
        "accuracy = 100 - np.mean(mape)\n",
        "print('Test Accuracy:', round(accuracy, 2), '%')\n",
        "print('Test error:', round(mae(y_val_np, tree_regressor.predict(X_test_np)),5))"
      ],
      "metadata": {
        "colab": {
          "base_uri": "https://localhost:8080/"
        },
        "id": "ixzV4wSlbc2o",
        "outputId": "f047067b-01f2-4cb5-d35a-3acca9144fb5"
      },
      "execution_count": 223,
      "outputs": [
        {
          "output_type": "stream",
          "name": "stdout",
          "text": [
            "Test Accuracy: 87.31 %\n",
            "Test error: 1.0074\n"
          ]
        }
      ]
    },
    {
      "cell_type": "markdown",
      "source": [
        "##3.2. Random Forest Regressor"
      ],
      "metadata": {
        "id": "Sz0JhO3h01s_"
      }
    },
    {
      "cell_type": "code",
      "source": [
        "max_depths = range(1, 25)\n",
        "training_error = []\n",
        "val_error = []\n",
        "\n",
        "min_val_error = 100000\n",
        "best_max_depth = 0\n",
        "\n",
        "for max_depth in max_depths:\n",
        "    model_rfr = RandomForestRegressor(n_estimators=100, max_depth=max_depth)\n",
        "    model_rfr.fit(X_train_np, y_train_np)\n",
        "    training_error.append(mae(y_train_np, model_rfr.predict(X_train_np)))\n",
        "    val_error_for_this_iter = mae(y_val_np, model_rfr.predict(X_val_np))\n",
        "    val_error.append(val_error_for_this_iter)\n",
        "\n",
        "    if val_error_for_this_iter < min_val_error:\n",
        "      best_max_depth = max_depth\n",
        "      min_val_error = val_error_for_this_iter\n",
        "    \n",
        "plt.plot(max_depths, training_error, color='red', label='Training error')\n",
        "plt.plot(max_depths, val_error, color='green', label='Valuation error')\n",
        "plt.xlabel('Tree depth')\n",
        "plt.ylabel('Mean absolute error')\n",
        "plt.title('Hyperparameter Tuning', pad=15, size=15)\n",
        "plt.legend()"
      ],
      "metadata": {
        "colab": {
          "base_uri": "https://localhost:8080/",
          "height": 323
        },
        "id": "i0E-qg-YHsAj",
        "outputId": "7e3ce3e7-d168-435c-c7e6-a2ca86c63cae"
      },
      "execution_count": 224,
      "outputs": [
        {
          "output_type": "execute_result",
          "data": {
            "text/plain": [
              "<matplotlib.legend.Legend at 0x7fb418c68290>"
            ]
          },
          "metadata": {},
          "execution_count": 224
        },
        {
          "output_type": "display_data",
          "data": {
            "text/plain": [
              "<Figure size 432x288 with 1 Axes>"
            ],
            "image/png": "[encoded data removed]"
          },
          "metadata": {
            "needs_background": "light"
          }
        }
      ]
    },
    {
      "cell_type": "code",
      "source": [
        "print(\"The best value for max_depth:\", best_max_depth)"
      ],
      "metadata": {
        "colab": {
          "base_uri": "https://localhost:8080/"
        },
        "id": "UCQy_fk9KNao",
        "outputId": "5311d280-20c4-4bb3-ed9e-700467e2c129"
      },
      "execution_count": 225,
      "outputs": [
        {
          "output_type": "stream",
          "name": "stdout",
          "text": [
            "The best value for max_depth: 18\n"
          ]
        }
      ]
    },
    {
      "cell_type": "code",
      "source": [
        "print(\"The corresponding validation error:\", min_val_error)"
      ],
      "metadata": {
        "colab": {
          "base_uri": "https://localhost:8080/"
        },
        "id": "crw1EDQ-KNmd",
        "outputId": "9be93f00-b8c4-4425-f5dc-3d9b70b21b91"
      },
      "execution_count": 226,
      "outputs": [
        {
          "output_type": "stream",
          "name": "stdout",
          "text": [
            "The corresponding validation error: 0.48512251809892\n"
          ]
        }
      ]
    },
    {
      "cell_type": "markdown",
      "source": [
        "Performance on test set:"
      ],
      "metadata": {
        "id": "tLYCVHyHcbjT"
      }
    },
    {
      "cell_type": "code",
      "source": [
        "rand_regressor=RandomForestRegressor(n_estimators=100, max_depth = best_max_depth)"
      ],
      "metadata": {
        "id": "pGABltsTWN-Y"
      },
      "execution_count": 227,
      "outputs": []
    },
    {
      "cell_type": "code",
      "source": [
        "rand_regressor.fit(X_train_np,y_train_np)\n",
        "predictions = rand_regressor.predict(X_test_np)\n",
        "errors = abs(predictions - y_test_np)\n",
        "mape = 100 * (errors / y_test_np)\n",
        "accuracy = 100 - np.mean(mape)\n",
        "print('Test Accuracy:', round(accuracy, 2), '%')\n",
        "print('Test error:', round(mae(y_val_np, rand_regressor.predict(X_test_np)),5))"
      ],
      "metadata": {
        "colab": {
          "base_uri": "https://localhost:8080/"
        },
        "id": "inMVk2bdX4TV",
        "outputId": "75fcd185-bd04-48f8-c435-dec132508afd"
      },
      "execution_count": 228,
      "outputs": [
        {
          "output_type": "stream",
          "name": "stdout",
          "text": [
            "Test Accuracy: 89.54 %\n",
            "Test error: 0.99913\n"
          ]
        }
      ]
    },
    {
      "cell_type": "markdown",
      "source": [
        "##XGBoost"
      ],
      "metadata": {
        "id": "vW6ilcCDgVbD"
      }
    },
    {
      "cell_type": "code",
      "source": [
        "max_depths = range(1, 25)\n",
        "training_error = []\n",
        "val_error = []\n",
        "\n",
        "min_val_error = 100000\n",
        "best_max_depth = 0\n",
        "\n",
        "for max_depth in max_depths:\n",
        "    model_xgbr = XGBRegressor(n_estimators=100, max_depth=max_depth, verbosity = 0)\n",
        "    model_xgbr.fit(X_train_np, y_train_np)\n",
        "    training_error.append(mae(y_train_np, model_xgbr.predict(X_train_np)))\n",
        "    val_error_for_this_iter = mae(y_val_np, model_xgbr.predict(X_val_np))\n",
        "    val_error.append(val_error_for_this_iter)\n",
        "\n",
        "    if val_error_for_this_iter < min_val_error:\n",
        "      best_max_depth = max_depth\n",
        "      min_val_error = val_error_for_this_iter\n",
        "    \n",
        "plt.plot(max_depths, training_error, color='red', label='Training error')\n",
        "plt.plot(max_depths, val_error, color='green', label='Valuation error')\n",
        "plt.xlabel('Tree depth')\n",
        "plt.ylabel('Mean absolute error')\n",
        "plt.title('Hyperparameter Tuning', pad=15, size=15)\n",
        "plt.legend()"
      ],
      "metadata": {
        "colab": {
          "base_uri": "https://localhost:8080/",
          "height": 323
        },
        "id": "S-L2en9ill-E",
        "outputId": "ee067c8a-1c12-420c-efe3-e6b740948e33"
      },
      "execution_count": 229,
      "outputs": [
        {
          "output_type": "execute_result",
          "data": {
            "text/plain": [
              "<matplotlib.legend.Legend at 0x7fb4215bab10>"
            ]
          },
          "metadata": {},
          "execution_count": 229
        },
        {
          "output_type": "display_data",
          "data": {
            "text/plain": [
              "<Figure size 432x288 with 1 Axes>"
            ],
            "image/png": "[encoded data removed]"
          },
          "metadata": {
            "needs_background": "light"
          }
        }
      ]
    },
    {
      "cell_type": "code",
      "source": [
        "print(\"The best value for max_depth:\", best_max_depth)"
      ],
      "metadata": {
        "colab": {
          "base_uri": "https://localhost:8080/"
        },
        "id": "MPArk3SilmqV",
        "outputId": "dcbcf542-7236-4a55-f135-58b65b150824"
      },
      "execution_count": 230,
      "outputs": [
        {
          "output_type": "stream",
          "name": "stdout",
          "text": [
            "The best value for max_depth: 6\n"
          ]
        }
      ]
    },
    {
      "cell_type": "code",
      "source": [
        "print(\"The corresponding validation error:\", min_val_error)"
      ],
      "metadata": {
        "colab": {
          "base_uri": "https://localhost:8080/"
        },
        "id": "NHFguqqdlm8q",
        "outputId": "dd0dcca4-f8ff-483c-f2d8-70ab61b13a52"
      },
      "execution_count": 231,
      "outputs": [
        {
          "output_type": "stream",
          "name": "stdout",
          "text": [
            "The corresponding validation error: 0.47162922349610553\n"
          ]
        }
      ]
    },
    {
      "cell_type": "markdown",
      "source": [
        "Performance on test set:"
      ],
      "metadata": {
        "id": "1Q7OK7nNnHBP"
      }
    },
    {
      "cell_type": "code",
      "source": [
        "xgb_regressor=XGBRegressor(n_estimators=100, max_depth = best_max_depth, verbosity = 0)"
      ],
      "metadata": {
        "id": "7Z45zwmzlnXJ"
      },
      "execution_count": 232,
      "outputs": []
    },
    {
      "cell_type": "code",
      "source": [
        "xgb_regressor.fit(X_train_np,y_train_np)\n",
        "predictions = xgb_regressor.predict(X_test_np)\n",
        "errors = abs(predictions - y_test_np)\n",
        "mape = 100 * (errors / y_test_np)\n",
        "accuracy = 100 - np.mean(mape)\n",
        "print('Test Accuracy:', round(accuracy, 2), '%')\n",
        "print('Test error:', round(mae(y_val_np, xgb_regressor.predict(X_test_np)),5))"
      ],
      "metadata": {
        "colab": {
          "base_uri": "https://localhost:8080/"
        },
        "id": "_WSUCaHqnfYt",
        "outputId": "048d2f0e-804d-4efd-cfb7-3ba8dbc5721d"
      },
      "execution_count": 233,
      "outputs": [
        {
          "output_type": "stream",
          "name": "stdout",
          "text": [
            "Test Accuracy: 89.77 %\n",
            "Test error: 1.00444\n"
          ]
        }
      ]
    },
    {
      "cell_type": "markdown",
      "source": [
        "##Neural Network"
      ],
      "metadata": {
        "id": "h7P2-tqYrsWY"
      }
    },
    {
      "cell_type": "code",
      "source": [
        "from tensorflow.keras.models import Sequential\n",
        "from tensorflow.keras.layers import *\n",
        "from tensorflow.keras.callbacks import ModelCheckpoint\n",
        "from tensorflow.keras.metrics import MeanAbsoluteError\n",
        "from tensorflow.keras.optimizers import Adam"
      ],
      "metadata": {
        "id": "Wo0bNIVerys1"
      },
      "execution_count": 234,
      "outputs": []
    },
    {
      "cell_type": "code",
      "source": [
        "simple_nn = Sequential()\n",
        "\n",
        "\n",
        "simple_nn.add(InputLayer((42,)))\n",
        "simple_nn.add(Dense(30, 'relu'))\n",
        "simple_nn.add(Dense(20, 'relu'))\n",
        "simple_nn.add(Dense(5, 'relu'))\n",
        "simple_nn.add(Dense(1, 'linear'))\n",
        "\n",
        "opt = Adam(learning_rate=.01)\n",
        "cp = ModelCheckpoint('/content/sample_data/simple_nn', save_best_only=True)\n",
        "simple_nn.compile(optimizer=opt, loss='mse', metrics=[MeanAbsoluteError()])\n",
        "simple_nn.summary()"
      ],
      "metadata": {
        "colab": {
          "base_uri": "https://localhost:8080/"
        },
        "id": "NVRYgzM6rzpb",
        "outputId": "c5575763-26d2-4abb-ae0c-24d41c604f68"
      },
      "execution_count": 235,
      "outputs": [
        {
          "output_type": "stream",
          "name": "stdout",
          "text": [
            "Model: \"sequential_5\"\n",
            "_________________________________________________________________\n",
            " Layer (type)                Output Shape              Param #   \n",
            "=================================================================\n",
            " dense_20 (Dense)            (None, 30)                1290      \n",
            "                                                                 \n",
            " dense_21 (Dense)            (None, 20)                620       \n",
            "                                                                 \n",
            " dense_22 (Dense)            (None, 5)                 105       \n",
            "                                                                 \n",
            " dense_23 (Dense)            (None, 1)                 6         \n",
            "                                                                 \n",
            "=================================================================\n",
            "Total params: 2,021\n",
            "Trainable params: 2,021\n",
            "Non-trainable params: 0\n",
            "_________________________________________________________________\n"
          ]
        }
      ]
    },
    {
      "cell_type": "code",
      "source": [
        "history = simple_nn.fit(x=X_train_np, y=y_train_np, validation_data=(X_val_np, y_val_np), callbacks=[cp], epochs=50, batch_size = 64)"
      ],
      "metadata": {
        "colab": {
          "base_uri": "https://localhost:8080/"
        },
        "id": "eS7aMxy_r0FQ",
        "outputId": "09f75e72-750c-420f-f6d0-0c064536d167"
      },
      "execution_count": 236,
      "outputs": [
        {
          "output_type": "stream",
          "name": "stdout",
          "text": [
            "Epoch 1/50\n",
            "44/59 [=====================>........] - ETA: 0s - loss: 12.5872 - mean_absolute_error: 2.7276INFO:tensorflow:Assets written to: /content/sample_data/simple_nn/assets\n",
            "59/59 [==============================] - 2s 19ms/step - loss: 9.8174 - mean_absolute_error: 2.2725 - val_loss: 1.1437 - val_mean_absolute_error: 0.8383\n",
            "Epoch 2/50\n",
            "48/59 [=======================>......] - ETA: 0s - loss: 1.0402 - mean_absolute_error: 0.7890INFO:tensorflow:Assets written to: /content/sample_data/simple_nn/assets\n",
            "59/59 [==============================] - 1s 17ms/step - loss: 1.0186 - mean_absolute_error: 0.7786 - val_loss: 0.8620 - val_mean_absolute_error: 0.7095\n",
            "Epoch 3/50\n",
            "40/59 [===================>..........] - ETA: 0s - loss: 0.8206 - mean_absolute_error: 0.6819INFO:tensorflow:Assets written to: /content/sample_data/simple_nn/assets\n",
            "59/59 [==============================] - 1s 18ms/step - loss: 0.8170 - mean_absolute_error: 0.6807 - val_loss: 0.7636 - val_mean_absolute_error: 0.6642\n",
            "Epoch 4/50\n",
            "45/59 [=====================>........] - ETA: 0s - loss: 0.7154 - mean_absolute_error: 0.6248INFO:tensorflow:Assets written to: /content/sample_data/simple_nn/assets\n",
            "59/59 [==============================] - 1s 17ms/step - loss: 0.7121 - mean_absolute_error: 0.6254 - val_loss: 0.6441 - val_mean_absolute_error: 0.6007\n",
            "Epoch 5/50\n",
            "44/59 [=====================>........] - ETA: 0s - loss: 0.6538 - mean_absolute_error: 0.5956INFO:tensorflow:Assets written to: /content/sample_data/simple_nn/assets\n",
            "59/59 [==============================] - 1s 17ms/step - loss: 0.6494 - mean_absolute_error: 0.5911 - val_loss: 0.6094 - val_mean_absolute_error: 0.5814\n",
            "Epoch 6/50\n",
            "45/59 [=====================>........] - ETA: 0s - loss: 0.6283 - mean_absolute_error: 0.5826INFO:tensorflow:Assets written to: /content/sample_data/simple_nn/assets\n",
            "59/59 [==============================] - 1s 17ms/step - loss: 0.6216 - mean_absolute_error: 0.5799 - val_loss: 0.5978 - val_mean_absolute_error: 0.5865\n",
            "Epoch 7/50\n",
            "41/59 [===================>..........] - ETA: 0s - loss: 0.6000 - mean_absolute_error: 0.5641INFO:tensorflow:Assets written to: /content/sample_data/simple_nn/assets\n",
            "59/59 [==============================] - 1s 17ms/step - loss: 0.5834 - mean_absolute_error: 0.5605 - val_loss: 0.5630 - val_mean_absolute_error: 0.5630\n",
            "Epoch 8/50\n",
            "59/59 [==============================] - 0s 3ms/step - loss: 0.5590 - mean_absolute_error: 0.5497 - val_loss: 0.5758 - val_mean_absolute_error: 0.5768\n",
            "Epoch 9/50\n",
            "56/59 [===========================>..] - ETA: 0s - loss: 0.5354 - mean_absolute_error: 0.5342INFO:tensorflow:Assets written to: /content/sample_data/simple_nn/assets\n",
            "59/59 [==============================] - 1s 22ms/step - loss: 0.5375 - mean_absolute_error: 0.5355 - val_loss: 0.5376 - val_mean_absolute_error: 0.5514\n",
            "Epoch 10/50\n",
            "48/59 [=======================>......] - ETA: 0s - loss: 0.5427 - mean_absolute_error: 0.5422INFO:tensorflow:Assets written to: /content/sample_data/simple_nn/assets\n",
            "59/59 [==============================] - 1s 17ms/step - loss: 0.5341 - mean_absolute_error: 0.5357 - val_loss: 0.5350 - val_mean_absolute_error: 0.5396\n",
            "Epoch 11/50\n",
            "59/59 [==============================] - 0s 3ms/step - loss: 0.5229 - mean_absolute_error: 0.5285 - val_loss: 0.5491 - val_mean_absolute_error: 0.5853\n",
            "Epoch 12/50\n",
            "59/59 [==============================] - ETA: 0s - loss: 0.5150 - mean_absolute_error: 0.5255INFO:tensorflow:Assets written to: /content/sample_data/simple_nn/assets\n",
            "59/59 [==============================] - 1s 18ms/step - loss: 0.5150 - mean_absolute_error: 0.5255 - val_loss: 0.4991 - val_mean_absolute_error: 0.5275\n",
            "Epoch 13/50\n",
            "59/59 [==============================] - 0s 3ms/step - loss: 0.4938 - mean_absolute_error: 0.5111 - val_loss: 0.5085 - val_mean_absolute_error: 0.5321\n",
            "Epoch 14/50\n",
            "59/59 [==============================] - 0s 3ms/step - loss: 0.4841 - mean_absolute_error: 0.5067 - val_loss: 0.5449 - val_mean_absolute_error: 0.5661\n",
            "Epoch 15/50\n",
            "59/59 [==============================] - 0s 3ms/step - loss: 0.4859 - mean_absolute_error: 0.5130 - val_loss: 0.5251 - val_mean_absolute_error: 0.5241\n",
            "Epoch 16/50\n",
            "59/59 [==============================] - 0s 3ms/step - loss: 0.4747 - mean_absolute_error: 0.5007 - val_loss: 0.5019 - val_mean_absolute_error: 0.5460\n",
            "Epoch 17/50\n",
            "45/59 [=====================>........] - ETA: 0s - loss: 0.5006 - mean_absolute_error: 0.5152INFO:tensorflow:Assets written to: /content/sample_data/simple_nn/assets\n",
            "59/59 [==============================] - 1s 17ms/step - loss: 0.4953 - mean_absolute_error: 0.5168 - val_loss: 0.4851 - val_mean_absolute_error: 0.5208\n",
            "Epoch 18/50\n",
            "59/59 [==============================] - 0s 3ms/step - loss: 0.4696 - mean_absolute_error: 0.5021 - val_loss: 0.4885 - val_mean_absolute_error: 0.5293\n",
            "Epoch 19/50\n",
            "59/59 [==============================] - 0s 3ms/step - loss: 0.4722 - mean_absolute_error: 0.5062 - val_loss: 0.4915 - val_mean_absolute_error: 0.5395\n",
            "Epoch 20/50\n",
            "59/59 [==============================] - 0s 3ms/step - loss: 0.4638 - mean_absolute_error: 0.4925 - val_loss: 0.5186 - val_mean_absolute_error: 0.5491\n",
            "Epoch 21/50\n",
            "59/59 [==============================] - 0s 3ms/step - loss: 0.4527 - mean_absolute_error: 0.4921 - val_loss: 0.4944 - val_mean_absolute_error: 0.5414\n",
            "Epoch 22/50\n",
            "59/59 [==============================] - 0s 3ms/step - loss: 0.4466 - mean_absolute_error: 0.4910 - val_loss: 0.5157 - val_mean_absolute_error: 0.5334\n",
            "Epoch 23/50\n",
            "47/59 [======================>.......] - ETA: 0s - loss: 0.4645 - mean_absolute_error: 0.4990INFO:tensorflow:Assets written to: /content/sample_data/simple_nn/assets\n",
            "59/59 [==============================] - 1s 17ms/step - loss: 0.4555 - mean_absolute_error: 0.4954 - val_loss: 0.4708 - val_mean_absolute_error: 0.5155\n",
            "Epoch 24/50\n",
            "59/59 [==============================] - 0s 3ms/step - loss: 0.4350 - mean_absolute_error: 0.4826 - val_loss: 0.4875 - val_mean_absolute_error: 0.5302\n",
            "Epoch 25/50\n",
            "45/59 [=====================>........] - ETA: 0s - loss: 0.4410 - mean_absolute_error: 0.4826INFO:tensorflow:Assets written to: /content/sample_data/simple_nn/assets\n",
            "59/59 [==============================] - 1s 17ms/step - loss: 0.4316 - mean_absolute_error: 0.4813 - val_loss: 0.4677 - val_mean_absolute_error: 0.5196\n",
            "Epoch 26/50\n",
            "59/59 [==============================] - 0s 3ms/step - loss: 0.4332 - mean_absolute_error: 0.4824 - val_loss: 0.5009 - val_mean_absolute_error: 0.5442\n",
            "Epoch 27/50\n",
            "59/59 [==============================] - 0s 3ms/step - loss: 0.4259 - mean_absolute_error: 0.4788 - val_loss: 0.5450 - val_mean_absolute_error: 0.5917\n",
            "Epoch 28/50\n",
            "59/59 [==============================] - 0s 3ms/step - loss: 0.4456 - mean_absolute_error: 0.4958 - val_loss: 0.5131 - val_mean_absolute_error: 0.5310\n",
            "Epoch 29/50\n",
            "59/59 [==============================] - 0s 3ms/step - loss: 0.4397 - mean_absolute_error: 0.4909 - val_loss: 0.6001 - val_mean_absolute_error: 0.5859\n",
            "Epoch 30/50\n",
            "59/59 [==============================] - 0s 3ms/step - loss: 0.4282 - mean_absolute_error: 0.4818 - val_loss: 0.4839 - val_mean_absolute_error: 0.5386\n",
            "Epoch 31/50\n",
            "59/59 [==============================] - 0s 3ms/step - loss: 0.4369 - mean_absolute_error: 0.4898 - val_loss: 0.4807 - val_mean_absolute_error: 0.5161\n",
            "Epoch 32/50\n",
            "59/59 [==============================] - 0s 3ms/step - loss: 0.4206 - mean_absolute_error: 0.4767 - val_loss: 0.5183 - val_mean_absolute_error: 0.5487\n",
            "Epoch 33/50\n",
            "59/59 [==============================] - 0s 3ms/step - loss: 0.4170 - mean_absolute_error: 0.4751 - val_loss: 0.4847 - val_mean_absolute_error: 0.5380\n",
            "Epoch 34/50\n",
            "59/59 [==============================] - 0s 3ms/step - loss: 0.4227 - mean_absolute_error: 0.4800 - val_loss: 0.5232 - val_mean_absolute_error: 0.5522\n",
            "Epoch 35/50\n",
            "59/59 [==============================] - 0s 3ms/step - loss: 0.4086 - mean_absolute_error: 0.4716 - val_loss: 0.5012 - val_mean_absolute_error: 0.5431\n",
            "Epoch 36/50\n",
            "59/59 [==============================] - 0s 3ms/step - loss: 0.3982 - mean_absolute_error: 0.4633 - val_loss: 0.4943 - val_mean_absolute_error: 0.5453\n",
            "Epoch 37/50\n",
            "59/59 [==============================] - 0s 3ms/step - loss: 0.4049 - mean_absolute_error: 0.4664 - val_loss: 0.4724 - val_mean_absolute_error: 0.5255\n",
            "Epoch 38/50\n",
            "59/59 [==============================] - 0s 3ms/step - loss: 0.4119 - mean_absolute_error: 0.4718 - val_loss: 0.4963 - val_mean_absolute_error: 0.5360\n",
            "Epoch 39/50\n",
            "59/59 [==============================] - 0s 3ms/step - loss: 0.3949 - mean_absolute_error: 0.4614 - val_loss: 0.4803 - val_mean_absolute_error: 0.5374\n",
            "Epoch 40/50\n",
            "59/59 [==============================] - 0s 3ms/step - loss: 0.3929 - mean_absolute_error: 0.4645 - val_loss: 0.5308 - val_mean_absolute_error: 0.5743\n",
            "Epoch 41/50\n",
            "59/59 [==============================] - 0s 3ms/step - loss: 0.4057 - mean_absolute_error: 0.4718 - val_loss: 0.4852 - val_mean_absolute_error: 0.5304\n",
            "Epoch 42/50\n",
            "59/59 [==============================] - 0s 3ms/step - loss: 0.3948 - mean_absolute_error: 0.4645 - val_loss: 0.4839 - val_mean_absolute_error: 0.5291\n",
            "Epoch 43/50\n",
            "59/59 [==============================] - 0s 3ms/step - loss: 0.3870 - mean_absolute_error: 0.4564 - val_loss: 0.5035 - val_mean_absolute_error: 0.5487\n",
            "Epoch 44/50\n",
            "59/59 [==============================] - 0s 3ms/step - loss: 0.4018 - mean_absolute_error: 0.4697 - val_loss: 0.5428 - val_mean_absolute_error: 0.5724\n",
            "Epoch 45/50\n",
            "59/59 [==============================] - 0s 3ms/step - loss: 0.3889 - mean_absolute_error: 0.4600 - val_loss: 0.4867 - val_mean_absolute_error: 0.5379\n",
            "Epoch 46/50\n",
            "59/59 [==============================] - 0s 3ms/step - loss: 0.3902 - mean_absolute_error: 0.4646 - val_loss: 0.5201 - val_mean_absolute_error: 0.5624\n",
            "Epoch 47/50\n",
            "59/59 [==============================] - 0s 3ms/step - loss: 0.3835 - mean_absolute_error: 0.4621 - val_loss: 0.5132 - val_mean_absolute_error: 0.5485\n",
            "Epoch 48/50\n",
            "59/59 [==============================] - 0s 3ms/step - loss: 0.3662 - mean_absolute_error: 0.4489 - val_loss: 0.5043 - val_mean_absolute_error: 0.5452\n",
            "Epoch 49/50\n",
            "59/59 [==============================] - 0s 3ms/step - loss: 0.3622 - mean_absolute_error: 0.4461 - val_loss: 0.5974 - val_mean_absolute_error: 0.6116\n",
            "Epoch 50/50\n",
            "59/59 [==============================] - 0s 3ms/step - loss: 0.3905 - mean_absolute_error: 0.4660 - val_loss: 0.5481 - val_mean_absolute_error: 0.5731\n"
          ]
        }
      ]
    },
    {
      "cell_type": "code",
      "source": [
        "plt.plot(history.history['loss'])\n",
        "plt.plot(history.history['val_loss'])\n",
        "plt.title('model loss')\n",
        "plt.ylabel('loss')\n",
        "plt.xlabel('epoch')\n",
        "plt.legend(['train', 'validation'], loc='upper left')\n",
        "plt.show()"
      ],
      "metadata": {
        "colab": {
          "base_uri": "https://localhost:8080/",
          "height": 295
        },
        "id": "W9ljfQyaxDID",
        "outputId": "52c3eb90-859c-41bb-d27e-50dbbea55a21"
      },
      "execution_count": 237,
      "outputs": [
        {
          "output_type": "display_data",
          "data": {
            "text/plain": [
              "<Figure size 432x288 with 1 Axes>"
            ],
            "image/png": "[encoded data removed]"
          },
          "metadata": {
            "needs_background": "light"
          }
        }
      ]
    },
    {
      "cell_type": "code",
      "source": [
        "plt.plot(history.history['mean_absolute_error'])\n",
        "plt.plot(history.history['val_mean_absolute_error'])\n",
        "plt.title('model mae')\n",
        "plt.ylabel('mae')\n",
        "plt.xlabel('epoch')\n",
        "plt.legend(['train', 'validation'], loc='upper left')\n",
        "plt.show()"
      ],
      "metadata": {
        "colab": {
          "base_uri": "https://localhost:8080/",
          "height": 295
        },
        "id": "2RPE_hW7xDeD",
        "outputId": "087caeb7-6469-43f7-a0f7-418d1bf815d0"
      },
      "execution_count": 238,
      "outputs": [
        {
          "output_type": "display_data",
          "data": {
            "text/plain": [
              "<Figure size 432x288 with 1 Axes>"
            ],
            "image/png": "[encoded data removed]"
          },
          "metadata": {
            "needs_background": "light"
          }
        }
      ]
    },
    {
      "cell_type": "code",
      "source": [
        "predictions = simple_nn.predict(X_test_np)"
      ],
      "metadata": {
        "id": "SyBd1q0zr0i0"
      },
      "execution_count": 239,
      "outputs": []
    },
    {
      "cell_type": "code",
      "source": [
        "errors = abs(predictions - y_test_np)\n",
        "mape = 100 * (errors / y_test_np)\n",
        "accuracy = 100 - np.mean(mape)\n",
        "print('Test Accuracy:', round(accuracy, 2), '%')\n",
        "print('Test error:', round(mae(y_val_np, simple_nn.predict(X_test_np)),5))"
      ],
      "metadata": {
        "colab": {
          "base_uri": "https://localhost:8080/"
        },
        "id": "guufUYFMr1c-",
        "outputId": "83daf75d-4db6-47bc-ef39-aeed444b60d9"
      },
      "execution_count": 240,
      "outputs": [
        {
          "output_type": "stream",
          "name": "stdout",
          "text": [
            "Test Accuracy: 79.92 %\n",
            "Test error: 1.05918\n"
          ]
        }
      ]
    },
    {
      "cell_type": "markdown",
      "source": [
        "##3. Results"
      ],
      "metadata": {
        "id": "jcdZJOPcoWd5"
      }
    },
    {
      "cell_type": "markdown",
      "source": [
        "The summary of the different models' performance on the test dataset are as follows:"
      ],
      "metadata": {
        "id": "Jf7n13xK2fvD"
      }
    },
    {
      "cell_type": "markdown",
      "source": [
        "| Model | Mean Absolute Error | Accuracy |\n",
        "| --- | --- | --- |\n",
        "| Decision Tree Regressor | 1.0074 | 87.31% |\n",
        "| Random Forest Regressor | 0.9991 | 89.54% |\n",
        "| XGBoost Regressor | 1.0044 | 89.77% |\n",
        "| Neural Network | 1.0592 | 79.92% |"
      ],
      "metadata": {
        "id": "vEPP0TskyOXn"
      }
    },
    {
      "cell_type": "markdown",
      "source": [
        "Based on the mean absolute error, we conclude that random forest regressor performs better than other algorithms. It should be noted that XGBoost regressor is a close second."
      ],
      "metadata": {
        "id": "_rR60E3h2ql-"
      }
    }
  ]
}