{
  "nbformat": 4,
  "nbformat_minor": 0,
  "metadata": {
    "colab": {
      "name": "IMDB_mrp_Model_Selection.ipynb",
      "provenance": [],
      "collapsed_sections": [],
      "authorship_tag": "ABX9TyP49h4fxmDRXFIyIfeGJ0xx",
      "include_colab_link": true
    },
    "kernelspec": {
      "name": "python3",
      "display_name": "Python 3"
    },
    "language_info": {
      "name": "python"
    }
  },
  "cells": [
    {
      "cell_type": "markdown",
      "metadata": {
        "id": "view-in-github",
        "colab_type": "text"
      },
      "source": [
        "<a href=\"https://colab.research.google.com/github/NBK-code/IMDB_Movie_Rating_Prediction/blob/main/IMDB_mrp_Model_Selection.ipynb\" target=\"_parent\"><img src=\"https://colab.research.google.com/assets/colab-badge.svg\" alt=\"Open In Colab\"/></a>"
      ]
    },
    {
      "cell_type": "markdown",
      "source": [
        "#1. Import Neccessary Libraries"
      ],
      "metadata": {
        "id": "v-qBsQm2siRf"
      }
    },
    {
      "cell_type": "code",
      "execution_count": 1,
      "metadata": {
        "id": "Z9q4Xqw2VITF"
      },
      "outputs": [],
      "source": [
        "# data analysis and wrangling\n",
        "import pandas as pd\n",
        "import numpy as np\n",
        "import random as rnd\n",
        "\n",
        "# visualization\n",
        "import seaborn as sns\n",
        "import matplotlib.pyplot as plt\n",
        "%matplotlib inline\n",
        "\n",
        "# machine learning\n",
        "from sklearn.tree import DecisionTreeRegressor\n",
        "from sklearn.ensemble import RandomForestRegressor\n",
        "from xgboost import XGBRegressor"
      ]
    },
    {
      "cell_type": "markdown",
      "source": [
        "#2. Prepare Train, Val and Test Datasets"
      ],
      "metadata": {
        "id": "zYhbRJ2PswHV"
      }
    },
    {
      "cell_type": "code",
      "source": [
        "X_train = pd.read_csv('/content/sample_data/X_train_scaled.csv')\n",
        "X_val = pd.read_csv('/content/sample_data/X_val_scaled.csv')\n",
        "X_test = pd.read_csv('/content/sample_data/X_test_scaled.csv')"
      ],
      "metadata": {
        "id": "Qqy5Wp2KVO4g"
      },
      "execution_count": 2,
      "outputs": []
    },
    {
      "cell_type": "code",
      "source": [
        "y_train = pd.read_csv('/content/sample_data/y_train_scaled.csv')\n",
        "y_val = pd.read_csv('/content/sample_data/y_val_scaled.csv')\n",
        "y_test = pd.read_csv('/content/sample_data/y_test_scaled.csv')"
      ],
      "metadata": {
        "id": "1Z6-OXJtV8j8"
      },
      "execution_count": 3,
      "outputs": []
    },
    {
      "cell_type": "code",
      "source": [
        "X_train.shape, X_val.shape, X_test.shape, y_train.shape, y_val.shape, y_test.shape"
      ],
      "metadata": {
        "colab": {
          "base_uri": "https://localhost:8080/"
        },
        "id": "SPCavzl1WFQ9",
        "outputId": "9edf4216-0da3-4e05-ef75-6dac1f9b13be"
      },
      "execution_count": 4,
      "outputs": [
        {
          "output_type": "execute_result",
          "data": {
            "text/plain": [
              "((3727, 43), (466, 43), (466, 43), (3727, 2), (466, 2), (466, 2))"
            ]
          },
          "metadata": {},
          "execution_count": 4
        }
      ]
    },
    {
      "cell_type": "code",
      "source": [
        "X_train.head()"
      ],
      "metadata": {
        "colab": {
          "base_uri": "https://localhost:8080/",
          "height": 317
        },
        "id": "zVvGOSQIa51g",
        "outputId": "49b374e1-8e6e-42ec-9825-b0b01c23a937"
      },
      "execution_count": 5,
      "outputs": [
        {
          "output_type": "execute_result",
          "data": {
            "text/plain": [
              "   Unnamed: 0  USA   UK  France  Canada    R  PG-13   PG    G  History  ...  \\\n",
              "0           0  1.0  0.0     0.0     0.0  1.0    0.0  0.0  0.0      0.0  ...   \n",
              "1           1  1.0  0.0     0.0     0.0  0.0    1.0  0.0  0.0      0.0  ...   \n",
              "2           2  1.0  0.0     0.0     0.0  0.0    1.0  0.0  0.0      0.0  ...   \n",
              "3           3  1.0  0.0     0.0     0.0  1.0    0.0  0.0  0.0      0.0  ...   \n",
              "4           4  0.0  0.0     0.0     0.0  1.0    0.0  0.0  0.0      0.0  ...   \n",
              "\n",
              "   duration  director_facebook_likes  actor_3_facebook_likes  \\\n",
              "0 -0.498952                -0.913619               -0.520577   \n",
              "1  1.251562                -1.610674                2.235354   \n",
              "2 -0.329754                 0.170832                0.027888   \n",
              "3  1.138383                 0.546689                0.252142   \n",
              "4 -1.534721                 1.130255               -1.399331   \n",
              "\n",
              "   actor_1_facebook_likes     gross  num_voted_users  facenumber_in_poster  \\\n",
              "0               -0.824608 -1.963551        -1.720132              0.283456   \n",
              "1                1.468370  2.521017         1.767974              0.283456   \n",
              "2                0.987340  0.715569        -0.074789              0.860275   \n",
              "3                1.354480  0.801017         2.382668              0.283456   \n",
              "4               -0.779355 -0.644141         0.991469              0.283456   \n",
              "\n",
              "     budget  actor_2_facebook_likes  movie_facebook_likes  \n",
              "0 -1.663723               -0.799471              0.590718  \n",
              "1  2.133861                2.128717             -1.051257  \n",
              "2  0.325623                1.772617             -1.051257  \n",
              "3  0.818355                0.334583              1.415094  \n",
              "4 -1.074267               -1.688927             -1.051257  \n",
              "\n",
              "[5 rows x 43 columns]"
            ],
            "text/html": [
              "\n",
              "  <div id=\"df-34fc2623-27b6-4dda-a2f5-ef5876f53b35\">\n",
              "    <div class=\"colab-df-container\">\n",
              "      <div>\n",
              "<style scoped>\n",
              "    .dataframe tbody tr th:only-of-type {\n",
              "        vertical-align: middle;\n",
              "    }\n",
              "\n",
              "    .dataframe tbody tr th {\n",
              "        vertical-align: top;\n",
              "    }\n",
              "\n",
              "    .dataframe thead th {\n",
              "        text-align: right;\n",
              "    }\n",
              "</style>\n",
              "<table border=\"1\" class=\"dataframe\">\n",
              "  <thead>\n",
              "    <tr style=\"text-align: right;\">\n",
              "      <th></th>\n",
              "      <th>Unnamed: 0</th>\n",
              "      <th>USA</th>\n",
              "      <th>UK</th>\n",
              "      <th>France</th>\n",
              "      <th>Canada</th>\n",
              "      <th>R</th>\n",
              "      <th>PG-13</th>\n",
              "      <th>PG</th>\n",
              "      <th>G</th>\n",
              "      <th>History</th>\n",
              "      <th>...</th>\n",
              "      <th>duration</th>\n",
              "      <th>director_facebook_likes</th>\n",
              "      <th>actor_3_facebook_likes</th>\n",
              "      <th>actor_1_facebook_likes</th>\n",
              "      <th>gross</th>\n",
              "      <th>num_voted_users</th>\n",
              "      <th>facenumber_in_poster</th>\n",
              "      <th>budget</th>\n",
              "      <th>actor_2_facebook_likes</th>\n",
              "      <th>movie_facebook_likes</th>\n",
              "    </tr>\n",
              "  </thead>\n",
              "  <tbody>\n",
              "    <tr>\n",
              "      <th>0</th>\n",
              "      <td>0</td>\n",
              "      <td>1.0</td>\n",
              "      <td>0.0</td>\n",
              "      <td>0.0</td>\n",
              "      <td>0.0</td>\n",
              "      <td>1.0</td>\n",
              "      <td>0.0</td>\n",
              "      <td>0.0</td>\n",
              "      <td>0.0</td>\n",
              "      <td>0.0</td>\n",
              "      <td>...</td>\n",
              "      <td>-0.498952</td>\n",
              "      <td>-0.913619</td>\n",
              "      <td>-0.520577</td>\n",
              "      <td>-0.824608</td>\n",
              "      <td>-1.963551</td>\n",
              "      <td>-1.720132</td>\n",
              "      <td>0.283456</td>\n",
              "      <td>-1.663723</td>\n",
              "      <td>-0.799471</td>\n",
              "      <td>0.590718</td>\n",
              "    </tr>\n",
              "    <tr>\n",
              "      <th>1</th>\n",
              "      <td>1</td>\n",
              "      <td>1.0</td>\n",
              "      <td>0.0</td>\n",
              "      <td>0.0</td>\n",
              "      <td>0.0</td>\n",
              "      <td>0.0</td>\n",
              "      <td>1.0</td>\n",
              "      <td>0.0</td>\n",
              "      <td>0.0</td>\n",
              "      <td>0.0</td>\n",
              "      <td>...</td>\n",
              "      <td>1.251562</td>\n",
              "      <td>-1.610674</td>\n",
              "      <td>2.235354</td>\n",
              "      <td>1.468370</td>\n",
              "      <td>2.521017</td>\n",
              "      <td>1.767974</td>\n",
              "      <td>0.283456</td>\n",
              "      <td>2.133861</td>\n",
              "      <td>2.128717</td>\n",
              "      <td>-1.051257</td>\n",
              "    </tr>\n",
              "    <tr>\n",
              "      <th>2</th>\n",
              "      <td>2</td>\n",
              "      <td>1.0</td>\n",
              "      <td>0.0</td>\n",
              "      <td>0.0</td>\n",
              "      <td>0.0</td>\n",
              "      <td>0.0</td>\n",
              "      <td>1.0</td>\n",
              "      <td>0.0</td>\n",
              "      <td>0.0</td>\n",
              "      <td>0.0</td>\n",
              "      <td>...</td>\n",
              "      <td>-0.329754</td>\n",
              "      <td>0.170832</td>\n",
              "      <td>0.027888</td>\n",
              "      <td>0.987340</td>\n",
              "      <td>0.715569</td>\n",
              "      <td>-0.074789</td>\n",
              "      <td>0.860275</td>\n",
              "      <td>0.325623</td>\n",
              "      <td>1.772617</td>\n",
              "      <td>-1.051257</td>\n",
              "    </tr>\n",
              "    <tr>\n",
              "      <th>3</th>\n",
              "      <td>3</td>\n",
              "      <td>1.0</td>\n",
              "      <td>0.0</td>\n",
              "      <td>0.0</td>\n",
              "      <td>0.0</td>\n",
              "      <td>1.0</td>\n",
              "      <td>0.0</td>\n",
              "      <td>0.0</td>\n",
              "      <td>0.0</td>\n",
              "      <td>0.0</td>\n",
              "      <td>...</td>\n",
              "      <td>1.138383</td>\n",
              "      <td>0.546689</td>\n",
              "      <td>0.252142</td>\n",
              "      <td>1.354480</td>\n",
              "      <td>0.801017</td>\n",
              "      <td>2.382668</td>\n",
              "      <td>0.283456</td>\n",
              "      <td>0.818355</td>\n",
              "      <td>0.334583</td>\n",
              "      <td>1.415094</td>\n",
              "    </tr>\n",
              "    <tr>\n",
              "      <th>4</th>\n",
              "      <td>4</td>\n",
              "      <td>0.0</td>\n",
              "      <td>0.0</td>\n",
              "      <td>0.0</td>\n",
              "      <td>0.0</td>\n",
              "      <td>1.0</td>\n",
              "      <td>0.0</td>\n",
              "      <td>0.0</td>\n",
              "      <td>0.0</td>\n",
              "      <td>0.0</td>\n",
              "      <td>...</td>\n",
              "      <td>-1.534721</td>\n",
              "      <td>1.130255</td>\n",
              "      <td>-1.399331</td>\n",
              "      <td>-0.779355</td>\n",
              "      <td>-0.644141</td>\n",
              "      <td>0.991469</td>\n",
              "      <td>0.283456</td>\n",
              "      <td>-1.074267</td>\n",
              "      <td>-1.688927</td>\n",
              "      <td>-1.051257</td>\n",
              "    </tr>\n",
              "  </tbody>\n",
              "</table>\n",
              "<p>5 rows × 43 columns</p>\n",
              "</div>\n",
              "      <button class=\"colab-df-convert\" onclick=\"convertToInteractive('df-34fc2623-27b6-4dda-a2f5-ef5876f53b35')\"\n",
              "              title=\"Convert this dataframe to an interactive table.\"\n",
              "              style=\"display:none;\">\n",
              "        \n",
              "  <svg xmlns=\"http://www.w3.org/2000/svg\" height=\"24px\"viewBox=\"0 0 24 24\"\n",
              "       width=\"24px\">\n",
              "    <path d=\"M0 0h24v24H0V0z\" fill=\"none\"/>\n",
              "    <path d=\"M18.56 5.44l.94 2.06.94-2.06 2.06-.94-2.06-.94-.94-2.06-.94 2.06-2.06.94zm-11 1L8.5 8.5l.94-2.06 2.06-.94-2.06-.94L8.5 2.5l-.94 2.06-2.06.94zm10 10l.94 2.06.94-2.06 2.06-.94-2.06-.94-.94-2.06-.94 2.06-2.06.94z\"/><path d=\"M17.41 7.96l-1.37-1.37c-.4-.4-.92-.59-1.43-.59-.52 0-1.04.2-1.43.59L10.3 9.45l-7.72 7.72c-.78.78-.78 2.05 0 2.83L4 21.41c.39.39.9.59 1.41.59.51 0 1.02-.2 1.41-.59l7.78-7.78 2.81-2.81c.8-.78.8-2.07 0-2.86zM5.41 20L4 18.59l7.72-7.72 1.47 1.35L5.41 20z\"/>\n",
              "  </svg>\n",
              "      </button>\n",
              "      \n",
              "  <style>\n",
              "    .colab-df-container {\n",
              "      display:flex;\n",
              "      flex-wrap:wrap;\n",
              "      gap: 12px;\n",
              "    }\n",
              "\n",
              "    .colab-df-convert {\n",
              "      background-color: #E8F0FE;\n",
              "      border: none;\n",
              "      border-radius: 50%;\n",
              "      cursor: pointer;\n",
              "      display: none;\n",
              "      fill: #1967D2;\n",
              "      height: 32px;\n",
              "      padding: 0 0 0 0;\n",
              "      width: 32px;\n",
              "    }\n",
              "\n",
              "    .colab-df-convert:hover {\n",
              "      background-color: #E2EBFA;\n",
              "      box-shadow: 0px 1px 2px rgba(60, 64, 67, 0.3), 0px 1px 3px 1px rgba(60, 64, 67, 0.15);\n",
              "      fill: #174EA6;\n",
              "    }\n",
              "\n",
              "    [theme=dark] .colab-df-convert {\n",
              "      background-color: #3B4455;\n",
              "      fill: #D2E3FC;\n",
              "    }\n",
              "\n",
              "    [theme=dark] .colab-df-convert:hover {\n",
              "      background-color: #434B5C;\n",
              "      box-shadow: 0px 1px 3px 1px rgba(0, 0, 0, 0.15);\n",
              "      filter: drop-shadow(0px 1px 2px rgba(0, 0, 0, 0.3));\n",
              "      fill: #FFFFFF;\n",
              "    }\n",
              "  </style>\n",
              "\n",
              "      <script>\n",
              "        const buttonEl =\n",
              "          document.querySelector('#df-34fc2623-27b6-4dda-a2f5-ef5876f53b35 button.colab-df-convert');\n",
              "        buttonEl.style.display =\n",
              "          google.colab.kernel.accessAllowed ? 'block' : 'none';\n",
              "\n",
              "        async function convertToInteractive(key) {\n",
              "          const element = document.querySelector('#df-34fc2623-27b6-4dda-a2f5-ef5876f53b35');\n",
              "          const dataTable =\n",
              "            await google.colab.kernel.invokeFunction('convertToInteractive',\n",
              "                                                     [key], {});\n",
              "          if (!dataTable) return;\n",
              "\n",
              "          const docLinkHtml = 'Like what you see? Visit the ' +\n",
              "            '<a target=\"_blank\" href=https://colab.research.google.com/notebooks/data_table.ipynb>data table notebook</a>'\n",
              "            + ' to learn more about interactive tables.';\n",
              "          element.innerHTML = '';\n",
              "          dataTable['output_type'] = 'display_data';\n",
              "          await google.colab.output.renderOutput(dataTable, element);\n",
              "          const docLink = document.createElement('div');\n",
              "          docLink.innerHTML = docLinkHtml;\n",
              "          element.appendChild(docLink);\n",
              "        }\n",
              "      </script>\n",
              "    </div>\n",
              "  </div>\n",
              "  "
            ]
          },
          "metadata": {},
          "execution_count": 5
        }
      ]
    },
    {
      "cell_type": "code",
      "source": [
        "y_train.head()"
      ],
      "metadata": {
        "colab": {
          "base_uri": "https://localhost:8080/",
          "height": 206
        },
        "id": "h2fHbamma9YT",
        "outputId": "48fb507d-88ad-4d35-82d4-812411d67ad5"
      },
      "execution_count": 6,
      "outputs": [
        {
          "output_type": "execute_result",
          "data": {
            "text/plain": [
              "   Unnamed: 0  imdb_score\n",
              "0           0         5.5\n",
              "1           1         7.3\n",
              "2           2         6.3\n",
              "3           3         8.2\n",
              "4           4         7.8"
            ],
            "text/html": [
              "\n",
              "  <div id=\"df-313f0221-a455-4c9e-ad5c-d00438ebd736\">\n",
              "    <div class=\"colab-df-container\">\n",
              "      <div>\n",
              "<style scoped>\n",
              "    .dataframe tbody tr th:only-of-type {\n",
              "        vertical-align: middle;\n",
              "    }\n",
              "\n",
              "    .dataframe tbody tr th {\n",
              "        vertical-align: top;\n",
              "    }\n",
              "\n",
              "    .dataframe thead th {\n",
              "        text-align: right;\n",
              "    }\n",
              "</style>\n",
              "<table border=\"1\" class=\"dataframe\">\n",
              "  <thead>\n",
              "    <tr style=\"text-align: right;\">\n",
              "      <th></th>\n",
              "      <th>Unnamed: 0</th>\n",
              "      <th>imdb_score</th>\n",
              "    </tr>\n",
              "  </thead>\n",
              "  <tbody>\n",
              "    <tr>\n",
              "      <th>0</th>\n",
              "      <td>0</td>\n",
              "      <td>5.5</td>\n",
              "    </tr>\n",
              "    <tr>\n",
              "      <th>1</th>\n",
              "      <td>1</td>\n",
              "      <td>7.3</td>\n",
              "    </tr>\n",
              "    <tr>\n",
              "      <th>2</th>\n",
              "      <td>2</td>\n",
              "      <td>6.3</td>\n",
              "    </tr>\n",
              "    <tr>\n",
              "      <th>3</th>\n",
              "      <td>3</td>\n",
              "      <td>8.2</td>\n",
              "    </tr>\n",
              "    <tr>\n",
              "      <th>4</th>\n",
              "      <td>4</td>\n",
              "      <td>7.8</td>\n",
              "    </tr>\n",
              "  </tbody>\n",
              "</table>\n",
              "</div>\n",
              "      <button class=\"colab-df-convert\" onclick=\"convertToInteractive('df-313f0221-a455-4c9e-ad5c-d00438ebd736')\"\n",
              "              title=\"Convert this dataframe to an interactive table.\"\n",
              "              style=\"display:none;\">\n",
              "        \n",
              "  <svg xmlns=\"http://www.w3.org/2000/svg\" height=\"24px\"viewBox=\"0 0 24 24\"\n",
              "       width=\"24px\">\n",
              "    <path d=\"M0 0h24v24H0V0z\" fill=\"none\"/>\n",
              "    <path d=\"M18.56 5.44l.94 2.06.94-2.06 2.06-.94-2.06-.94-.94-2.06-.94 2.06-2.06.94zm-11 1L8.5 8.5l.94-2.06 2.06-.94-2.06-.94L8.5 2.5l-.94 2.06-2.06.94zm10 10l.94 2.06.94-2.06 2.06-.94-2.06-.94-.94-2.06-.94 2.06-2.06.94z\"/><path d=\"M17.41 7.96l-1.37-1.37c-.4-.4-.92-.59-1.43-.59-.52 0-1.04.2-1.43.59L10.3 9.45l-7.72 7.72c-.78.78-.78 2.05 0 2.83L4 21.41c.39.39.9.59 1.41.59.51 0 1.02-.2 1.41-.59l7.78-7.78 2.81-2.81c.8-.78.8-2.07 0-2.86zM5.41 20L4 18.59l7.72-7.72 1.47 1.35L5.41 20z\"/>\n",
              "  </svg>\n",
              "      </button>\n",
              "      \n",
              "  <style>\n",
              "    .colab-df-container {\n",
              "      display:flex;\n",
              "      flex-wrap:wrap;\n",
              "      gap: 12px;\n",
              "    }\n",
              "\n",
              "    .colab-df-convert {\n",
              "      background-color: #E8F0FE;\n",
              "      border: none;\n",
              "      border-radius: 50%;\n",
              "      cursor: pointer;\n",
              "      display: none;\n",
              "      fill: #1967D2;\n",
              "      height: 32px;\n",
              "      padding: 0 0 0 0;\n",
              "      width: 32px;\n",
              "    }\n",
              "\n",
              "    .colab-df-convert:hover {\n",
              "      background-color: #E2EBFA;\n",
              "      box-shadow: 0px 1px 2px rgba(60, 64, 67, 0.3), 0px 1px 3px 1px rgba(60, 64, 67, 0.15);\n",
              "      fill: #174EA6;\n",
              "    }\n",
              "\n",
              "    [theme=dark] .colab-df-convert {\n",
              "      background-color: #3B4455;\n",
              "      fill: #D2E3FC;\n",
              "    }\n",
              "\n",
              "    [theme=dark] .colab-df-convert:hover {\n",
              "      background-color: #434B5C;\n",
              "      box-shadow: 0px 1px 3px 1px rgba(0, 0, 0, 0.15);\n",
              "      filter: drop-shadow(0px 1px 2px rgba(0, 0, 0, 0.3));\n",
              "      fill: #FFFFFF;\n",
              "    }\n",
              "  </style>\n",
              "\n",
              "      <script>\n",
              "        const buttonEl =\n",
              "          document.querySelector('#df-313f0221-a455-4c9e-ad5c-d00438ebd736 button.colab-df-convert');\n",
              "        buttonEl.style.display =\n",
              "          google.colab.kernel.accessAllowed ? 'block' : 'none';\n",
              "\n",
              "        async function convertToInteractive(key) {\n",
              "          const element = document.querySelector('#df-313f0221-a455-4c9e-ad5c-d00438ebd736');\n",
              "          const dataTable =\n",
              "            await google.colab.kernel.invokeFunction('convertToInteractive',\n",
              "                                                     [key], {});\n",
              "          if (!dataTable) return;\n",
              "\n",
              "          const docLinkHtml = 'Like what you see? Visit the ' +\n",
              "            '<a target=\"_blank\" href=https://colab.research.google.com/notebooks/data_table.ipynb>data table notebook</a>'\n",
              "            + ' to learn more about interactive tables.';\n",
              "          element.innerHTML = '';\n",
              "          dataTable['output_type'] = 'display_data';\n",
              "          await google.colab.output.renderOutput(dataTable, element);\n",
              "          const docLink = document.createElement('div');\n",
              "          docLink.innerHTML = docLinkHtml;\n",
              "          element.appendChild(docLink);\n",
              "        }\n",
              "      </script>\n",
              "    </div>\n",
              "  </div>\n",
              "  "
            ]
          },
          "metadata": {},
          "execution_count": 6
        }
      ]
    },
    {
      "cell_type": "code",
      "source": [
        "X_test.head()"
      ],
      "metadata": {
        "colab": {
          "base_uri": "https://localhost:8080/",
          "height": 317
        },
        "id": "nSUyrrABbXdx",
        "outputId": "085f8d65-d085-4638-c995-1b90d0cce351"
      },
      "execution_count": 7,
      "outputs": [
        {
          "output_type": "execute_result",
          "data": {
            "text/plain": [
              "   Unnamed: 0  USA   UK  France  Canada    R  PG-13   PG    G  History  ...  \\\n",
              "0           0  0.0  1.0     0.0     0.0  0.0    1.0  0.0  0.0      0.0  ...   \n",
              "1           1  0.0  1.0     0.0     0.0  1.0    0.0  0.0  0.0      0.0  ...   \n",
              "2           2  1.0  0.0     0.0     0.0  0.0    1.0  0.0  0.0      0.0  ...   \n",
              "3           3  1.0  0.0     0.0     0.0  0.0    1.0  0.0  0.0      0.0  ...   \n",
              "4           4  0.0  0.0     1.0     0.0  1.0    0.0  0.0  0.0      0.0  ...   \n",
              "\n",
              "   duration  director_facebook_likes  actor_3_facebook_likes  \\\n",
              "0 -0.735613                -0.345177                0.252142   \n",
              "1 -1.183926                 0.467845                0.469015   \n",
              "2 -1.116986                 0.442207               -0.939779   \n",
              "3 -0.498952                -0.087962                0.289574   \n",
              "4  0.189124                -0.264540               -1.260674   \n",
              "\n",
              "   actor_1_facebook_likes     gross  num_voted_users  facenumber_in_poster  \\\n",
              "0                0.221824 -0.827408        -1.106576             -1.073757   \n",
              "1               -0.528296 -1.311966        -1.367711              0.860275   \n",
              "2               -0.470996  0.140587         0.613339             -1.073757   \n",
              "3               -0.761191 -1.223630        -0.828640              0.283456   \n",
              "4                0.517600  0.060209        -0.630798             -1.073757   \n",
              "\n",
              "     budget  actor_2_facebook_likes  movie_facebook_likes  \n",
              "0  0.559955               -0.060395              0.231648  \n",
              "1 -1.663723                0.101769              0.314002  \n",
              "2  0.912601               -0.199589              1.249540  \n",
              "3 -0.144204               -0.131906             -1.051257  \n",
              "4 -0.144204               -0.803069             -1.051257  \n",
              "\n",
              "[5 rows x 43 columns]"
            ],
            "text/html": [
              "\n",
              "  <div id=\"df-f3d375e8-26fa-49dd-a1c5-42ca34bd6c7f\">\n",
              "    <div class=\"colab-df-container\">\n",
              "      <div>\n",
              "<style scoped>\n",
              "    .dataframe tbody tr th:only-of-type {\n",
              "        vertical-align: middle;\n",
              "    }\n",
              "\n",
              "    .dataframe tbody tr th {\n",
              "        vertical-align: top;\n",
              "    }\n",
              "\n",
              "    .dataframe thead th {\n",
              "        text-align: right;\n",
              "    }\n",
              "</style>\n",
              "<table border=\"1\" class=\"dataframe\">\n",
              "  <thead>\n",
              "    <tr style=\"text-align: right;\">\n",
              "      <th></th>\n",
              "      <th>Unnamed: 0</th>\n",
              "      <th>USA</th>\n",
              "      <th>UK</th>\n",
              "      <th>France</th>\n",
              "      <th>Canada</th>\n",
              "      <th>R</th>\n",
              "      <th>PG-13</th>\n",
              "      <th>PG</th>\n",
              "      <th>G</th>\n",
              "      <th>History</th>\n",
              "      <th>...</th>\n",
              "      <th>duration</th>\n",
              "      <th>director_facebook_likes</th>\n",
              "      <th>actor_3_facebook_likes</th>\n",
              "      <th>actor_1_facebook_likes</th>\n",
              "      <th>gross</th>\n",
              "      <th>num_voted_users</th>\n",
              "      <th>facenumber_in_poster</th>\n",
              "      <th>budget</th>\n",
              "      <th>actor_2_facebook_likes</th>\n",
              "      <th>movie_facebook_likes</th>\n",
              "    </tr>\n",
              "  </thead>\n",
              "  <tbody>\n",
              "    <tr>\n",
              "      <th>0</th>\n",
              "      <td>0</td>\n",
              "      <td>0.0</td>\n",
              "      <td>1.0</td>\n",
              "      <td>0.0</td>\n",
              "      <td>0.0</td>\n",
              "      <td>0.0</td>\n",
              "      <td>1.0</td>\n",
              "      <td>0.0</td>\n",
              "      <td>0.0</td>\n",
              "      <td>0.0</td>\n",
              "      <td>...</td>\n",
              "      <td>-0.735613</td>\n",
              "      <td>-0.345177</td>\n",
              "      <td>0.252142</td>\n",
              "      <td>0.221824</td>\n",
              "      <td>-0.827408</td>\n",
              "      <td>-1.106576</td>\n",
              "      <td>-1.073757</td>\n",
              "      <td>0.559955</td>\n",
              "      <td>-0.060395</td>\n",
              "      <td>0.231648</td>\n",
              "    </tr>\n",
              "    <tr>\n",
              "      <th>1</th>\n",
              "      <td>1</td>\n",
              "      <td>0.0</td>\n",
              "      <td>1.0</td>\n",
              "      <td>0.0</td>\n",
              "      <td>0.0</td>\n",
              "      <td>1.0</td>\n",
              "      <td>0.0</td>\n",
              "      <td>0.0</td>\n",
              "      <td>0.0</td>\n",
              "      <td>0.0</td>\n",
              "      <td>...</td>\n",
              "      <td>-1.183926</td>\n",
              "      <td>0.467845</td>\n",
              "      <td>0.469015</td>\n",
              "      <td>-0.528296</td>\n",
              "      <td>-1.311966</td>\n",
              "      <td>-1.367711</td>\n",
              "      <td>0.860275</td>\n",
              "      <td>-1.663723</td>\n",
              "      <td>0.101769</td>\n",
              "      <td>0.314002</td>\n",
              "    </tr>\n",
              "    <tr>\n",
              "      <th>2</th>\n",
              "      <td>2</td>\n",
              "      <td>1.0</td>\n",
              "      <td>0.0</td>\n",
              "      <td>0.0</td>\n",
              "      <td>0.0</td>\n",
              "      <td>0.0</td>\n",
              "      <td>1.0</td>\n",
              "      <td>0.0</td>\n",
              "      <td>0.0</td>\n",
              "      <td>0.0</td>\n",
              "      <td>...</td>\n",
              "      <td>-1.116986</td>\n",
              "      <td>0.442207</td>\n",
              "      <td>-0.939779</td>\n",
              "      <td>-0.470996</td>\n",
              "      <td>0.140587</td>\n",
              "      <td>0.613339</td>\n",
              "      <td>-1.073757</td>\n",
              "      <td>0.912601</td>\n",
              "      <td>-0.199589</td>\n",
              "      <td>1.249540</td>\n",
              "    </tr>\n",
              "    <tr>\n",
              "      <th>3</th>\n",
              "      <td>3</td>\n",
              "      <td>1.0</td>\n",
              "      <td>0.0</td>\n",
              "      <td>0.0</td>\n",
              "      <td>0.0</td>\n",
              "      <td>0.0</td>\n",
              "      <td>1.0</td>\n",
              "      <td>0.0</td>\n",
              "      <td>0.0</td>\n",
              "      <td>0.0</td>\n",
              "      <td>...</td>\n",
              "      <td>-0.498952</td>\n",
              "      <td>-0.087962</td>\n",
              "      <td>0.289574</td>\n",
              "      <td>-0.761191</td>\n",
              "      <td>-1.223630</td>\n",
              "      <td>-0.828640</td>\n",
              "      <td>0.283456</td>\n",
              "      <td>-0.144204</td>\n",
              "      <td>-0.131906</td>\n",
              "      <td>-1.051257</td>\n",
              "    </tr>\n",
              "    <tr>\n",
              "      <th>4</th>\n",
              "      <td>4</td>\n",
              "      <td>0.0</td>\n",
              "      <td>0.0</td>\n",
              "      <td>1.0</td>\n",
              "      <td>0.0</td>\n",
              "      <td>1.0</td>\n",
              "      <td>0.0</td>\n",
              "      <td>0.0</td>\n",
              "      <td>0.0</td>\n",
              "      <td>0.0</td>\n",
              "      <td>...</td>\n",
              "      <td>0.189124</td>\n",
              "      <td>-0.264540</td>\n",
              "      <td>-1.260674</td>\n",
              "      <td>0.517600</td>\n",
              "      <td>0.060209</td>\n",
              "      <td>-0.630798</td>\n",
              "      <td>-1.073757</td>\n",
              "      <td>-0.144204</td>\n",
              "      <td>-0.803069</td>\n",
              "      <td>-1.051257</td>\n",
              "    </tr>\n",
              "  </tbody>\n",
              "</table>\n",
              "<p>5 rows × 43 columns</p>\n",
              "</div>\n",
              "      <button class=\"colab-df-convert\" onclick=\"convertToInteractive('df-f3d375e8-26fa-49dd-a1c5-42ca34bd6c7f')\"\n",
              "              title=\"Convert this dataframe to an interactive table.\"\n",
              "              style=\"display:none;\">\n",
              "        \n",
              "  <svg xmlns=\"http://www.w3.org/2000/svg\" height=\"24px\"viewBox=\"0 0 24 24\"\n",
              "       width=\"24px\">\n",
              "    <path d=\"M0 0h24v24H0V0z\" fill=\"none\"/>\n",
              "    <path d=\"M18.56 5.44l.94 2.06.94-2.06 2.06-.94-2.06-.94-.94-2.06-.94 2.06-2.06.94zm-11 1L8.5 8.5l.94-2.06 2.06-.94-2.06-.94L8.5 2.5l-.94 2.06-2.06.94zm10 10l.94 2.06.94-2.06 2.06-.94-2.06-.94-.94-2.06-.94 2.06-2.06.94z\"/><path d=\"M17.41 7.96l-1.37-1.37c-.4-.4-.92-.59-1.43-.59-.52 0-1.04.2-1.43.59L10.3 9.45l-7.72 7.72c-.78.78-.78 2.05 0 2.83L4 21.41c.39.39.9.59 1.41.59.51 0 1.02-.2 1.41-.59l7.78-7.78 2.81-2.81c.8-.78.8-2.07 0-2.86zM5.41 20L4 18.59l7.72-7.72 1.47 1.35L5.41 20z\"/>\n",
              "  </svg>\n",
              "      </button>\n",
              "      \n",
              "  <style>\n",
              "    .colab-df-container {\n",
              "      display:flex;\n",
              "      flex-wrap:wrap;\n",
              "      gap: 12px;\n",
              "    }\n",
              "\n",
              "    .colab-df-convert {\n",
              "      background-color: #E8F0FE;\n",
              "      border: none;\n",
              "      border-radius: 50%;\n",
              "      cursor: pointer;\n",
              "      display: none;\n",
              "      fill: #1967D2;\n",
              "      height: 32px;\n",
              "      padding: 0 0 0 0;\n",
              "      width: 32px;\n",
              "    }\n",
              "\n",
              "    .colab-df-convert:hover {\n",
              "      background-color: #E2EBFA;\n",
              "      box-shadow: 0px 1px 2px rgba(60, 64, 67, 0.3), 0px 1px 3px 1px rgba(60, 64, 67, 0.15);\n",
              "      fill: #174EA6;\n",
              "    }\n",
              "\n",
              "    [theme=dark] .colab-df-convert {\n",
              "      background-color: #3B4455;\n",
              "      fill: #D2E3FC;\n",
              "    }\n",
              "\n",
              "    [theme=dark] .colab-df-convert:hover {\n",
              "      background-color: #434B5C;\n",
              "      box-shadow: 0px 1px 3px 1px rgba(0, 0, 0, 0.15);\n",
              "      filter: drop-shadow(0px 1px 2px rgba(0, 0, 0, 0.3));\n",
              "      fill: #FFFFFF;\n",
              "    }\n",
              "  </style>\n",
              "\n",
              "      <script>\n",
              "        const buttonEl =\n",
              "          document.querySelector('#df-f3d375e8-26fa-49dd-a1c5-42ca34bd6c7f button.colab-df-convert');\n",
              "        buttonEl.style.display =\n",
              "          google.colab.kernel.accessAllowed ? 'block' : 'none';\n",
              "\n",
              "        async function convertToInteractive(key) {\n",
              "          const element = document.querySelector('#df-f3d375e8-26fa-49dd-a1c5-42ca34bd6c7f');\n",
              "          const dataTable =\n",
              "            await google.colab.kernel.invokeFunction('convertToInteractive',\n",
              "                                                     [key], {});\n",
              "          if (!dataTable) return;\n",
              "\n",
              "          const docLinkHtml = 'Like what you see? Visit the ' +\n",
              "            '<a target=\"_blank\" href=https://colab.research.google.com/notebooks/data_table.ipynb>data table notebook</a>'\n",
              "            + ' to learn more about interactive tables.';\n",
              "          element.innerHTML = '';\n",
              "          dataTable['output_type'] = 'display_data';\n",
              "          await google.colab.output.renderOutput(dataTable, element);\n",
              "          const docLink = document.createElement('div');\n",
              "          docLink.innerHTML = docLinkHtml;\n",
              "          element.appendChild(docLink);\n",
              "        }\n",
              "      </script>\n",
              "    </div>\n",
              "  </div>\n",
              "  "
            ]
          },
          "metadata": {},
          "execution_count": 7
        }
      ]
    },
    {
      "cell_type": "code",
      "source": [
        "y_test.head()"
      ],
      "metadata": {
        "colab": {
          "base_uri": "https://localhost:8080/",
          "height": 206
        },
        "id": "WM4sv9dCbaS2",
        "outputId": "19018b99-417b-4ab9-c7e9-f2435744fa05"
      },
      "execution_count": 8,
      "outputs": [
        {
          "output_type": "execute_result",
          "data": {
            "text/plain": [
              "   Unnamed: 0  imdb_score\n",
              "0           0         4.5\n",
              "1           1         6.8\n",
              "2           2         5.7\n",
              "3           3         2.8\n",
              "4           4         6.7"
            ],
            "text/html": [
              "\n",
              "  <div id=\"df-e2b74925-ec44-4e06-a26d-fa9ed376049e\">\n",
              "    <div class=\"colab-df-container\">\n",
              "      <div>\n",
              "<style scoped>\n",
              "    .dataframe tbody tr th:only-of-type {\n",
              "        vertical-align: middle;\n",
              "    }\n",
              "\n",
              "    .dataframe tbody tr th {\n",
              "        vertical-align: top;\n",
              "    }\n",
              "\n",
              "    .dataframe thead th {\n",
              "        text-align: right;\n",
              "    }\n",
              "</style>\n",
              "<table border=\"1\" class=\"dataframe\">\n",
              "  <thead>\n",
              "    <tr style=\"text-align: right;\">\n",
              "      <th></th>\n",
              "      <th>Unnamed: 0</th>\n",
              "      <th>imdb_score</th>\n",
              "    </tr>\n",
              "  </thead>\n",
              "  <tbody>\n",
              "    <tr>\n",
              "      <th>0</th>\n",
              "      <td>0</td>\n",
              "      <td>4.5</td>\n",
              "    </tr>\n",
              "    <tr>\n",
              "      <th>1</th>\n",
              "      <td>1</td>\n",
              "      <td>6.8</td>\n",
              "    </tr>\n",
              "    <tr>\n",
              "      <th>2</th>\n",
              "      <td>2</td>\n",
              "      <td>5.7</td>\n",
              "    </tr>\n",
              "    <tr>\n",
              "      <th>3</th>\n",
              "      <td>3</td>\n",
              "      <td>2.8</td>\n",
              "    </tr>\n",
              "    <tr>\n",
              "      <th>4</th>\n",
              "      <td>4</td>\n",
              "      <td>6.7</td>\n",
              "    </tr>\n",
              "  </tbody>\n",
              "</table>\n",
              "</div>\n",
              "      <button class=\"colab-df-convert\" onclick=\"convertToInteractive('df-e2b74925-ec44-4e06-a26d-fa9ed376049e')\"\n",
              "              title=\"Convert this dataframe to an interactive table.\"\n",
              "              style=\"display:none;\">\n",
              "        \n",
              "  <svg xmlns=\"http://www.w3.org/2000/svg\" height=\"24px\"viewBox=\"0 0 24 24\"\n",
              "       width=\"24px\">\n",
              "    <path d=\"M0 0h24v24H0V0z\" fill=\"none\"/>\n",
              "    <path d=\"M18.56 5.44l.94 2.06.94-2.06 2.06-.94-2.06-.94-.94-2.06-.94 2.06-2.06.94zm-11 1L8.5 8.5l.94-2.06 2.06-.94-2.06-.94L8.5 2.5l-.94 2.06-2.06.94zm10 10l.94 2.06.94-2.06 2.06-.94-2.06-.94-.94-2.06-.94 2.06-2.06.94z\"/><path d=\"M17.41 7.96l-1.37-1.37c-.4-.4-.92-.59-1.43-.59-.52 0-1.04.2-1.43.59L10.3 9.45l-7.72 7.72c-.78.78-.78 2.05 0 2.83L4 21.41c.39.39.9.59 1.41.59.51 0 1.02-.2 1.41-.59l7.78-7.78 2.81-2.81c.8-.78.8-2.07 0-2.86zM5.41 20L4 18.59l7.72-7.72 1.47 1.35L5.41 20z\"/>\n",
              "  </svg>\n",
              "      </button>\n",
              "      \n",
              "  <style>\n",
              "    .colab-df-container {\n",
              "      display:flex;\n",
              "      flex-wrap:wrap;\n",
              "      gap: 12px;\n",
              "    }\n",
              "\n",
              "    .colab-df-convert {\n",
              "      background-color: #E8F0FE;\n",
              "      border: none;\n",
              "      border-radius: 50%;\n",
              "      cursor: pointer;\n",
              "      display: none;\n",
              "      fill: #1967D2;\n",
              "      height: 32px;\n",
              "      padding: 0 0 0 0;\n",
              "      width: 32px;\n",
              "    }\n",
              "\n",
              "    .colab-df-convert:hover {\n",
              "      background-color: #E2EBFA;\n",
              "      box-shadow: 0px 1px 2px rgba(60, 64, 67, 0.3), 0px 1px 3px 1px rgba(60, 64, 67, 0.15);\n",
              "      fill: #174EA6;\n",
              "    }\n",
              "\n",
              "    [theme=dark] .colab-df-convert {\n",
              "      background-color: #3B4455;\n",
              "      fill: #D2E3FC;\n",
              "    }\n",
              "\n",
              "    [theme=dark] .colab-df-convert:hover {\n",
              "      background-color: #434B5C;\n",
              "      box-shadow: 0px 1px 3px 1px rgba(0, 0, 0, 0.15);\n",
              "      filter: drop-shadow(0px 1px 2px rgba(0, 0, 0, 0.3));\n",
              "      fill: #FFFFFF;\n",
              "    }\n",
              "  </style>\n",
              "\n",
              "      <script>\n",
              "        const buttonEl =\n",
              "          document.querySelector('#df-e2b74925-ec44-4e06-a26d-fa9ed376049e button.colab-df-convert');\n",
              "        buttonEl.style.display =\n",
              "          google.colab.kernel.accessAllowed ? 'block' : 'none';\n",
              "\n",
              "        async function convertToInteractive(key) {\n",
              "          const element = document.querySelector('#df-e2b74925-ec44-4e06-a26d-fa9ed376049e');\n",
              "          const dataTable =\n",
              "            await google.colab.kernel.invokeFunction('convertToInteractive',\n",
              "                                                     [key], {});\n",
              "          if (!dataTable) return;\n",
              "\n",
              "          const docLinkHtml = 'Like what you see? Visit the ' +\n",
              "            '<a target=\"_blank\" href=https://colab.research.google.com/notebooks/data_table.ipynb>data table notebook</a>'\n",
              "            + ' to learn more about interactive tables.';\n",
              "          element.innerHTML = '';\n",
              "          dataTable['output_type'] = 'display_data';\n",
              "          await google.colab.output.renderOutput(dataTable, element);\n",
              "          const docLink = document.createElement('div');\n",
              "          docLink.innerHTML = docLinkHtml;\n",
              "          element.appendChild(docLink);\n",
              "        }\n",
              "      </script>\n",
              "    </div>\n",
              "  </div>\n",
              "  "
            ]
          },
          "metadata": {},
          "execution_count": 8
        }
      ]
    },
    {
      "cell_type": "code",
      "source": [
        "X_val.head()"
      ],
      "metadata": {
        "colab": {
          "base_uri": "https://localhost:8080/",
          "height": 317
        },
        "id": "2jvCGv-abaWe",
        "outputId": "466b2acd-8d21-478f-d4ea-be247db27260"
      },
      "execution_count": 9,
      "outputs": [
        {
          "output_type": "execute_result",
          "data": {
            "text/plain": [
              "   Unnamed: 0  USA   UK  France  Canada    R  PG-13   PG    G  History  ...  \\\n",
              "0           0  0.0  0.0     1.0     0.0  1.0    0.0  0.0  0.0      0.0  ...   \n",
              "1           1  1.0  0.0     0.0     0.0  1.0    0.0  0.0  0.0      0.0  ...   \n",
              "2           2  0.0  0.0     1.0     0.0  0.0    1.0  0.0  0.0      0.0  ...   \n",
              "3           3  0.0  0.0     0.0     0.0  1.0    0.0  0.0  0.0      0.0  ...   \n",
              "4           4  1.0  0.0     0.0     0.0  0.0    1.0  0.0  0.0      0.0  ...   \n",
              "\n",
              "   duration  director_facebook_likes  actor_3_facebook_likes  \\\n",
              "0 -0.859042                 1.021217                0.198436   \n",
              "1  0.379516                 0.224810                0.439787   \n",
              "2  0.649124                -1.610674                0.607601   \n",
              "3 -1.183926                -1.610674               -0.939779   \n",
              "4  0.819149                 1.189677                0.738932   \n",
              "\n",
              "   actor_1_facebook_likes     gross  num_voted_users  facenumber_in_poster  \\\n",
              "0                0.987340  0.060209        -1.030630              0.860275   \n",
              "1               -0.588979 -0.264671        -0.315336              0.283456   \n",
              "2                1.923073 -0.816859        -0.639693              0.860275   \n",
              "3               -0.535972 -1.848496        -1.398692             -1.073757   \n",
              "4                1.176611  1.718805         1.583604             -1.073757   \n",
              "\n",
              "     budget  actor_2_facebook_likes  movie_facebook_likes  \n",
              "0 -0.060363                0.290482             -1.051257  \n",
              "1 -0.189359                0.060977             -1.051257  \n",
              "2 -0.189359                0.349171             -1.051257  \n",
              "3  0.016231               -1.004264              0.522649  \n",
              "4  1.623839                0.836470              1.239672  \n",
              "\n",
              "[5 rows x 43 columns]"
            ],
            "text/html": [
              "\n",
              "  <div id=\"df-31ab94fa-751d-46f8-9024-aa419080ee07\">\n",
              "    <div class=\"colab-df-container\">\n",
              "      <div>\n",
              "<style scoped>\n",
              "    .dataframe tbody tr th:only-of-type {\n",
              "        vertical-align: middle;\n",
              "    }\n",
              "\n",
              "    .dataframe tbody tr th {\n",
              "        vertical-align: top;\n",
              "    }\n",
              "\n",
              "    .dataframe thead th {\n",
              "        text-align: right;\n",
              "    }\n",
              "</style>\n",
              "<table border=\"1\" class=\"dataframe\">\n",
              "  <thead>\n",
              "    <tr style=\"text-align: right;\">\n",
              "      <th></th>\n",
              "      <th>Unnamed: 0</th>\n",
              "      <th>USA</th>\n",
              "      <th>UK</th>\n",
              "      <th>France</th>\n",
              "      <th>Canada</th>\n",
              "      <th>R</th>\n",
              "      <th>PG-13</th>\n",
              "      <th>PG</th>\n",
              "      <th>G</th>\n",
              "      <th>History</th>\n",
              "      <th>...</th>\n",
              "      <th>duration</th>\n",
              "      <th>director_facebook_likes</th>\n",
              "      <th>actor_3_facebook_likes</th>\n",
              "      <th>actor_1_facebook_likes</th>\n",
              "      <th>gross</th>\n",
              "      <th>num_voted_users</th>\n",
              "      <th>facenumber_in_poster</th>\n",
              "      <th>budget</th>\n",
              "      <th>actor_2_facebook_likes</th>\n",
              "      <th>movie_facebook_likes</th>\n",
              "    </tr>\n",
              "  </thead>\n",
              "  <tbody>\n",
              "    <tr>\n",
              "      <th>0</th>\n",
              "      <td>0</td>\n",
              "      <td>0.0</td>\n",
              "      <td>0.0</td>\n",
              "      <td>1.0</td>\n",
              "      <td>0.0</td>\n",
              "      <td>1.0</td>\n",
              "      <td>0.0</td>\n",
              "      <td>0.0</td>\n",
              "      <td>0.0</td>\n",
              "      <td>0.0</td>\n",
              "      <td>...</td>\n",
              "      <td>-0.859042</td>\n",
              "      <td>1.021217</td>\n",
              "      <td>0.198436</td>\n",
              "      <td>0.987340</td>\n",
              "      <td>0.060209</td>\n",
              "      <td>-1.030630</td>\n",
              "      <td>0.860275</td>\n",
              "      <td>-0.060363</td>\n",
              "      <td>0.290482</td>\n",
              "      <td>-1.051257</td>\n",
              "    </tr>\n",
              "    <tr>\n",
              "      <th>1</th>\n",
              "      <td>1</td>\n",
              "      <td>1.0</td>\n",
              "      <td>0.0</td>\n",
              "      <td>0.0</td>\n",
              "      <td>0.0</td>\n",
              "      <td>1.0</td>\n",
              "      <td>0.0</td>\n",
              "      <td>0.0</td>\n",
              "      <td>0.0</td>\n",
              "      <td>0.0</td>\n",
              "      <td>...</td>\n",
              "      <td>0.379516</td>\n",
              "      <td>0.224810</td>\n",
              "      <td>0.439787</td>\n",
              "      <td>-0.588979</td>\n",
              "      <td>-0.264671</td>\n",
              "      <td>-0.315336</td>\n",
              "      <td>0.283456</td>\n",
              "      <td>-0.189359</td>\n",
              "      <td>0.060977</td>\n",
              "      <td>-1.051257</td>\n",
              "    </tr>\n",
              "    <tr>\n",
              "      <th>2</th>\n",
              "      <td>2</td>\n",
              "      <td>0.0</td>\n",
              "      <td>0.0</td>\n",
              "      <td>1.0</td>\n",
              "      <td>0.0</td>\n",
              "      <td>0.0</td>\n",
              "      <td>1.0</td>\n",
              "      <td>0.0</td>\n",
              "      <td>0.0</td>\n",
              "      <td>0.0</td>\n",
              "      <td>...</td>\n",
              "      <td>0.649124</td>\n",
              "      <td>-1.610674</td>\n",
              "      <td>0.607601</td>\n",
              "      <td>1.923073</td>\n",
              "      <td>-0.816859</td>\n",
              "      <td>-0.639693</td>\n",
              "      <td>0.860275</td>\n",
              "      <td>-0.189359</td>\n",
              "      <td>0.349171</td>\n",
              "      <td>-1.051257</td>\n",
              "    </tr>\n",
              "    <tr>\n",
              "      <th>3</th>\n",
              "      <td>3</td>\n",
              "      <td>0.0</td>\n",
              "      <td>0.0</td>\n",
              "      <td>0.0</td>\n",
              "      <td>0.0</td>\n",
              "      <td>1.0</td>\n",
              "      <td>0.0</td>\n",
              "      <td>0.0</td>\n",
              "      <td>0.0</td>\n",
              "      <td>0.0</td>\n",
              "      <td>...</td>\n",
              "      <td>-1.183926</td>\n",
              "      <td>-1.610674</td>\n",
              "      <td>-0.939779</td>\n",
              "      <td>-0.535972</td>\n",
              "      <td>-1.848496</td>\n",
              "      <td>-1.398692</td>\n",
              "      <td>-1.073757</td>\n",
              "      <td>0.016231</td>\n",
              "      <td>-1.004264</td>\n",
              "      <td>0.522649</td>\n",
              "    </tr>\n",
              "    <tr>\n",
              "      <th>4</th>\n",
              "      <td>4</td>\n",
              "      <td>1.0</td>\n",
              "      <td>0.0</td>\n",
              "      <td>0.0</td>\n",
              "      <td>0.0</td>\n",
              "      <td>0.0</td>\n",
              "      <td>1.0</td>\n",
              "      <td>0.0</td>\n",
              "      <td>0.0</td>\n",
              "      <td>0.0</td>\n",
              "      <td>...</td>\n",
              "      <td>0.819149</td>\n",
              "      <td>1.189677</td>\n",
              "      <td>0.738932</td>\n",
              "      <td>1.176611</td>\n",
              "      <td>1.718805</td>\n",
              "      <td>1.583604</td>\n",
              "      <td>-1.073757</td>\n",
              "      <td>1.623839</td>\n",
              "      <td>0.836470</td>\n",
              "      <td>1.239672</td>\n",
              "    </tr>\n",
              "  </tbody>\n",
              "</table>\n",
              "<p>5 rows × 43 columns</p>\n",
              "</div>\n",
              "      <button class=\"colab-df-convert\" onclick=\"convertToInteractive('df-31ab94fa-751d-46f8-9024-aa419080ee07')\"\n",
              "              title=\"Convert this dataframe to an interactive table.\"\n",
              "              style=\"display:none;\">\n",
              "        \n",
              "  <svg xmlns=\"http://www.w3.org/2000/svg\" height=\"24px\"viewBox=\"0 0 24 24\"\n",
              "       width=\"24px\">\n",
              "    <path d=\"M0 0h24v24H0V0z\" fill=\"none\"/>\n",
              "    <path d=\"M18.56 5.44l.94 2.06.94-2.06 2.06-.94-2.06-.94-.94-2.06-.94 2.06-2.06.94zm-11 1L8.5 8.5l.94-2.06 2.06-.94-2.06-.94L8.5 2.5l-.94 2.06-2.06.94zm10 10l.94 2.06.94-2.06 2.06-.94-2.06-.94-.94-2.06-.94 2.06-2.06.94z\"/><path d=\"M17.41 7.96l-1.37-1.37c-.4-.4-.92-.59-1.43-.59-.52 0-1.04.2-1.43.59L10.3 9.45l-7.72 7.72c-.78.78-.78 2.05 0 2.83L4 21.41c.39.39.9.59 1.41.59.51 0 1.02-.2 1.41-.59l7.78-7.78 2.81-2.81c.8-.78.8-2.07 0-2.86zM5.41 20L4 18.59l7.72-7.72 1.47 1.35L5.41 20z\"/>\n",
              "  </svg>\n",
              "      </button>\n",
              "      \n",
              "  <style>\n",
              "    .colab-df-container {\n",
              "      display:flex;\n",
              "      flex-wrap:wrap;\n",
              "      gap: 12px;\n",
              "    }\n",
              "\n",
              "    .colab-df-convert {\n",
              "      background-color: #E8F0FE;\n",
              "      border: none;\n",
              "      border-radius: 50%;\n",
              "      cursor: pointer;\n",
              "      display: none;\n",
              "      fill: #1967D2;\n",
              "      height: 32px;\n",
              "      padding: 0 0 0 0;\n",
              "      width: 32px;\n",
              "    }\n",
              "\n",
              "    .colab-df-convert:hover {\n",
              "      background-color: #E2EBFA;\n",
              "      box-shadow: 0px 1px 2px rgba(60, 64, 67, 0.3), 0px 1px 3px 1px rgba(60, 64, 67, 0.15);\n",
              "      fill: #174EA6;\n",
              "    }\n",
              "\n",
              "    [theme=dark] .colab-df-convert {\n",
              "      background-color: #3B4455;\n",
              "      fill: #D2E3FC;\n",
              "    }\n",
              "\n",
              "    [theme=dark] .colab-df-convert:hover {\n",
              "      background-color: #434B5C;\n",
              "      box-shadow: 0px 1px 3px 1px rgba(0, 0, 0, 0.15);\n",
              "      filter: drop-shadow(0px 1px 2px rgba(0, 0, 0, 0.3));\n",
              "      fill: #FFFFFF;\n",
              "    }\n",
              "  </style>\n",
              "\n",
              "      <script>\n",
              "        const buttonEl =\n",
              "          document.querySelector('#df-31ab94fa-751d-46f8-9024-aa419080ee07 button.colab-df-convert');\n",
              "        buttonEl.style.display =\n",
              "          google.colab.kernel.accessAllowed ? 'block' : 'none';\n",
              "\n",
              "        async function convertToInteractive(key) {\n",
              "          const element = document.querySelector('#df-31ab94fa-751d-46f8-9024-aa419080ee07');\n",
              "          const dataTable =\n",
              "            await google.colab.kernel.invokeFunction('convertToInteractive',\n",
              "                                                     [key], {});\n",
              "          if (!dataTable) return;\n",
              "\n",
              "          const docLinkHtml = 'Like what you see? Visit the ' +\n",
              "            '<a target=\"_blank\" href=https://colab.research.google.com/notebooks/data_table.ipynb>data table notebook</a>'\n",
              "            + ' to learn more about interactive tables.';\n",
              "          element.innerHTML = '';\n",
              "          dataTable['output_type'] = 'display_data';\n",
              "          await google.colab.output.renderOutput(dataTable, element);\n",
              "          const docLink = document.createElement('div');\n",
              "          docLink.innerHTML = docLinkHtml;\n",
              "          element.appendChild(docLink);\n",
              "        }\n",
              "      </script>\n",
              "    </div>\n",
              "  </div>\n",
              "  "
            ]
          },
          "metadata": {},
          "execution_count": 9
        }
      ]
    },
    {
      "cell_type": "code",
      "source": [
        "y_val.head()"
      ],
      "metadata": {
        "colab": {
          "base_uri": "https://localhost:8080/",
          "height": 206
        },
        "id": "dh_0VsFNbaaJ",
        "outputId": "8ad8f0fd-8fe8-4ec3-a646-0a3b8c000562"
      },
      "execution_count": 10,
      "outputs": [
        {
          "output_type": "execute_result",
          "data": {
            "text/plain": [
              "   Unnamed: 0  imdb_score\n",
              "0           0         5.3\n",
              "1           1         6.0\n",
              "2           2         6.5\n",
              "3           3         6.2\n",
              "4           4         6.4"
            ],
            "text/html": [
              "\n",
              "  <div id=\"df-4a5e51d8-4649-46e8-ad5c-27cf12475b2a\">\n",
              "    <div class=\"colab-df-container\">\n",
              "      <div>\n",
              "<style scoped>\n",
              "    .dataframe tbody tr th:only-of-type {\n",
              "        vertical-align: middle;\n",
              "    }\n",
              "\n",
              "    .dataframe tbody tr th {\n",
              "        vertical-align: top;\n",
              "    }\n",
              "\n",
              "    .dataframe thead th {\n",
              "        text-align: right;\n",
              "    }\n",
              "</style>\n",
              "<table border=\"1\" class=\"dataframe\">\n",
              "  <thead>\n",
              "    <tr style=\"text-align: right;\">\n",
              "      <th></th>\n",
              "      <th>Unnamed: 0</th>\n",
              "      <th>imdb_score</th>\n",
              "    </tr>\n",
              "  </thead>\n",
              "  <tbody>\n",
              "    <tr>\n",
              "      <th>0</th>\n",
              "      <td>0</td>\n",
              "      <td>5.3</td>\n",
              "    </tr>\n",
              "    <tr>\n",
              "      <th>1</th>\n",
              "      <td>1</td>\n",
              "      <td>6.0</td>\n",
              "    </tr>\n",
              "    <tr>\n",
              "      <th>2</th>\n",
              "      <td>2</td>\n",
              "      <td>6.5</td>\n",
              "    </tr>\n",
              "    <tr>\n",
              "      <th>3</th>\n",
              "      <td>3</td>\n",
              "      <td>6.2</td>\n",
              "    </tr>\n",
              "    <tr>\n",
              "      <th>4</th>\n",
              "      <td>4</td>\n",
              "      <td>6.4</td>\n",
              "    </tr>\n",
              "  </tbody>\n",
              "</table>\n",
              "</div>\n",
              "      <button class=\"colab-df-convert\" onclick=\"convertToInteractive('df-4a5e51d8-4649-46e8-ad5c-27cf12475b2a')\"\n",
              "              title=\"Convert this dataframe to an interactive table.\"\n",
              "              style=\"display:none;\">\n",
              "        \n",
              "  <svg xmlns=\"http://www.w3.org/2000/svg\" height=\"24px\"viewBox=\"0 0 24 24\"\n",
              "       width=\"24px\">\n",
              "    <path d=\"M0 0h24v24H0V0z\" fill=\"none\"/>\n",
              "    <path d=\"M18.56 5.44l.94 2.06.94-2.06 2.06-.94-2.06-.94-.94-2.06-.94 2.06-2.06.94zm-11 1L8.5 8.5l.94-2.06 2.06-.94-2.06-.94L8.5 2.5l-.94 2.06-2.06.94zm10 10l.94 2.06.94-2.06 2.06-.94-2.06-.94-.94-2.06-.94 2.06-2.06.94z\"/><path d=\"M17.41 7.96l-1.37-1.37c-.4-.4-.92-.59-1.43-.59-.52 0-1.04.2-1.43.59L10.3 9.45l-7.72 7.72c-.78.78-.78 2.05 0 2.83L4 21.41c.39.39.9.59 1.41.59.51 0 1.02-.2 1.41-.59l7.78-7.78 2.81-2.81c.8-.78.8-2.07 0-2.86zM5.41 20L4 18.59l7.72-7.72 1.47 1.35L5.41 20z\"/>\n",
              "  </svg>\n",
              "      </button>\n",
              "      \n",
              "  <style>\n",
              "    .colab-df-container {\n",
              "      display:flex;\n",
              "      flex-wrap:wrap;\n",
              "      gap: 12px;\n",
              "    }\n",
              "\n",
              "    .colab-df-convert {\n",
              "      background-color: #E8F0FE;\n",
              "      border: none;\n",
              "      border-radius: 50%;\n",
              "      cursor: pointer;\n",
              "      display: none;\n",
              "      fill: #1967D2;\n",
              "      height: 32px;\n",
              "      padding: 0 0 0 0;\n",
              "      width: 32px;\n",
              "    }\n",
              "\n",
              "    .colab-df-convert:hover {\n",
              "      background-color: #E2EBFA;\n",
              "      box-shadow: 0px 1px 2px rgba(60, 64, 67, 0.3), 0px 1px 3px 1px rgba(60, 64, 67, 0.15);\n",
              "      fill: #174EA6;\n",
              "    }\n",
              "\n",
              "    [theme=dark] .colab-df-convert {\n",
              "      background-color: #3B4455;\n",
              "      fill: #D2E3FC;\n",
              "    }\n",
              "\n",
              "    [theme=dark] .colab-df-convert:hover {\n",
              "      background-color: #434B5C;\n",
              "      box-shadow: 0px 1px 3px 1px rgba(0, 0, 0, 0.15);\n",
              "      filter: drop-shadow(0px 1px 2px rgba(0, 0, 0, 0.3));\n",
              "      fill: #FFFFFF;\n",
              "    }\n",
              "  </style>\n",
              "\n",
              "      <script>\n",
              "        const buttonEl =\n",
              "          document.querySelector('#df-4a5e51d8-4649-46e8-ad5c-27cf12475b2a button.colab-df-convert');\n",
              "        buttonEl.style.display =\n",
              "          google.colab.kernel.accessAllowed ? 'block' : 'none';\n",
              "\n",
              "        async function convertToInteractive(key) {\n",
              "          const element = document.querySelector('#df-4a5e51d8-4649-46e8-ad5c-27cf12475b2a');\n",
              "          const dataTable =\n",
              "            await google.colab.kernel.invokeFunction('convertToInteractive',\n",
              "                                                     [key], {});\n",
              "          if (!dataTable) return;\n",
              "\n",
              "          const docLinkHtml = 'Like what you see? Visit the ' +\n",
              "            '<a target=\"_blank\" href=https://colab.research.google.com/notebooks/data_table.ipynb>data table notebook</a>'\n",
              "            + ' to learn more about interactive tables.';\n",
              "          element.innerHTML = '';\n",
              "          dataTable['output_type'] = 'display_data';\n",
              "          await google.colab.output.renderOutput(dataTable, element);\n",
              "          const docLink = document.createElement('div');\n",
              "          docLink.innerHTML = docLinkHtml;\n",
              "          element.appendChild(docLink);\n",
              "        }\n",
              "      </script>\n",
              "    </div>\n",
              "  </div>\n",
              "  "
            ]
          },
          "metadata": {},
          "execution_count": 10
        }
      ]
    },
    {
      "cell_type": "code",
      "source": [
        "X_train.drop(columns=['Unnamed: 0'], inplace=True)\n",
        "X_test.drop(columns=['Unnamed: 0'], inplace=True)\n",
        "X_val.drop(columns=['Unnamed: 0'], inplace=True)"
      ],
      "metadata": {
        "id": "w4Z6thmCbp3F"
      },
      "execution_count": 11,
      "outputs": []
    },
    {
      "cell_type": "code",
      "source": [
        "y_train.drop(columns=['Unnamed: 0'], inplace=True)\n",
        "y_test.drop(columns=['Unnamed: 0'], inplace=True)\n",
        "y_val.drop(columns=['Unnamed: 0'], inplace=True)"
      ],
      "metadata": {
        "id": "Vl8D7YsHb63Z"
      },
      "execution_count": 12,
      "outputs": []
    },
    {
      "cell_type": "code",
      "source": [
        "X_train_np = X_train.to_numpy()\n",
        "X_test_np = X_test.to_numpy()\n",
        "X_val_np = X_val.to_numpy()"
      ],
      "metadata": {
        "id": "tyo1-cVvZLKW"
      },
      "execution_count": 13,
      "outputs": []
    },
    {
      "cell_type": "code",
      "source": [
        "y_train_np = y_train.to_numpy()\n",
        "y_test_np = y_test.to_numpy()\n",
        "y_val_np = y_val.to_numpy()"
      ],
      "metadata": {
        "id": "ccd8R-qYces_"
      },
      "execution_count": 14,
      "outputs": []
    },
    {
      "cell_type": "code",
      "source": [
        "X_train_np.shape, X_test_np.shape, X_val_np.shape"
      ],
      "metadata": {
        "colab": {
          "base_uri": "https://localhost:8080/"
        },
        "id": "03oGQDB6dgVf",
        "outputId": "48f0fa50-8ffc-429b-bb55-5d057a2474be"
      },
      "execution_count": 15,
      "outputs": [
        {
          "output_type": "execute_result",
          "data": {
            "text/plain": [
              "((3727, 42), (466, 42), (466, 42))"
            ]
          },
          "metadata": {},
          "execution_count": 15
        }
      ]
    },
    {
      "cell_type": "code",
      "source": [
        "y_train_np.shape, y_test_np.shape, y_val_np.shape"
      ],
      "metadata": {
        "colab": {
          "base_uri": "https://localhost:8080/"
        },
        "id": "js72h9PYZT5y",
        "outputId": "3917ea22-14dc-4bb7-bcde-65e0b3ae59c7"
      },
      "execution_count": 16,
      "outputs": [
        {
          "output_type": "execute_result",
          "data": {
            "text/plain": [
              "((3727, 1), (466, 1), (466, 1))"
            ]
          },
          "metadata": {},
          "execution_count": 16
        }
      ]
    },
    {
      "cell_type": "code",
      "source": [
        "y_train_np = y_train_np.flatten()\n",
        "y_test_np = y_test_np.flatten()\n",
        "y_val_np = y_val_np.flatten()"
      ],
      "metadata": {
        "id": "ATZCoshVdnbs"
      },
      "execution_count": 17,
      "outputs": []
    },
    {
      "cell_type": "code",
      "source": [
        "y_train_np.shape, y_test_np.shape, y_val_np.shape"
      ],
      "metadata": {
        "colab": {
          "base_uri": "https://localhost:8080/"
        },
        "id": "wyPKCe0keAuE",
        "outputId": "e3dd58ad-58cd-4c97-c712-75a695490e91"
      },
      "execution_count": 18,
      "outputs": [
        {
          "output_type": "execute_result",
          "data": {
            "text/plain": [
              "((3727,), (466,), (466,))"
            ]
          },
          "metadata": {},
          "execution_count": 18
        }
      ]
    },
    {
      "cell_type": "markdown",
      "source": [
        "#3. Model Training"
      ],
      "metadata": {
        "id": "bTXY3MpJtR0E"
      }
    },
    {
      "cell_type": "markdown",
      "source": [
        "##3.1. Decision Tree Regressor"
      ],
      "metadata": {
        "id": "NhMrfK0DtYU_"
      }
    },
    {
      "cell_type": "code",
      "source": [
        "from sklearn.metrics import mean_absolute_error as mae\n",
        "\n",
        "max_depths = range(1, 15)\n",
        "training_error = []\n",
        "val_error = []\n",
        "\n",
        "min_val_error = 100000\n",
        "best_max_depth = 0\n",
        "\n",
        "for max_depth in max_depths:\n",
        "    model_dtr = DecisionTreeRegressor(max_depth=max_depth)\n",
        "    model_dtr.fit(X_train_np, y_train_np)\n",
        "    training_error.append(mae(y_train_np, model_dtr.predict(X_train_np)))\n",
        "    val_error_for_this_iter = mae(y_val_np, model_dtr.predict(X_val_np))\n",
        "    val_error.append(val_error_for_this_iter)\n",
        "\n",
        "    if val_error_for_this_iter < min_val_error:\n",
        "      best_max_depth = max_depth\n",
        "      min_val_error = val_error_for_this_iter\n",
        "    \n",
        "plt.plot(max_depths, training_error, color='red', label='Training error')\n",
        "plt.plot(max_depths, val_error, color='green', label='Valuation error')\n",
        "plt.xlabel('Tree depth')\n",
        "plt.ylabel('Mean absolute error')\n",
        "plt.title('Hyperparameter Tuning', pad=15, size=15)\n",
        "plt.legend()"
      ],
      "metadata": {
        "colab": {
          "base_uri": "https://localhost:8080/",
          "height": 323
        },
        "id": "WcOTxNkatc8D",
        "outputId": "39869962-b24a-49d8-fe49-8e98692a5195"
      },
      "execution_count": 19,
      "outputs": [
        {
          "output_type": "execute_result",
          "data": {
            "text/plain": [
              "<matplotlib.legend.Legend at 0x7f31bd3904d0>"
            ]
          },
          "metadata": {},
          "execution_count": 19
        },
        {
          "output_type": "display_data",
          "data": {
            "text/plain": [
              "<Figure size 432x288 with 1 Axes>"
            ],
            "image/png": "[encoded data removed]"
          },
          "metadata": {
            "needs_background": "light"
          }
        }
      ]
    },
    {
      "cell_type": "code",
      "source": [
        "print(\"The best value for max_depth:\", best_max_depth)"
      ],
      "metadata": {
        "colab": {
          "base_uri": "https://localhost:8080/"
        },
        "id": "0gBd2gr5FQ8R",
        "outputId": "7a7a5a29-7fb7-416d-ebdf-51e8c2efe3ad"
      },
      "execution_count": 20,
      "outputs": [
        {
          "output_type": "stream",
          "name": "stdout",
          "text": [
            "The best value for max_depth: 8\n"
          ]
        }
      ]
    },
    {
      "cell_type": "code",
      "source": [
        "print(\"The corresponding validation error:\", min_val_error)"
      ],
      "metadata": {
        "colab": {
          "base_uri": "https://localhost:8080/"
        },
        "id": "eBb4xYCFFDnN",
        "outputId": "c0c481eb-7583-44f8-9a14-fa65e4f27955"
      },
      "execution_count": 21,
      "outputs": [
        {
          "output_type": "stream",
          "name": "stdout",
          "text": [
            "The corresponding validation error: 0.5747793845540512\n"
          ]
        }
      ]
    },
    {
      "cell_type": "markdown",
      "source": [
        "Performance on test set:"
      ],
      "metadata": {
        "id": "t7PpAQvpdOqC"
      }
    },
    {
      "cell_type": "code",
      "source": [
        "tree_regressor = DecisionTreeRegressor(max_depth=best_max_depth)"
      ],
      "metadata": {
        "id": "0kAwedfpbcqS"
      },
      "execution_count": 22,
      "outputs": []
    },
    {
      "cell_type": "code",
      "source": [
        "tree_regressor.fit(X_train_np,y_train_np)\n",
        "predictions = tree_regressor.predict(X_test_np)\n",
        "errors = abs(predictions - y_test_np)\n",
        "mape = 100 * (errors / y_test_np)\n",
        "accuracy = 100 - np.mean(mape)\n",
        "print('Test Accuracy:', round(accuracy, 2), '%')\n",
        "print('Test error:', round(mae(y_val_np, tree_regressor.predict(X_test_np)),3))"
      ],
      "metadata": {
        "colab": {
          "base_uri": "https://localhost:8080/"
        },
        "id": "ixzV4wSlbc2o",
        "outputId": "7e68a1f7-54d9-43d6-974b-03936b8de89d"
      },
      "execution_count": 23,
      "outputs": [
        {
          "output_type": "stream",
          "name": "stdout",
          "text": [
            "Test Accuracy: 87.29 %\n",
            "Test error: 1.006\n"
          ]
        }
      ]
    },
    {
      "cell_type": "markdown",
      "source": [
        "##3.2. Random Forest Regressor"
      ],
      "metadata": {
        "id": "Sz0JhO3h01s_"
      }
    },
    {
      "cell_type": "code",
      "source": [
        "max_depths = range(1, 25)\n",
        "training_error = []\n",
        "val_error = []\n",
        "\n",
        "min_val_error = 100000\n",
        "best_max_depth = 0\n",
        "\n",
        "for max_depth in max_depths:\n",
        "    model_rfr = RandomForestRegressor(n_estimators=50, max_depth=max_depth)\n",
        "    model_rfr.fit(X_train_np, y_train_np)\n",
        "    training_error.append(mae(y_train_np, model_rfr.predict(X_train_np)))\n",
        "    val_error_for_this_iter = mae(y_val_np, model_rfr.predict(X_val_np))\n",
        "    val_error.append(val_error_for_this_iter)\n",
        "\n",
        "    if val_error_for_this_iter < min_val_error:\n",
        "      best_max_depth = max_depth\n",
        "      min_val_error = val_error_for_this_iter\n",
        "    \n",
        "plt.plot(max_depths, training_error, color='red', label='Training error')\n",
        "plt.plot(max_depths, val_error, color='green', label='Valuation error')\n",
        "plt.xlabel('Tree depth')\n",
        "plt.ylabel('Mean absolute error')\n",
        "plt.title('Hyperparameter Tuning', pad=15, size=15)\n",
        "plt.legend()"
      ],
      "metadata": {
        "colab": {
          "base_uri": "https://localhost:8080/",
          "height": 323
        },
        "id": "i0E-qg-YHsAj",
        "outputId": "ba7b397e-af1b-489b-e313-b0008a61209e"
      },
      "execution_count": 24,
      "outputs": [
        {
          "output_type": "execute_result",
          "data": {
            "text/plain": [
              "<matplotlib.legend.Legend at 0x7f31c74eafd0>"
            ]
          },
          "metadata": {},
          "execution_count": 24
        },
        {
          "output_type": "display_data",
          "data": {
            "text/plain": [
              "<Figure size 432x288 with 1 Axes>"
            ],
            "image/png": "[encoded data removed]"
          },
          "metadata": {
            "needs_background": "light"
          }
        }
      ]
    },
    {
      "cell_type": "code",
      "source": [
        "print(\"The best value for max_depth:\", best_max_depth)"
      ],
      "metadata": {
        "colab": {
          "base_uri": "https://localhost:8080/"
        },
        "id": "UCQy_fk9KNao",
        "outputId": "fcd699f4-0da9-433d-b1a5-a62a24837a81"
      },
      "execution_count": 25,
      "outputs": [
        {
          "output_type": "stream",
          "name": "stdout",
          "text": [
            "The best value for max_depth: 21\n"
          ]
        }
      ]
    },
    {
      "cell_type": "code",
      "source": [
        "print(\"The corresponding validation error:\", min_val_error)"
      ],
      "metadata": {
        "colab": {
          "base_uri": "https://localhost:8080/"
        },
        "id": "crw1EDQ-KNmd",
        "outputId": "26234db7-2273-49b0-cee4-758e7d70c8fc"
      },
      "execution_count": 26,
      "outputs": [
        {
          "output_type": "stream",
          "name": "stdout",
          "text": [
            "The corresponding validation error: 0.47876990206872355\n"
          ]
        }
      ]
    },
    {
      "cell_type": "markdown",
      "source": [
        "Performance on test set:"
      ],
      "metadata": {
        "id": "tLYCVHyHcbjT"
      }
    },
    {
      "cell_type": "code",
      "source": [
        "rand_regressor=RandomForestRegressor(n_estimators=50, max_depth = best_max_depth)"
      ],
      "metadata": {
        "id": "pGABltsTWN-Y"
      },
      "execution_count": 27,
      "outputs": []
    },
    {
      "cell_type": "code",
      "source": [
        "rand_regressor.fit(X_train_np,y_train_np)\n",
        "predictions = rand_regressor.predict(X_test_np)\n",
        "errors = abs(predictions - y_test_np)\n",
        "mape = 100 * (errors / y_test_np)\n",
        "accuracy = 100 - np.mean(mape)\n",
        "print('Test Accuracy:', round(accuracy, 2), '%')\n",
        "print('Test error:', round(mae(y_val_np, rand_regressor.predict(X_test_np)),3))"
      ],
      "metadata": {
        "colab": {
          "base_uri": "https://localhost:8080/"
        },
        "id": "inMVk2bdX4TV",
        "outputId": "76bd0719-87e1-4f02-fec9-d4bf85cc70de"
      },
      "execution_count": 28,
      "outputs": [
        {
          "output_type": "stream",
          "name": "stdout",
          "text": [
            "Test Accuracy: 89.33 %\n",
            "Test error: 1.005\n"
          ]
        }
      ]
    },
    {
      "cell_type": "markdown",
      "source": [
        "##XGBoost"
      ],
      "metadata": {
        "id": "vW6ilcCDgVbD"
      }
    },
    {
      "cell_type": "code",
      "source": [
        "max_depths = range(1, 25)\n",
        "training_error = []\n",
        "val_error = []\n",
        "\n",
        "min_val_error = 100000\n",
        "best_max_depth = 0\n",
        "\n",
        "for max_depth in max_depths:\n",
        "    model_xgbr = XGBRegressor(n_estimators=50, max_depth=max_depth, verbosity = 0)\n",
        "    model_xgbr.fit(X_train_np, y_train_np)\n",
        "    training_error.append(mae(y_train_np, model_xgbr.predict(X_train_np)))\n",
        "    val_error_for_this_iter = mae(y_val_np, model_xgbr.predict(X_val_np))\n",
        "    val_error.append(val_error_for_this_iter)\n",
        "\n",
        "    if val_error_for_this_iter < min_val_error:\n",
        "      best_max_depth = max_depth\n",
        "      min_val_error = val_error_for_this_iter\n",
        "    \n",
        "plt.plot(max_depths, training_error, color='red', label='Training error')\n",
        "plt.plot(max_depths, val_error, color='green', label='Valuation error')\n",
        "plt.xlabel('Tree depth')\n",
        "plt.ylabel('Mean absolute error')\n",
        "plt.title('Hyperparameter Tuning', pad=15, size=15)\n",
        "plt.legend()"
      ],
      "metadata": {
        "colab": {
          "base_uri": "https://localhost:8080/",
          "height": 323
        },
        "id": "S-L2en9ill-E",
        "outputId": "e912389a-5cae-4401-cdcc-64bb4fbff6ae"
      },
      "execution_count": 29,
      "outputs": [
        {
          "output_type": "execute_result",
          "data": {
            "text/plain": [
              "<matplotlib.legend.Legend at 0x7f31bcdcd350>"
            ]
          },
          "metadata": {},
          "execution_count": 29
        },
        {
          "output_type": "display_data",
          "data": {
            "text/plain": [
              "<Figure size 432x288 with 1 Axes>"
            ],
            "image/png": "[encoded data removed]"
          },
          "metadata": {
            "needs_background": "light"
          }
        }
      ]
    },
    {
      "cell_type": "code",
      "source": [
        "print(\"The best value for max_depth:\", best_max_depth)"
      ],
      "metadata": {
        "colab": {
          "base_uri": "https://localhost:8080/"
        },
        "id": "MPArk3SilmqV",
        "outputId": "fbd0e9d2-4f83-4484-aef3-1b608f7b61c0"
      },
      "execution_count": 30,
      "outputs": [
        {
          "output_type": "stream",
          "name": "stdout",
          "text": [
            "The best value for max_depth: 8\n"
          ]
        }
      ]
    },
    {
      "cell_type": "code",
      "source": [
        "print(\"The corresponding validation error:\", min_val_error)"
      ],
      "metadata": {
        "colab": {
          "base_uri": "https://localhost:8080/"
        },
        "id": "NHFguqqdlm8q",
        "outputId": "f34cffb7-5c1f-4c93-f31d-7d41edea40c2"
      },
      "execution_count": 31,
      "outputs": [
        {
          "output_type": "stream",
          "name": "stdout",
          "text": [
            "The corresponding validation error: 0.48027012153756465\n"
          ]
        }
      ]
    },
    {
      "cell_type": "markdown",
      "source": [
        "Performance on test set:"
      ],
      "metadata": {
        "id": "1Q7OK7nNnHBP"
      }
    },
    {
      "cell_type": "code",
      "source": [
        "xgb_regressor=XGBRegressor(n_estimators=50, max_depth = best_max_depth, verbosity = 0)"
      ],
      "metadata": {
        "id": "7Z45zwmzlnXJ"
      },
      "execution_count": 32,
      "outputs": []
    },
    {
      "cell_type": "code",
      "source": [
        "xgb_regressor.fit(X_train_np,y_train_np)\n",
        "predictions = xgb_regressor.predict(X_test_np)\n",
        "errors = abs(predictions - y_test_np)\n",
        "mape = 100 * (errors / y_test_np)\n",
        "accuracy = 100 - np.mean(mape)\n",
        "print('Test Accuracy:', round(accuracy, 2), '%')\n",
        "print('Test error:', round(mae(y_val_np, xgb_regressor.predict(X_test_np)),3))"
      ],
      "metadata": {
        "colab": {
          "base_uri": "https://localhost:8080/"
        },
        "id": "_WSUCaHqnfYt",
        "outputId": "06c19f90-cf83-47aa-aa0b-c0d79a3c767e"
      },
      "execution_count": 33,
      "outputs": [
        {
          "output_type": "stream",
          "name": "stdout",
          "text": [
            "Test Accuracy: 89.68 %\n",
            "Test error: 1.003\n"
          ]
        }
      ]
    },
    {
      "cell_type": "markdown",
      "source": [
        "##Neural Network"
      ],
      "metadata": {
        "id": "h7P2-tqYrsWY"
      }
    },
    {
      "cell_type": "code",
      "source": [
        "from tensorflow.keras.models import Sequential\n",
        "from tensorflow.keras.layers import *\n",
        "from tensorflow.keras.callbacks import ModelCheckpoint\n",
        "from tensorflow.keras.metrics import MeanAbsoluteError\n",
        "from tensorflow.keras.optimizers import Adam"
      ],
      "metadata": {
        "id": "Wo0bNIVerys1"
      },
      "execution_count": 34,
      "outputs": []
    },
    {
      "cell_type": "code",
      "source": [
        "simple_nn = Sequential()\n",
        "\n",
        "\n",
        "simple_nn.add(InputLayer((42,)))\n",
        "simple_nn.add(Dense(30, 'relu'))\n",
        "simple_nn.add(Dense(20, 'relu'))\n",
        "simple_nn.add(Dense(5, 'relu'))\n",
        "simple_nn.add(Dense(1, 'linear'))\n",
        "\n",
        "opt = Adam(learning_rate=.01)\n",
        "cp = ModelCheckpoint('/content/sample_data/simple_nn', save_best_only=True)\n",
        "simple_nn.compile(optimizer=opt, loss='mse', metrics=[MeanAbsoluteError()])\n",
        "simple_nn.summary()"
      ],
      "metadata": {
        "colab": {
          "base_uri": "https://localhost:8080/"
        },
        "id": "NVRYgzM6rzpb",
        "outputId": "92b47c42-23bb-4ec6-a095-b8f9e63210d6"
      },
      "execution_count": 35,
      "outputs": [
        {
          "output_type": "stream",
          "name": "stdout",
          "text": [
            "Model: \"sequential\"\n",
            "_________________________________________________________________\n",
            " Layer (type)                Output Shape              Param #   \n",
            "=================================================================\n",
            " dense (Dense)               (None, 30)                1290      \n",
            "                                                                 \n",
            " dense_1 (Dense)             (None, 20)                620       \n",
            "                                                                 \n",
            " dense_2 (Dense)             (None, 5)                 105       \n",
            "                                                                 \n",
            " dense_3 (Dense)             (None, 1)                 6         \n",
            "                                                                 \n",
            "=================================================================\n",
            "Total params: 2,021\n",
            "Trainable params: 2,021\n",
            "Non-trainable params: 0\n",
            "_________________________________________________________________\n"
          ]
        }
      ]
    },
    {
      "cell_type": "code",
      "source": [
        "history = simple_nn.fit(x=X_train_np, y=y_train_np, validation_data=(X_val_np, y_val_np), callbacks=[cp], epochs=50, batch_size = 64)"
      ],
      "metadata": {
        "colab": {
          "base_uri": "https://localhost:8080/"
        },
        "id": "eS7aMxy_r0FQ",
        "outputId": "bcad4c35-2b93-488b-f274-c8a67fa531c2"
      },
      "execution_count": 36,
      "outputs": [
        {
          "output_type": "stream",
          "name": "stdout",
          "text": [
            "Epoch 1/50\n",
            "46/59 [======================>.......] - ETA: 0s - loss: 12.4414 - mean_absolute_error: 2.7392INFO:tensorflow:Assets written to: /content/sample_data/simple_nn/assets\n",
            "59/59 [==============================] - 2s 21ms/step - loss: 10.1088 - mean_absolute_error: 2.3576 - val_loss: 1.2029 - val_mean_absolute_error: 0.8714\n",
            "Epoch 2/50\n",
            "47/59 [======================>.......] - ETA: 0s - loss: 1.0876 - mean_absolute_error: 0.8017INFO:tensorflow:Assets written to: /content/sample_data/simple_nn/assets\n",
            "59/59 [==============================] - 1s 16ms/step - loss: 1.0484 - mean_absolute_error: 0.7841 - val_loss: 0.8723 - val_mean_absolute_error: 0.7171\n",
            "Epoch 3/50\n",
            "52/59 [=========================>....] - ETA: 0s - loss: 0.8733 - mean_absolute_error: 0.7003INFO:tensorflow:Assets written to: /content/sample_data/simple_nn/assets\n",
            "59/59 [==============================] - 1s 15ms/step - loss: 0.8703 - mean_absolute_error: 0.7004 - val_loss: 0.7511 - val_mean_absolute_error: 0.6528\n",
            "Epoch 4/50\n",
            "51/59 [========================>.....] - ETA: 0s - loss: 0.7765 - mean_absolute_error: 0.6585INFO:tensorflow:Assets written to: /content/sample_data/simple_nn/assets\n",
            "59/59 [==============================] - 1s 16ms/step - loss: 0.7797 - mean_absolute_error: 0.6608 - val_loss: 0.7379 - val_mean_absolute_error: 0.6500\n",
            "Epoch 5/50\n",
            "48/59 [=======================>......] - ETA: 0s - loss: 0.7409 - mean_absolute_error: 0.6372INFO:tensorflow:Assets written to: /content/sample_data/simple_nn/assets\n",
            "59/59 [==============================] - 1s 15ms/step - loss: 0.7136 - mean_absolute_error: 0.6261 - val_loss: 0.6286 - val_mean_absolute_error: 0.5964\n",
            "Epoch 6/50\n",
            "42/59 [====================>.........] - ETA: 0s - loss: 0.6597 - mean_absolute_error: 0.6067INFO:tensorflow:Assets written to: /content/sample_data/simple_nn/assets\n",
            "59/59 [==============================] - 1s 19ms/step - loss: 0.6607 - mean_absolute_error: 0.6021 - val_loss: 0.6105 - val_mean_absolute_error: 0.5877\n",
            "Epoch 7/50\n",
            "49/59 [=======================>......] - ETA: 0s - loss: 0.6253 - mean_absolute_error: 0.5842INFO:tensorflow:Assets written to: /content/sample_data/simple_nn/assets\n",
            "59/59 [==============================] - 1s 15ms/step - loss: 0.6259 - mean_absolute_error: 0.5832 - val_loss: 0.5722 - val_mean_absolute_error: 0.5696\n",
            "Epoch 8/50\n",
            "40/59 [===================>..........] - ETA: 0s - loss: 0.6460 - mean_absolute_error: 0.5935INFO:tensorflow:Assets written to: /content/sample_data/simple_nn/assets\n",
            "59/59 [==============================] - 1s 16ms/step - loss: 0.6130 - mean_absolute_error: 0.5834 - val_loss: 0.5485 - val_mean_absolute_error: 0.5573\n",
            "Epoch 9/50\n",
            "59/59 [==============================] - 0s 3ms/step - loss: 0.5565 - mean_absolute_error: 0.5443 - val_loss: 0.5678 - val_mean_absolute_error: 0.5797\n",
            "Epoch 10/50\n",
            "48/59 [=======================>......] - ETA: 0s - loss: 0.5338 - mean_absolute_error: 0.5365INFO:tensorflow:Assets written to: /content/sample_data/simple_nn/assets\n",
            "59/59 [==============================] - 1s 16ms/step - loss: 0.5415 - mean_absolute_error: 0.5384 - val_loss: 0.5427 - val_mean_absolute_error: 0.5447\n",
            "Epoch 11/50\n",
            "46/59 [======================>.......] - ETA: 0s - loss: 0.5381 - mean_absolute_error: 0.5309INFO:tensorflow:Assets written to: /content/sample_data/simple_nn/assets\n",
            "59/59 [==============================] - 1s 15ms/step - loss: 0.5331 - mean_absolute_error: 0.5314 - val_loss: 0.5055 - val_mean_absolute_error: 0.5282\n",
            "Epoch 12/50\n",
            "59/59 [==============================] - 0s 3ms/step - loss: 0.5208 - mean_absolute_error: 0.5241 - val_loss: 0.5632 - val_mean_absolute_error: 0.5805\n",
            "Epoch 13/50\n",
            "59/59 [==============================] - 0s 3ms/step - loss: 0.5154 - mean_absolute_error: 0.5287 - val_loss: 0.5134 - val_mean_absolute_error: 0.5449\n",
            "Epoch 14/50\n",
            "59/59 [==============================] - 0s 3ms/step - loss: 0.5114 - mean_absolute_error: 0.5239 - val_loss: 0.5088 - val_mean_absolute_error: 0.5395\n",
            "Epoch 15/50\n",
            "59/59 [==============================] - 0s 3ms/step - loss: 0.5006 - mean_absolute_error: 0.5179 - val_loss: 0.5220 - val_mean_absolute_error: 0.5541\n",
            "Epoch 16/50\n",
            "59/59 [==============================] - 0s 3ms/step - loss: 0.4820 - mean_absolute_error: 0.5023 - val_loss: 0.5059 - val_mean_absolute_error: 0.5482\n",
            "Epoch 17/50\n",
            "59/59 [==============================] - 0s 3ms/step - loss: 0.4761 - mean_absolute_error: 0.5022 - val_loss: 0.5138 - val_mean_absolute_error: 0.5449\n",
            "Epoch 18/50\n",
            "59/59 [==============================] - 0s 3ms/step - loss: 0.4726 - mean_absolute_error: 0.4993 - val_loss: 0.5241 - val_mean_absolute_error: 0.5616\n",
            "Epoch 19/50\n",
            "52/59 [=========================>....] - ETA: 0s - loss: 0.4706 - mean_absolute_error: 0.5003INFO:tensorflow:Assets written to: /content/sample_data/simple_nn/assets\n",
            "59/59 [==============================] - 1s 15ms/step - loss: 0.4743 - mean_absolute_error: 0.5021 - val_loss: 0.4863 - val_mean_absolute_error: 0.5358\n",
            "Epoch 20/50\n",
            "59/59 [==============================] - 0s 3ms/step - loss: 0.4644 - mean_absolute_error: 0.4949 - val_loss: 0.5044 - val_mean_absolute_error: 0.5560\n",
            "Epoch 21/50\n",
            "59/59 [==============================] - 0s 3ms/step - loss: 0.4678 - mean_absolute_error: 0.4998 - val_loss: 0.5003 - val_mean_absolute_error: 0.5292\n",
            "Epoch 22/50\n",
            "59/59 [==============================] - 0s 3ms/step - loss: 0.4731 - mean_absolute_error: 0.5054 - val_loss: 0.5372 - val_mean_absolute_error: 0.5769\n",
            "Epoch 23/50\n",
            "59/59 [==============================] - 0s 3ms/step - loss: 0.4752 - mean_absolute_error: 0.5055 - val_loss: 0.4887 - val_mean_absolute_error: 0.5456\n",
            "Epoch 24/50\n",
            "47/59 [======================>.......] - ETA: 0s - loss: 0.4680 - mean_absolute_error: 0.4958INFO:tensorflow:Assets written to: /content/sample_data/simple_nn/assets\n",
            "59/59 [==============================] - 1s 15ms/step - loss: 0.4594 - mean_absolute_error: 0.4945 - val_loss: 0.4568 - val_mean_absolute_error: 0.5065\n",
            "Epoch 25/50\n",
            "59/59 [==============================] - 0s 3ms/step - loss: 0.4516 - mean_absolute_error: 0.4912 - val_loss: 0.4781 - val_mean_absolute_error: 0.5334\n",
            "Epoch 26/50\n",
            "59/59 [==============================] - 0s 3ms/step - loss: 0.4631 - mean_absolute_error: 0.4978 - val_loss: 0.4686 - val_mean_absolute_error: 0.5160\n",
            "Epoch 27/50\n",
            "59/59 [==============================] - 0s 3ms/step - loss: 0.4515 - mean_absolute_error: 0.4966 - val_loss: 0.4930 - val_mean_absolute_error: 0.5401\n",
            "Epoch 28/50\n",
            "59/59 [==============================] - 0s 3ms/step - loss: 0.4465 - mean_absolute_error: 0.4875 - val_loss: 0.4577 - val_mean_absolute_error: 0.5124\n",
            "Epoch 29/50\n",
            "59/59 [==============================] - 0s 3ms/step - loss: 0.4364 - mean_absolute_error: 0.4838 - val_loss: 0.4580 - val_mean_absolute_error: 0.5204\n",
            "Epoch 30/50\n",
            "59/59 [==============================] - 0s 3ms/step - loss: 0.4396 - mean_absolute_error: 0.4874 - val_loss: 0.5225 - val_mean_absolute_error: 0.5684\n",
            "Epoch 31/50\n",
            "59/59 [==============================] - 0s 3ms/step - loss: 0.4391 - mean_absolute_error: 0.4904 - val_loss: 0.5065 - val_mean_absolute_error: 0.5588\n",
            "Epoch 32/50\n",
            "59/59 [==============================] - 0s 3ms/step - loss: 0.4405 - mean_absolute_error: 0.4862 - val_loss: 0.4944 - val_mean_absolute_error: 0.5308\n",
            "Epoch 33/50\n",
            "59/59 [==============================] - 0s 3ms/step - loss: 0.4178 - mean_absolute_error: 0.4735 - val_loss: 0.4925 - val_mean_absolute_error: 0.5404\n",
            "Epoch 34/50\n",
            "59/59 [==============================] - 0s 3ms/step - loss: 0.4285 - mean_absolute_error: 0.4804 - val_loss: 0.5108 - val_mean_absolute_error: 0.5480\n",
            "Epoch 35/50\n",
            "59/59 [==============================] - 0s 3ms/step - loss: 0.4225 - mean_absolute_error: 0.4791 - val_loss: 0.4642 - val_mean_absolute_error: 0.5143\n",
            "Epoch 36/50\n",
            "59/59 [==============================] - 0s 3ms/step - loss: 0.4171 - mean_absolute_error: 0.4738 - val_loss: 0.4726 - val_mean_absolute_error: 0.5235\n",
            "Epoch 37/50\n",
            "59/59 [==============================] - 0s 3ms/step - loss: 0.4156 - mean_absolute_error: 0.4736 - val_loss: 0.4874 - val_mean_absolute_error: 0.5289\n",
            "Epoch 38/50\n",
            "59/59 [==============================] - 0s 3ms/step - loss: 0.4092 - mean_absolute_error: 0.4716 - val_loss: 0.4945 - val_mean_absolute_error: 0.5164\n",
            "Epoch 39/50\n",
            "59/59 [==============================] - 0s 3ms/step - loss: 0.4011 - mean_absolute_error: 0.4675 - val_loss: 0.5095 - val_mean_absolute_error: 0.5431\n",
            "Epoch 40/50\n",
            "59/59 [==============================] - 0s 3ms/step - loss: 0.4026 - mean_absolute_error: 0.4687 - val_loss: 0.5092 - val_mean_absolute_error: 0.5441\n",
            "Epoch 41/50\n",
            "59/59 [==============================] - 0s 3ms/step - loss: 0.4034 - mean_absolute_error: 0.4686 - val_loss: 0.5494 - val_mean_absolute_error: 0.5649\n",
            "Epoch 42/50\n",
            "59/59 [==============================] - 0s 3ms/step - loss: 0.4181 - mean_absolute_error: 0.4833 - val_loss: 0.4789 - val_mean_absolute_error: 0.5199\n",
            "Epoch 43/50\n",
            "59/59 [==============================] - 0s 2ms/step - loss: 0.3914 - mean_absolute_error: 0.4631 - val_loss: 0.4820 - val_mean_absolute_error: 0.5321\n",
            "Epoch 44/50\n",
            "59/59 [==============================] - 0s 3ms/step - loss: 0.4092 - mean_absolute_error: 0.4760 - val_loss: 0.5393 - val_mean_absolute_error: 0.5491\n",
            "Epoch 45/50\n",
            "59/59 [==============================] - 0s 3ms/step - loss: 0.4095 - mean_absolute_error: 0.4776 - val_loss: 0.4931 - val_mean_absolute_error: 0.5418\n",
            "Epoch 46/50\n",
            "59/59 [==============================] - 0s 3ms/step - loss: 0.3936 - mean_absolute_error: 0.4647 - val_loss: 0.5353 - val_mean_absolute_error: 0.5437\n",
            "Epoch 47/50\n",
            "59/59 [==============================] - 0s 3ms/step - loss: 0.3778 - mean_absolute_error: 0.4520 - val_loss: 0.5251 - val_mean_absolute_error: 0.5557\n",
            "Epoch 48/50\n",
            "59/59 [==============================] - 0s 3ms/step - loss: 0.4055 - mean_absolute_error: 0.4771 - val_loss: 0.5391 - val_mean_absolute_error: 0.5686\n",
            "Epoch 49/50\n",
            "59/59 [==============================] - 0s 3ms/step - loss: 0.3931 - mean_absolute_error: 0.4666 - val_loss: 0.5230 - val_mean_absolute_error: 0.5313\n",
            "Epoch 50/50\n",
            "59/59 [==============================] - 0s 3ms/step - loss: 0.3804 - mean_absolute_error: 0.4549 - val_loss: 0.5451 - val_mean_absolute_error: 0.5716\n"
          ]
        }
      ]
    },
    {
      "cell_type": "code",
      "source": [
        "plt.plot(history.history['loss'])\n",
        "plt.plot(history.history['val_loss'])\n",
        "plt.title('model loss')\n",
        "plt.ylabel('loss')\n",
        "plt.xlabel('epoch')\n",
        "plt.legend(['train', 'validation'], loc='upper left')\n",
        "plt.show()"
      ],
      "metadata": {
        "colab": {
          "base_uri": "https://localhost:8080/",
          "height": 295
        },
        "id": "W9ljfQyaxDID",
        "outputId": "43bab535-bd53-4a07-90af-129b8b17ae9a"
      },
      "execution_count": 37,
      "outputs": [
        {
          "output_type": "display_data",
          "data": {
            "text/plain": [
              "<Figure size 432x288 with 1 Axes>"
            ],
            "image/png": "[encoded data removed]"
          },
          "metadata": {
            "needs_background": "light"
          }
        }
      ]
    },
    {
      "cell_type": "code",
      "source": [
        "plt.plot(history.history['mean_absolute_error'])\n",
        "plt.plot(history.history['val_mean_absolute_error'])\n",
        "plt.title('model mae')\n",
        "plt.ylabel('mae')\n",
        "plt.xlabel('epoch')\n",
        "plt.legend(['train', 'validation'], loc='upper left')\n",
        "plt.show()"
      ],
      "metadata": {
        "colab": {
          "base_uri": "https://localhost:8080/",
          "height": 295
        },
        "id": "2RPE_hW7xDeD",
        "outputId": "e667a8e2-788f-4eec-c1aa-b2de3bb3633d"
      },
      "execution_count": 38,
      "outputs": [
        {
          "output_type": "display_data",
          "data": {
            "text/plain": [
              "<Figure size 432x288 with 1 Axes>"
            ],
            "image/png": "[encoded data removed]"
          },
          "metadata": {
            "needs_background": "light"
          }
        }
      ]
    },
    {
      "cell_type": "code",
      "source": [
        "predictions = simple_nn.predict(X_test_np)"
      ],
      "metadata": {
        "id": "SyBd1q0zr0i0"
      },
      "execution_count": 39,
      "outputs": []
    },
    {
      "cell_type": "code",
      "source": [
        "errors = abs(predictions - y_test_np)\n",
        "mape = 100 * (errors / y_test_np)\n",
        "accuracy = 100 - np.mean(mape)\n",
        "print('Test Accuracy:', round(accuracy, 2), '%')\n",
        "print('Test error:', round(mae(y_val_np, simple_nn.predict(X_test_np)),3))"
      ],
      "metadata": {
        "colab": {
          "base_uri": "https://localhost:8080/"
        },
        "id": "guufUYFMr1c-",
        "outputId": "a08cba15-0ce5-4b3f-8533-4705eabc0683"
      },
      "execution_count": 40,
      "outputs": [
        {
          "output_type": "stream",
          "name": "stdout",
          "text": [
            "Test Accuracy: 80.23 %\n",
            "Test error: 1.059\n"
          ]
        }
      ]
    },
    {
      "cell_type": "markdown",
      "source": [
        "##3. Results"
      ],
      "metadata": {
        "id": "jcdZJOPcoWd5"
      }
    },
    {
      "cell_type": "markdown",
      "source": [
        "The summary of the different models' performance on the test dataset are as follows:"
      ],
      "metadata": {
        "id": "Jf7n13xK2fvD"
      }
    },
    {
      "cell_type": "markdown",
      "source": [
        "| Model | Mean Absolute Error | Accuracy |\n",
        "| --- | --- | --- |\n",
        "| Decision Tree Regressor | 1.006 | 87.29% |\n",
        "| Random Forest Regressor | 1.005 | 89.33% |\n",
        "| XGBoost Regressor | 1.003 | 89.68% |\n",
        "| Neural Network | 1.059 | 80.23% |"
      ],
      "metadata": {
        "id": "vEPP0TskyOXn"
      }
    },
    {
      "cell_type": "markdown",
      "source": [
        "Based on these results, we can conclude that XGBoost performs better than other algorithms, although only by a small distance. It maybe possible to get more juice out of these models by further tuning other hyperparameters. "
      ],
      "metadata": {
        "id": "_rR60E3h2ql-"
      }
    }
  ]
}